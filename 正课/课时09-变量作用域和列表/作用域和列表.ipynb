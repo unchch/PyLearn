{
 "cells": [
  {
   "cell_type": "markdown",
   "metadata": {},
   "source": [
    "# 变量作用域\n",
    "- 变量作用范围限制\n",
    "- 分类\n",
    "  - 全局变量（global）：在函数外部定义\n",
    "  - 局部变量（local）：在函数内部定义\n",
    "-变量的作用范围：\n",
    "  - 全局变量：在整个全局范围内都有效\n",
    "    - 全局变量在局部可以使用，即函数内部可以使用函数外部定义的变量\n",
    "    - 局部变量在局部范围使用，在全局范围不能使用\n",
    "- LEGB原则\n",
    "  - L: local局部\n",
    "  - E: Enclosing function locale 外部嵌套函数作用域\n",
    "  - G: Global module 函数定义所在模块作用域\n",
    "  - B: Bulidin python内置作用域"
   ]
  },
  {
   "cell_type": "code",
   "execution_count": 9,
   "metadata": {
    "scrolled": true
   },
   "outputs": [
    {
     "name": "stdout",
     "output_type": "stream",
     "text": [
      "100\n",
      "100\n",
      "I am in fun\n",
      "99\n"
     ]
    },
    {
     "ename": "NameError",
     "evalue": "name 'a2' is not defined",
     "output_type": "error",
     "traceback": [
      "\u001b[0;31m---------------------------------------------------------------------------\u001b[0m",
      "\u001b[0;31mNameError\u001b[0m                                 Traceback (most recent call last)",
      "\u001b[0;32m<ipython-input-9-a156b78447d1>\u001b[0m in \u001b[0;36m<module>\u001b[0;34m\u001b[0m\n\u001b[1;32m     10\u001b[0m \u001b[0mfun\u001b[0m\u001b[0;34m(\u001b[0m\u001b[0;34m)\u001b[0m\u001b[0;34m\u001b[0m\u001b[0m\n\u001b[1;32m     11\u001b[0m \u001b[0;34m\u001b[0m\u001b[0m\n\u001b[0;32m---> 12\u001b[0;31m \u001b[0mprint\u001b[0m\u001b[0;34m(\u001b[0m\u001b[0ma2\u001b[0m\u001b[0;34m)\u001b[0m\u001b[0;34m\u001b[0m\u001b[0m\n\u001b[0m",
      "\u001b[0;31mNameError\u001b[0m: name 'a2' is not defined"
     ]
    }
   ],
   "source": [
    "a1 = 100 # 全局\n",
    "def fun():\n",
    "    print(a1)\n",
    "    print(\"I am in fun\")\n",
    "    \n",
    "    a2 = 99 # local 局部\n",
    "    print(a2)\n",
    "    \n",
    "print(a1)\n",
    "fun()\n",
    "\n",
    "print(a2)"
   ]
  },
  {
   "cell_type": "markdown",
   "metadata": {},
   "source": [
    "## 提升局部变量为全局变量\n",
    "- 使用 global\n"
   ]
  },
  {
   "cell_type": "code",
   "execution_count": 16,
   "metadata": {},
   "outputs": [
    {
     "ename": "NameError",
     "evalue": "name 'b1' is not defined",
     "output_type": "error",
     "traceback": [
      "\u001b[0;31m---------------------------------------------------------------------------\u001b[0m",
      "\u001b[0;31mNameError\u001b[0m                                 Traceback (most recent call last)",
      "\u001b[0;32m<ipython-input-16-926bec08bc33>\u001b[0m in \u001b[0;36m<module>\u001b[0;34m\u001b[0m\n\u001b[1;32m      9\u001b[0m     \u001b[0mprint\u001b[0m\u001b[0;34m(\u001b[0m\u001b[0mb2\u001b[0m\u001b[0;34m)\u001b[0m\u001b[0;34m\u001b[0m\u001b[0m\n\u001b[1;32m     10\u001b[0m \u001b[0;34m\u001b[0m\u001b[0m\n\u001b[0;32m---> 11\u001b[0;31m \u001b[0mprint\u001b[0m\u001b[0;34m(\u001b[0m\u001b[0mb1\u001b[0m\u001b[0;34m)\u001b[0m\u001b[0;34m\u001b[0m\u001b[0m\n\u001b[0m\u001b[1;32m     12\u001b[0m \u001b[0mprint\u001b[0m\u001b[0;34m(\u001b[0m\u001b[0mb2\u001b[0m\u001b[0;34m)\u001b[0m\u001b[0;34m\u001b[0m\u001b[0m\n\u001b[1;32m     13\u001b[0m \u001b[0mfun\u001b[0m\u001b[0;34m(\u001b[0m\u001b[0;34m)\u001b[0m\u001b[0;34m\u001b[0m\u001b[0m\n",
      "\u001b[0;31mNameError\u001b[0m: name 'b1' is not defined"
     ]
    }
   ],
   "source": [
    "def fun():\n",
    "    global b1\n",
    "    b1 = 100\n",
    "    \n",
    "    print(b1)\n",
    "    print(\"I am in fun\")\n",
    "    \n",
    "    b2 = 99 # local 局部\n",
    "    print(b2)\n",
    "    \n",
    "print(b1)\n",
    "print(b2)\n",
    "fun()"
   ]
  },
  {
   "cell_type": "markdown",
   "metadata": {},
   "source": [
    "## globals locals 函数\n",
    "- 可以通过这两个函数显示出全局变量和局部变量"
   ]
  },
  {
   "cell_type": "code",
   "execution_count": 21,
   "metadata": {},
   "outputs": [
    {
     "name": "stdout",
     "output_type": "stream",
     "text": [
      "Local={'e': 111, 'd': 200, 'c': 100}\n",
      "Globals={'__name__': '__main__', '__doc__': 'Automatically created module for IPython interactive environment', '__package__': None, '__loader__': None, '__spec__': None, '__builtin__': <module 'builtins' (built-in)>, '__builtins__': <module 'builtins' (built-in)>, '_ih': ['', 'a1 = 100 # 全局\\ndef fun():\\n    print(a)\\n    print(\"I am in fun\")\\n    \\n    a2 = 99 # local\\n    print(a2)\\n    \\nprint(a1)', 'a1 = 100 # 全局\\ndef fun():\\n    print(a)\\n    print(\"I am in fun\")\\n    \\n    a2 = 99 # local\\n    print(a2)\\n    \\nprint(a1)\\nprint(a2)', 'a1 = 100 # 全局\\ndef fun():\\n    print(a)\\n    print(\"I am in fun\")\\n    \\n    a2 = 99 # local 局部\\n    print(a2)\\n    \\nprint(a1)\\nfun()\\nprint(a2)', 'a1 = 100 # 全局\\ndef fun():\\n    print(a)\\n    print(\"I am in fun\")\\n    \\n    a2 = 99 # local 局部\\n    print(a2)\\n    \\nprint(a1)\\nfun()\\n# print(a2)', 'a1 = 100 # 全局\\ndef fun():\\n    print(a)\\n    print(\"I am in fun\")\\n    \\n    a2 = 99 # local 局部\\n    print(a2)\\n    \\nprint(a1)\\nfun()\\n# print(a2)', 'a1 = 100 # 全局\\ndef fun():\\n    print(a)\\n    print(\"I am in fun\")\\n    \\n    a2 = 99 # local 局部\\n    print(a2)\\n    \\nprint(a1)\\nfun()\\n# print(a2)', 'a1 = 100 # 全局\\ndef fun():\\n    print(a)\\n    print(\"I am in fun\")\\n    \\n    a2 = 99 # local 局部\\n    print(a2)\\n    \\nprint(a1)\\nfun()\\n\\n# print(a2)', 'a1 = 100 # 全局\\ndef fun():\\n    print(a1)\\n    print(\"I am in fun\")\\n    \\n    a2 = 99 # local 局部\\n    print(a2)\\n    \\nprint(a1)\\nfun()\\n\\n# print(a2)', 'a1 = 100 # 全局\\ndef fun():\\n    print(a1)\\n    print(\"I am in fun\")\\n    \\n    a2 = 99 # local 局部\\n    print(a2)\\n    \\nprint(a1)\\nfun()\\n\\nprint(a2)', '## 提升局部变量为全局变量\\n- 使用 global', 'def fun():\\n    b1 = 100\\n    print(a1)\\n    print(\"I am in fun\")\\n    \\n    a2 = 99 # local 局部\\n    print(a2)\\n    \\nprint(b1)\\nprint(b2)\\nfun()', 'def fun():\\n    b1 = 100\\n    print(b1)\\n    print(\"I am in fun\")\\n    \\n    b2 = 99 # local 局部\\n    print(b2)\\n    \\nprint(b1)\\nprint(b2)\\nfun()', 'def fun():\\n    global b1 = 100\\n    print(b1)\\n    print(\"I am in fun\")\\n    \\n    b2 = 99 # local 局部\\n    print(b2)\\n    \\nprint(b1)\\nprint(b2)\\nfun()', 'def fun():\\n    global b1 = 100\\n    print(b1)\\n    print(\"I am in fun\")\\n    \\n    b2 = 99 # local 局部\\n    print(b2)\\n    \\nprint(b1)\\nprint(b2)\\nfun()', 'def fun():\\n    global b1\\n    b1 = 100\\n    \\n    print(b1)\\n    print(\"I am in fun\")\\n    \\n    b2 = 99 # local 局部\\n    print(b2)\\n    \\nprint(b1)\\nprint(b2)\\nfun()', 'def fun():\\n    global b1\\n    b1 = 100\\n    \\n    print(b1)\\n    print(\"I am in fun\")\\n    \\n    b2 = 99 # local 局部\\n    print(b2)\\n    \\nprint(b1)\\nprint(b2)\\nfun()', '# gloabls locals\\n\\na = 1\\nb = 2\\n\\ndef fun(c,d):\\n    e = 111\\n    print(\"Local={0}\".format(locals()))\\n    print(\"Globals={0}\".formmat(global()))\\n    \\nfun(100,200)', '# gloabls locals\\n\\na = 1\\nb = 2\\n\\ndef fun(c,d):\\n    e = 111\\n    print(\"Local={0}\".format(locals()))\\n    print(\"Globals={0}\".formmat(globals()))\\n    \\nfun(100,200)', '# gloabls locals\\n\\na = 1\\nb = 2\\n\\ndef fun(c,d):\\n    e = 111\\n    print(\"Local={0}\".format(locals()))\\n    print(\"Globals={0}\".format(globals()))\\n    \\nfun(100,200)', '# gloabls locals\\n# gloabls locals 就是内建函数\\n\\na = 1\\nb = 2\\n\\ndef fun(c,d):\\n    e = 111\\n    print(\"Local={0}\".format(locals()))\\n    print(\"Globals={0}\".format(globals()))\\n    \\nfun(100,200)', '# gloabls locals\\n# gloabls locals 就是内建函数\\n\\na = 1\\nb = 2\\n\\ndef fun(c,d):\\n    e = 111\\n    print(\"Local={0}\".format(locals()))\\n    print(\"Globals={0}\".format(globals()))\\n    \\nfun(100,200)'], '_oh': {}, '_dh': ['/Users/chenc/OneDrive/PyLearn/正课/课时09-变量作用域和列表'], 'In': ['', 'a1 = 100 # 全局\\ndef fun():\\n    print(a)\\n    print(\"I am in fun\")\\n    \\n    a2 = 99 # local\\n    print(a2)\\n    \\nprint(a1)', 'a1 = 100 # 全局\\ndef fun():\\n    print(a)\\n    print(\"I am in fun\")\\n    \\n    a2 = 99 # local\\n    print(a2)\\n    \\nprint(a1)\\nprint(a2)', 'a1 = 100 # 全局\\ndef fun():\\n    print(a)\\n    print(\"I am in fun\")\\n    \\n    a2 = 99 # local 局部\\n    print(a2)\\n    \\nprint(a1)\\nfun()\\nprint(a2)', 'a1 = 100 # 全局\\ndef fun():\\n    print(a)\\n    print(\"I am in fun\")\\n    \\n    a2 = 99 # local 局部\\n    print(a2)\\n    \\nprint(a1)\\nfun()\\n# print(a2)', 'a1 = 100 # 全局\\ndef fun():\\n    print(a)\\n    print(\"I am in fun\")\\n    \\n    a2 = 99 # local 局部\\n    print(a2)\\n    \\nprint(a1)\\nfun()\\n# print(a2)', 'a1 = 100 # 全局\\ndef fun():\\n    print(a)\\n    print(\"I am in fun\")\\n    \\n    a2 = 99 # local 局部\\n    print(a2)\\n    \\nprint(a1)\\nfun()\\n# print(a2)', 'a1 = 100 # 全局\\ndef fun():\\n    print(a)\\n    print(\"I am in fun\")\\n    \\n    a2 = 99 # local 局部\\n    print(a2)\\n    \\nprint(a1)\\nfun()\\n\\n# print(a2)', 'a1 = 100 # 全局\\ndef fun():\\n    print(a1)\\n    print(\"I am in fun\")\\n    \\n    a2 = 99 # local 局部\\n    print(a2)\\n    \\nprint(a1)\\nfun()\\n\\n# print(a2)', 'a1 = 100 # 全局\\ndef fun():\\n    print(a1)\\n    print(\"I am in fun\")\\n    \\n    a2 = 99 # local 局部\\n    print(a2)\\n    \\nprint(a1)\\nfun()\\n\\nprint(a2)', '## 提升局部变量为全局变量\\n- 使用 global', 'def fun():\\n    b1 = 100\\n    print(a1)\\n    print(\"I am in fun\")\\n    \\n    a2 = 99 # local 局部\\n    print(a2)\\n    \\nprint(b1)\\nprint(b2)\\nfun()', 'def fun():\\n    b1 = 100\\n    print(b1)\\n    print(\"I am in fun\")\\n    \\n    b2 = 99 # local 局部\\n    print(b2)\\n    \\nprint(b1)\\nprint(b2)\\nfun()', 'def fun():\\n    global b1 = 100\\n    print(b1)\\n    print(\"I am in fun\")\\n    \\n    b2 = 99 # local 局部\\n    print(b2)\\n    \\nprint(b1)\\nprint(b2)\\nfun()', 'def fun():\\n    global b1 = 100\\n    print(b1)\\n    print(\"I am in fun\")\\n    \\n    b2 = 99 # local 局部\\n    print(b2)\\n    \\nprint(b1)\\nprint(b2)\\nfun()', 'def fun():\\n    global b1\\n    b1 = 100\\n    \\n    print(b1)\\n    print(\"I am in fun\")\\n    \\n    b2 = 99 # local 局部\\n    print(b2)\\n    \\nprint(b1)\\nprint(b2)\\nfun()', 'def fun():\\n    global b1\\n    b1 = 100\\n    \\n    print(b1)\\n    print(\"I am in fun\")\\n    \\n    b2 = 99 # local 局部\\n    print(b2)\\n    \\nprint(b1)\\nprint(b2)\\nfun()', '# gloabls locals\\n\\na = 1\\nb = 2\\n\\ndef fun(c,d):\\n    e = 111\\n    print(\"Local={0}\".format(locals()))\\n    print(\"Globals={0}\".formmat(global()))\\n    \\nfun(100,200)', '# gloabls locals\\n\\na = 1\\nb = 2\\n\\ndef fun(c,d):\\n    e = 111\\n    print(\"Local={0}\".format(locals()))\\n    print(\"Globals={0}\".formmat(globals()))\\n    \\nfun(100,200)', '# gloabls locals\\n\\na = 1\\nb = 2\\n\\ndef fun(c,d):\\n    e = 111\\n    print(\"Local={0}\".format(locals()))\\n    print(\"Globals={0}\".format(globals()))\\n    \\nfun(100,200)', '# gloabls locals\\n# gloabls locals 就是内建函数\\n\\na = 1\\nb = 2\\n\\ndef fun(c,d):\\n    e = 111\\n    print(\"Local={0}\".format(locals()))\\n    print(\"Globals={0}\".format(globals()))\\n    \\nfun(100,200)', '# gloabls locals\\n# gloabls locals 就是内建函数\\n\\na = 1\\nb = 2\\n\\ndef fun(c,d):\\n    e = 111\\n    print(\"Local={0}\".format(locals()))\\n    print(\"Globals={0}\".format(globals()))\\n    \\nfun(100,200)'], 'Out': {}, 'get_ipython': <bound method InteractiveShell.get_ipython of <ipykernel.zmqshell.ZMQInteractiveShell object at 0x111e2fe80>>, 'exit': <IPython.core.autocall.ZMQExitAutocall object at 0x111e89390>, 'quit': <IPython.core.autocall.ZMQExitAutocall object at 0x111e89390>, '_': '', '__': '', '___': '', '_i': '# gloabls locals\\n# gloabls locals 就是内建函数\\n\\na = 1\\nb = 2\\n\\ndef fun(c,d):\\n    e = 111\\n    print(\"Local={0}\".format(locals()))\\n    print(\"Globals={0}\".format(globals()))\\n    \\nfun(100,200)', '_ii': '# gloabls locals\\n\\na = 1\\nb = 2\\n\\ndef fun(c,d):\\n    e = 111\\n    print(\"Local={0}\".format(locals()))\\n    print(\"Globals={0}\".format(globals()))\\n    \\nfun(100,200)', '_iii': '# gloabls locals\\n\\na = 1\\nb = 2\\n\\ndef fun(c,d):\\n    e = 111\\n    print(\"Local={0}\".format(locals()))\\n    print(\"Globals={0}\".formmat(globals()))\\n    \\nfun(100,200)', '_i1': 'a1 = 100 # 全局\\ndef fun():\\n    print(a)\\n    print(\"I am in fun\")\\n    \\n    a2 = 99 # local\\n    print(a2)\\n    \\nprint(a1)', 'a1': 100, 'fun': <function fun at 0x111f5f1e0>, '_i2': 'a1 = 100 # 全局\\ndef fun():\\n    print(a)\\n    print(\"I am in fun\")\\n    \\n    a2 = 99 # local\\n    print(a2)\\n    \\nprint(a1)\\nprint(a2)', '_i3': 'a1 = 100 # 全局\\ndef fun():\\n    print(a)\\n    print(\"I am in fun\")\\n    \\n    a2 = 99 # local 局部\\n    print(a2)\\n    \\nprint(a1)\\nfun()\\nprint(a2)', '_i4': 'a1 = 100 # 全局\\ndef fun():\\n    print(a)\\n    print(\"I am in fun\")\\n    \\n    a2 = 99 # local 局部\\n    print(a2)\\n    \\nprint(a1)\\nfun()\\n# print(a2)', '_i5': 'a1 = 100 # 全局\\ndef fun():\\n    print(a)\\n    print(\"I am in fun\")\\n    \\n    a2 = 99 # local 局部\\n    print(a2)\\n    \\nprint(a1)\\nfun()\\n# print(a2)', '_i6': 'a1 = 100 # 全局\\ndef fun():\\n    print(a)\\n    print(\"I am in fun\")\\n    \\n    a2 = 99 # local 局部\\n    print(a2)\\n    \\nprint(a1)\\nfun()\\n# print(a2)', '_i7': 'a1 = 100 # 全局\\ndef fun():\\n    print(a)\\n    print(\"I am in fun\")\\n    \\n    a2 = 99 # local 局部\\n    print(a2)\\n    \\nprint(a1)\\nfun()\\n\\n# print(a2)', '_i8': 'a1 = 100 # 全局\\ndef fun():\\n    print(a1)\\n    print(\"I am in fun\")\\n    \\n    a2 = 99 # local 局部\\n    print(a2)\\n    \\nprint(a1)\\nfun()\\n\\n# print(a2)', '_i9': 'a1 = 100 # 全局\\ndef fun():\\n    print(a1)\\n    print(\"I am in fun\")\\n    \\n    a2 = 99 # local 局部\\n    print(a2)\\n    \\nprint(a1)\\nfun()\\n\\nprint(a2)', '_i10': '## 提升局部变量为全局变量\\n- 使用 global', '_i11': 'def fun():\\n    b1 = 100\\n    print(a1)\\n    print(\"I am in fun\")\\n    \\n    a2 = 99 # local 局部\\n    print(a2)\\n    \\nprint(b1)\\nprint(b2)\\nfun()', '_i12': 'def fun():\\n    b1 = 100\\n    print(b1)\\n    print(\"I am in fun\")\\n    \\n    b2 = 99 # local 局部\\n    print(b2)\\n    \\nprint(b1)\\nprint(b2)\\nfun()', '_i13': 'def fun():\\n    global b1 = 100\\n    print(b1)\\n    print(\"I am in fun\")\\n    \\n    b2 = 99 # local 局部\\n    print(b2)\\n    \\nprint(b1)\\nprint(b2)\\nfun()', '_i14': 'def fun():\\n    global b1 = 100\\n    print(b1)\\n    print(\"I am in fun\")\\n    \\n    b2 = 99 # local 局部\\n    print(b2)\\n    \\nprint(b1)\\nprint(b2)\\nfun()', '_i15': 'def fun():\\n    global b1\\n    b1 = 100\\n    \\n    print(b1)\\n    print(\"I am in fun\")\\n    \\n    b2 = 99 # local 局部\\n    print(b2)\\n    \\nprint(b1)\\nprint(b2)\\nfun()', '_i16': 'def fun():\\n    global b1\\n    b1 = 100\\n    \\n    print(b1)\\n    print(\"I am in fun\")\\n    \\n    b2 = 99 # local 局部\\n    print(b2)\\n    \\nprint(b1)\\nprint(b2)\\nfun()', '_i17': '# gloabls locals\\n\\na = 1\\nb = 2\\n\\ndef fun(c,d):\\n    e = 111\\n    print(\"Local={0}\".format(locals()))\\n    print(\"Globals={0}\".formmat(global()))\\n    \\nfun(100,200)', '_i18': '# gloabls locals\\n\\na = 1\\nb = 2\\n\\ndef fun(c,d):\\n    e = 111\\n    print(\"Local={0}\".format(locals()))\\n    print(\"Globals={0}\".formmat(globals()))\\n    \\nfun(100,200)', 'a': 1, 'b': 2, '_i19': '# gloabls locals\\n\\na = 1\\nb = 2\\n\\ndef fun(c,d):\\n    e = 111\\n    print(\"Local={0}\".format(locals()))\\n    print(\"Globals={0}\".format(globals()))\\n    \\nfun(100,200)', '_i20': '# gloabls locals\\n# gloabls locals 就是内建函数\\n\\na = 1\\nb = 2\\n\\ndef fun(c,d):\\n    e = 111\\n    print(\"Local={0}\".format(locals()))\\n    print(\"Globals={0}\".format(globals()))\\n    \\nfun(100,200)', '_i21': '# gloabls locals\\n# gloabls locals 就是内建函数\\n\\na = 1\\nb = 2\\n\\ndef fun(c,d):\\n    e = 111\\n    print(\"Local={0}\".format(locals()))\\n    print(\"Globals={0}\".format(globals()))\\n    \\nfun(100,200)'}\n"
     ]
    }
   ],
   "source": [
    "# gloabls locals\n",
    "# gloabls locals 就是内建函数\n",
    "\n",
    "a = 1\n",
    "b = 2\n",
    "\n",
    "def fun(c,d):\n",
    "    e = 111\n",
    "    print(\"Local={0}\".format(locals()))\n",
    "    print(\"Globals={0}\".format(globals()))\n",
    "    \n",
    "fun(100,200)"
   ]
  },
  {
   "cell_type": "markdown",
   "metadata": {},
   "source": [
    "# eval()函数\n",
    "- 把一个字符串当成表达式执行，返回表达式执行后的结果\n",
    "- 语法：\n",
    "\n",
    "        eval(string_cold, globals=None, locals=None)\n",
    "        \n",
    "# exec()函数\n",
    "- 跟eval类似，但是不返回结果\n",
    "- 语法：\n",
    "\n",
    "        exec(string_cold, globals=None, locals=None)"
   ]
  },
  {
   "cell_type": "code",
   "execution_count": 24,
   "metadata": {},
   "outputs": [
    {
     "name": "stdout",
     "output_type": "stream",
     "text": [
      "300\n",
      "300\n"
     ]
    }
   ],
   "source": [
    "x = 100\n",
    "y = 200\n",
    "\n",
    "# 执行x+y\n",
    "# z = x + y\n",
    "z1 = x + y\n",
    "z2 = eval(\"x + y\")\n",
    "\n",
    "print(z1)\n",
    "print(z2)"
   ]
  },
  {
   "cell_type": "code",
   "execution_count": 3,
   "metadata": {},
   "outputs": [
    {
     "name": "stdout",
     "output_type": "stream",
     "text": [
      "x+y: 300\n",
      "300\n",
      "********************\n",
      "None\n"
     ]
    }
   ],
   "source": [
    "x = 100\n",
    "y = 200\n",
    "\n",
    "# 执行x+y\n",
    "# z = x + y\n",
    "z1 = x + y\n",
    "# 1.注意字符串中引号的写法\n",
    "# 2.比对exec执行的结果和代码执行的结果\n",
    "z2 = exec(\"print('x+y:', x+y)\")\n",
    "\n",
    "print(z1)\n",
    "print(\"*\" * 20)\n",
    "print(z2)\n"
   ]
  },
  {
   "cell_type": "markdown",
   "metadata": {},
   "source": [
    "# 递归函数\n",
    "- 函数直接或者间接的调用自身\n",
    "- 优点：\n",
    "  - 简洁，容易理解\n",
    "- 缺点：\n",
    "  - 对递归深度又有限制，消耗资源大\n",
    "- python中对递归深度有限制，超过会报错\n",
    "- 注意递归一定要有结束条件"
   ]
  },
  {
   "cell_type": "code",
   "execution_count": 1,
   "metadata": {},
   "outputs": [],
   "source": [
    "# 递归深度限制\n",
    "\n",
    "x = 0\n",
    "def fun():\n",
    "    global x\n",
    "    x += 1\n",
    "    print(x)\n",
    "    fun() # 调用自己\n",
    "    \n",
    "# 调用函数\n",
    "# fun()\n"
   ]
  },
  {
   "cell_type": "code",
   "execution_count": 10,
   "metadata": {},
   "outputs": [
    {
     "data": {
      "text/plain": [
       "55"
      ]
     },
     "execution_count": 10,
     "metadata": {},
     "output_type": "execute_result"
    }
   ],
   "source": [
    "# 斐波拉契数列\n",
    "#　第一个数字为１，第二个数字为１，从第三个数字开始，每一个数字的和等于前\n",
    "#　两个数字的和,数学公式为：\n",
    "# f(1) = 1,f(2) = 1,f(n) = f(n-1)+f(n-2)\n",
    "# 例如 1，1，2，3，5，8，13 ......\n",
    "\n",
    "# n表示婓波拉契数列中第n个数字，即顺序\n",
    "def fib(n):\n",
    "    if n == 1:\n",
    "        return 1\n",
    "    if n == 2:\n",
    "        return 1\n",
    "    \n",
    "    return fib(n-1) + fib(n-2)\n",
    "\n",
    "fib(10)\n",
    "\n",
    "    \n"
   ]
  },
  {
   "cell_type": "markdown",
   "metadata": {},
   "source": [
    "# 内置数据结构（变量类型）\n",
    "- list\n",
    "- set\n",
    "- dict\n",
    "- tuple\n",
    "\n",
    "## list 列表\n",
    "- 一组有顺序的数据的组合\n",
    "- 操作\n",
    "  - 创建列表\n",
    "    - 空列表"
   ]
  },
  {
   "cell_type": "code",
   "execution_count": 16,
   "metadata": {},
   "outputs": [
    {
     "name": "stdout",
     "output_type": "stream",
     "text": [
      "<class 'list'>\n",
      "[]\n",
      "[100]\n",
      "<class 'list'>\n",
      "[2, 3, 4, 6, 8, 3, 4]\n",
      "<class 'list'>\n",
      "[]\n"
     ]
    }
   ],
   "source": [
    "# 1.创建空列表\n",
    "l1 = []\n",
    "print(type(l1))\n",
    "print(l1)\n",
    "\n",
    "#2.创建带值的列表\n",
    "l2 = [100]\n",
    "print(l2)\n",
    "\n",
    "# 创建带多个值的列表\n",
    "l3 = [2,3,4,6,8,3,4]\n",
    "print(type(l3))\n",
    "print(l3)\n",
    "\n",
    "# 使用list()\n",
    "l4 = list()\n",
    "print(type(l4))\n",
    "print(l4)"
   ]
  },
  {
   "cell_type": "markdown",
   "metadata": {},
   "source": [
    "## 列表的操作\n",
    "- 访问\n",
    "  - 使用下标，即索引index\n",
    "  - 下标是从 0 开始的\n",
    "\n",
    "- 切片操作\n",
    "  - 对列表进行段截取\n",
    "  - l[:]\n"
   ]
  },
  {
   "cell_type": "code",
   "execution_count": 38,
   "metadata": {
    "scrolled": true
   },
   "outputs": [
    {
     "name": "stdout",
     "output_type": "stream",
     "text": [
      "3\n",
      "[0, 1, 2]\n",
      "[0, 1, 2, 3, 4, 5, 6, 7, 8, 9]\n",
      "[0, 1, 2, 3]\n",
      "[2, 3, 4, 5, 6, 7, 8, 9]\n",
      "[1, 2, 3, 4, 5]\n",
      "[1, 3, 5]\n",
      "[1, 2, 3, 4, 5, 6, 7, 8, 9]\n",
      "[]\n",
      "[6, 7]\n",
      "[8, 7]\n"
     ]
    }
   ],
   "source": [
    "# 下标访问列表\n",
    "l = [0,1,2,3,4,5,6,7,8,9]\n",
    "print(l[3])\n",
    "\n",
    "# 切片操作 注意，左包含右不包含\n",
    "print(l[0:3])\n",
    "\n",
    "# 下标值不写，左为0；右为最大数+1，即最大数\n",
    "print(l[:])\n",
    "print(l[:4])\n",
    "print(l[2:])\n",
    "\n",
    "# 切片可以控制增长幅度，默认增长幅度为1\n",
    "print(l[1:6:1])\n",
    "\n",
    "# 增长幅度为2，隔一个\n",
    "print(l[1:6:2])\n",
    "\n",
    "# 下标可以超出一定的范围，超出后不再考虑多余下标的内容\n",
    "print(l[1:100])\n",
    "\n",
    "# 下标值，增长的幅度都可以为负数\n",
    "# 为负数，表明顺序从右往左\n",
    "# 规定：数组最后一个数字的下标为-1\n",
    "\n",
    "# 下面显示数组为空，因为默认的截取是从左往右\n",
    "# 正常情况下，分片起始值应该比结束值小\n",
    "print(l[-1:-4])\n",
    "# 正确的操左应该是\n",
    "print(l[-4:-2])\n",
    "# 如果一定是起始比结束值大，则步长参数需要设置为负数,但是数序是反的\n",
    "print(l[-2:-4:-1])\n"
   ]
  },
  {
   "cell_type": "code",
   "execution_count": null,
   "metadata": {},
   "outputs": [],
   "source": [
    "## 切片操作是生成了一个新的list\n",
    " - 使用内置函数id，连鉴别数据的内存地址和编号"
   ]
  }
 ],
 "metadata": {
  "kernelspec": {
   "display_name": "Python 3",
   "language": "python",
   "name": "python3"
  },
  "language_info": {
   "codemirror_mode": {
    "name": "ipython",
    "version": 3
   },
   "file_extension": ".py",
   "mimetype": "text/x-python",
   "name": "python",
   "nbconvert_exporter": "python",
   "pygments_lexer": "ipython3",
   "version": "3.6.6"
  }
 },
 "nbformat": 4,
 "nbformat_minor": 2
}
