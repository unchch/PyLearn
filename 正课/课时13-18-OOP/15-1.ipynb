{
 "cells": [
  {
   "cell_type": "code",
   "execution_count": 4,
   "metadata": {},
   "outputs": [
    {
     "name": "stdout",
     "output_type": "stream",
     "text": [
      "liudana\n"
     ]
    }
   ],
   "source": [
    "# 变量的三种用法\n",
    "class A():\n",
    "    def __init__(self):\n",
    "        self.name = \"haha\"\n",
    "        self.age = 18\n",
    "        \n",
    "a = A()\n",
    "# 属性的3中用法\n",
    "# 1.赋值\n",
    "# 2.读取\n",
    "#3.删除\n",
    "a.name = \"liudana\"\n",
    "print(a.name)\n",
    "del a.name\n",
    "# print(a.name)\n"
   ]
  },
  {
   "cell_type": "code",
   "execution_count": 14,
   "metadata": {},
   "outputs": [
    {
     "name": "stdout",
     "output_type": "stream",
     "text": [
      "hahale\n",
      "我被读取了一次\n",
      "hahale\n"
     ]
    }
   ],
   "source": [
    "# 类属性 property\n",
    "# 应用场景：\n",
    "# 对变量除了普通的3种操作，还要增加一些附加的操作，那么可以通过property来实现\n",
    "\n",
    "class A():\n",
    "    def __init__(self):\n",
    "        self.name = \"hahale\"\n",
    "        self.age = 18\n",
    "        \n",
    "        # 在读取时进行以下操作\n",
    "    def fget(self):\n",
    "        print(\"我被读取了一次\")\n",
    "        return self.name\n",
    "        \n",
    "    # 模拟对变量进行写操作时执行的功能\n",
    "    def fset(self, name):\n",
    "        print(\"我被写入了，但是还可以做好多事情\")\n",
    "        self.name = \"图灵学院\" + name\n",
    "            \n",
    "    # 模拟时删除变量时进行的操作    \n",
    "    def fdel(self):\n",
    "        pass\n",
    "        \n",
    "    # property的四个参数的顺序时固定的\n",
    "    name2 = property(fget, fset, fdel, \"这是一个property的案例\")\n",
    "        \n",
    "a = A()\n",
    "print(a.name)\n",
    "\n",
    "print(a.name2)"
   ]
  },
  {
   "cell_type": "code",
   "execution_count": 19,
   "metadata": {},
   "outputs": [
    {
     "name": "stdout",
     "output_type": "stream",
     "text": [
      "闻下对方\n",
      "握手\n"
     ]
    }
   ],
   "source": [
    "# 抽象方法\n",
    "\n",
    "class Animal():\n",
    "    \n",
    "    def sayHello(self):\n",
    "        pass\n",
    "\n",
    "class Dog(Animal):\n",
    "    \n",
    "    \n",
    "    def sayHello(self):\n",
    "        print(\"闻下对方\")\n",
    "\n",
    "class Person(Animal):\n",
    "    \n",
    "    def sayHello(self):\n",
    "        print(\"握手\")\n",
    "\n",
    "d  = Dog()\n",
    "d.sayHello()\n",
    "\n",
    "p = Person()\n",
    "p.sayHello()"
   ]
  },
  {
   "cell_type": "code",
   "execution_count": 4,
   "metadata": {},
   "outputs": [],
   "source": [
    "# 抽象类的实现\n",
    "\n",
    "import abc\n",
    "# 声明一个类，并且指定当前类的元类\n",
    "class Human(metaclass=abc.ABCMeta):\n",
    "    \n",
    "    # 定义一个抽象的方法\n",
    "    @abc.abstractmethod\n",
    "    def smoking(self):\n",
    "        pass\n",
    "    \n",
    "    # 定义类抽象方法\n",
    "    @abc.abstractclassmethod\n",
    "    def drink(self):\n",
    "        pass\n",
    "    \n",
    "    # 定义静态抽象方法\n",
    "    @abc.abstractstaticmethod\n",
    "    def play():\n",
    "        pass\n",
    "    \n",
    "    def sleep(self):\n",
    "        print(\"laughing ^^^\")"
   ]
  },
  {
   "cell_type": "code",
   "execution_count": 10,
   "metadata": {},
   "outputs": [
    {
     "name": "stdout",
     "output_type": "stream",
     "text": [
      "saying\n",
      "saying\n"
     ]
    }
   ],
   "source": [
    "# 自己组装一个类\n",
    "\n",
    "class A():\n",
    "    pass\n",
    "\n",
    "def say(self):\n",
    "    print(\"saying\")\n",
    "    \n",
    "say(9)    \n",
    "\n",
    "A.say = say\n",
    "a = A()\n",
    "a.say()"
   ]
  },
  {
   "cell_type": "code",
   "execution_count": null,
   "metadata": {},
   "outputs": [],
   "source": []
  },
  {
   "cell_type": "code",
   "execution_count": null,
   "metadata": {},
   "outputs": [],
   "source": []
  },
  {
   "cell_type": "code",
   "execution_count": null,
   "metadata": {},
   "outputs": [],
   "source": []
  }
 ],
 "metadata": {
  "kernelspec": {
   "display_name": "Python 3",
   "language": "python",
   "name": "python3"
  },
  "language_info": {
   "codemirror_mode": {
    "name": "ipython",
    "version": 3
   },
   "file_extension": ".py",
   "mimetype": "text/x-python",
   "name": "python",
   "nbconvert_exporter": "python",
   "pygments_lexer": "ipython3",
   "version": "3.6.6"
  }
 },
 "nbformat": 4,
 "nbformat_minor": 2
}
