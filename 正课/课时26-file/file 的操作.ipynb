{
 "cells": [
  {
   "cell_type": "markdown",
   "metadata": {},
   "source": [
    "#  文件\n",
    "- 长久保存信息的一种数据集合\n",
    "- 常用操作：\n",
    "  - 打开，关闭（文件一旦打开，就需要关闭操作）\n",
    "  - 读写内容\n",
    "  - 查找\n",
    "  \n",
    "## open 函数\n",
    "- open 函数负责打开文件，带有很多参数\n",
    "- 第一个参数：文件的路径和名称,必须有\n",
    "- mode: 表明文件用什么方式打开\n",
    "  - r: 只读\n",
    "  - w: 写，会覆盖之前的内容\n",
    "  - x: 创建方式打开，如果文件已存在，报错\n",
    "  - a: append 方式，追加的方式写入\n",
    "  - b: binary, 以二进制的方式写入\n",
    "  - t: 文本方式打开\n",
    "  - +: 可读写"
   ]
  },
  {
   "cell_type": "code",
   "execution_count": 2,
   "metadata": {},
   "outputs": [],
   "source": [
    "# 用写的方式打开一个文件\n",
    "# f 称之为文件句柄\n",
    "# r 表示之后的符号不需要转义，原意输出（当路径有反斜杠或空格时linux下需要转义）\n",
    "\n",
    "f = open(r\"test01.txt\",'w')\n",
    "f.write('111\\n222\\n333\\n444\\n555\\n666\\n777\\n888')\n",
    "# 文件一旦打开就必须有关闭\n",
    "f.close()"
   ]
  },
  {
   "cell_type": "markdown",
   "metadata": {},
   "source": [
    "## with 语句\n",
    "- with 语句使用的技术是一种称为上下文管理协议的技术（ContextManagermentProtocal）\n",
    "- 自动判断文件的作用域，自动关闭没有在使用的文件句柄"
   ]
  },
  {
   "cell_type": "code",
   "execution_count": 3,
   "metadata": {},
   "outputs": [],
   "source": [
    "# with 案例-01\n",
    "\n",
    "with open(r\"test01.txt\",'r') as f:\n",
    "    pass\n",
    "    # 下面语句块开始对文件f进行操作\n",
    "    # 在本模块中，不需要用close关闭文件f"
   ]
  },
  {
   "cell_type": "code",
   "execution_count": null,
   "metadata": {},
   "outputs": [],
   "source": []
  },
  {
   "cell_type": "code",
   "execution_count": 4,
   "metadata": {},
   "outputs": [
    {
     "name": "stdout",
     "output_type": "stream",
     "text": [
      "111\n",
      "\n",
      "222\n",
      "\n",
      "333\n",
      "\n",
      "444\n",
      "\n",
      "555\n",
      "\n",
      "666\n",
      "\n",
      "777\n",
      "\n",
      "888\n"
     ]
    }
   ],
   "source": [
    "# with 案例-02\n",
    "\n",
    "with open(r\"test01.txt\",'r') as f:\n",
    "    # 按行读取内容\n",
    "    strline = f.readline()\n",
    "   \n",
    "    # 此结构保证能够完整读取文件直到结束    \n",
    "    while strline:\n",
    "        print(strline)\n",
    "        strline = f.readline()"
   ]
  },
  {
   "cell_type": "code",
   "execution_count": 5,
   "metadata": {},
   "outputs": [
    {
     "name": "stdout",
     "output_type": "stream",
     "text": [
      "111\n",
      "\n",
      "222\n",
      "\n",
      "333\n",
      "\n",
      "444\n",
      "\n",
      "555\n",
      "\n",
      "666\n",
      "\n",
      "777\n",
      "\n",
      "888\n"
     ]
    }
   ],
   "source": [
    "# list 能用打开的文件作为参数，把文件内每一行内容作为一个 list 的元素\n",
    "with open(r'test01.txt', 'r') as f:\n",
    "    # 以 打开的文件 f 作为参数创建列表\n",
    "    l = list(f)\n",
    "    for line in l:\n",
    "        print(line)"
   ]
  },
  {
   "cell_type": "code",
   "execution_count": 6,
   "metadata": {},
   "outputs": [
    {
     "name": "stdout",
     "output_type": "stream",
     "text": [
      "31\n",
      "111\n",
      "222\n",
      "333\n",
      "444\n",
      "555\n",
      "666\n",
      "777\n",
      "888\n"
     ]
    }
   ],
   "source": [
    "# read 是按字符读取文件内容\n",
    "# 允许输入参数决定读取几个字符，如果没有指定字符数，从当前位置读取到结尾\n",
    "# 如果有指定字符数，则从当前位置读取指定个数的字符\n",
    "\n",
    "with open(r'test01.txt', 'r') as f:\n",
    "    strChar = f.read()\n",
    "    print(len(strChar))\n",
    "    print(strChar)"
   ]
  },
  {
   "cell_type": "markdown",
   "metadata": {},
   "source": [
    "## seek(offset, from)\n",
    "- 移动文件的读取位置，也叫读取指针\n",
    "- from 的取值范围：\n",
    "  - 0: 从文件开头开始偏移\n",
    "  - 1: 从文件当前位置开始偏移\n",
    "  - 2: 从文件末尾开始偏移\n",
    "  \n",
    "- 移动的单位是字节（byte）\n",
    "- 一个汉字由若干个字节构成\n",
    "- 返回文件值只针对当前位置"
   ]
  },
  {
   "cell_type": "code",
   "execution_count": 11,
   "metadata": {},
   "outputs": [
    {
     "name": "stdout",
     "output_type": "stream",
     "text": [
      "破山河在\n",
      "城春草木深\n",
      "感时花溅泪\n",
      "恨别鸟惊心\n"
     ]
    }
   ],
   "source": [
    "# seek 案例\n",
    "# 先创建一个案例文件\n",
    "with open(r'test02.txt', 'w') as f:\n",
    "    f.write(\"国破山河在\\n城春草木深\\n感时花溅泪\\n恨别鸟惊心\")\n",
    "    \n",
    "# 打开文件后，偏移量为3，从第4个字节开始读取\n",
    "with open(r'test02.txt', 'r') as f:\n",
    "    # seek 移动单位是字节，一个汉字在utf-8编码时，长度为3个字节\n",
    "    # 偏移量为3，那么第一个字就不会读取\n",
    "    f.seek(3, 0)\n",
    "    strChar = f.read()\n",
    "    print(strChar)"
   ]
  },
  {
   "cell_type": "code",
   "execution_count": 12,
   "metadata": {},
   "outputs": [
    {
     "name": "stdout",
     "output_type": "stream",
     "text": [
      "国破山\n",
      "河在\n",
      "\n",
      "城春草\n",
      "木深\n",
      "\n",
      "感时花\n",
      "溅泪\n",
      "\n",
      "恨别鸟\n",
      "惊心\n"
     ]
    }
   ],
   "source": [
    "# 读取文件的练习：\n",
    "# 打开文件，三个字符一组读取内容，显示在屏幕上\n",
    "# 每读一次，休息一秒（让程序暂停可以使用 time 模块的 sleep 函数）\n",
    "\n",
    "import time\n",
    "with open(r'test02.txt', 'r') as f:\n",
    "    # utf-8编码的汉字，1个汉字长度为三个字节\n",
    "    # read 的单位是字符，一个汉字即一个字符\n",
    "    strChar = f.read(3)\n",
    "    while strChar:\n",
    "        print(strChar)\n",
    "        time.sleep(1) # 单位是秒\n",
    "        strChar = f.read(3)\n",
    "        \n",
    "# 作业：解释以下结果，为什么不是每行三个字符\n",
    "# 换行符的写法是\\n，在 python 中看起来是2个字符，但只算一个字符\n",
    "# 所以结果就是这样了"
   ]
  },
  {
   "cell_type": "markdown",
   "metadata": {},
   "source": [
    "### tell 函数\n",
    "- 用来显示文件读写指针的当前位置"
   ]
  },
  {
   "cell_type": "code",
   "execution_count": 13,
   "metadata": {},
   "outputs": [
    {
     "name": "stdout",
     "output_type": "stream",
     "text": [
      "9\n",
      "国破山\n",
      "16\n",
      "河在\n",
      "\n",
      "25\n",
      "城春草\n",
      "32\n",
      "木深\n",
      "\n",
      "41\n",
      "感时花\n",
      "48\n",
      "溅泪\n",
      "\n",
      "57\n",
      "恨别鸟\n",
      "63\n",
      "惊心\n"
     ]
    }
   ],
   "source": [
    "# tell 案例-01\n",
    "\n",
    "with open(r'test02.txt', 'r') as f:\n",
    "    strChar = f.read(3)\n",
    "    pos = f.tell()\n",
    "    \n",
    "    while strChar:\n",
    "        print(pos)\n",
    "        print(strChar)\n",
    "        \n",
    "        strChar = f.read(3)\n",
    "        pos = f.tell()"
   ]
  },
  {
   "cell_type": "markdown",
   "metadata": {},
   "source": [
    "## write - 文件的写操作\n",
    "- write(str) 把字符串写入文件\n",
    "- writelines(str) 把字符串按行写入文件\n",
    "- 区别：\n",
    "  - write 的参数只能是字符串\n",
    "  - writelines 的参数可以是字符串，也可以是字符串序列"
   ]
  },
  {
   "cell_type": "code",
   "execution_count": 18,
   "metadata": {},
   "outputs": [],
   "source": [
    "# write 案例-01\n",
    "# 1. 向文件追加一句诗\n",
    "\n",
    "with open(r'test02.txt','a') as f:\n",
    "    f.write(\"\\n生活不仅有眼前的苟且\\n还有远方的苟且\")"
   ]
  },
  {
   "cell_type": "code",
   "execution_count": null,
   "metadata": {},
   "outputs": [],
   "source": []
  },
  {
   "cell_type": "code",
   "execution_count": 19,
   "metadata": {},
   "outputs": [],
   "source": [
    "# 可以直接写入行，用 writelines\n",
    "# writeline 表示写入很多行，参数可以是 list 格式\n",
    "with open(r'test02.txt','a') as f:\n",
    "    f.writelines(\"\\n生活不仅有眼前的苟且\")\n",
    "    f.writelines(\"\\n还有远方的枸杞\")"
   ]
  },
  {
   "cell_type": "code",
   "execution_count": null,
   "metadata": {},
   "outputs": [],
   "source": []
  },
  {
   "cell_type": "code",
   "execution_count": 20,
   "metadata": {},
   "outputs": [],
   "source": [
    "l = [\"I\", \"Love\", \"Wangxiaojing\"]\n",
    "\n",
    "with open(r'test02.txt', 'a') as f:\n",
    "    # 注意字符串内的换行符问题，需要手动添加\n",
    "    f.writelines(l)"
   ]
  },
  {
   "cell_type": "markdown",
   "metadata": {},
   "source": [
    "### pickle - 持久化\n",
    "- 序列化（持久化，落地）：把程序运行中的信息保存在磁盘中\n",
    "- 反序列化： 序列化的逆向过程\n",
    "- pickle: python 提供的序列化模块\n",
    "  - pickle.dump: 序列化\n",
    "  - pickle.load: 反序列化"
   ]
  },
  {
   "cell_type": "code",
   "execution_count": 22,
   "metadata": {},
   "outputs": [],
   "source": [
    "# pickle 序列化案例-01\n",
    "\n",
    "import pickle\n",
    "\n",
    "age = 19\n",
    "with open(r'test03.txt', 'wb') as f: # wb 以二进制的方式写入\n",
    "    pickle.dump(age, f)"
   ]
  },
  {
   "cell_type": "code",
   "execution_count": null,
   "metadata": {},
   "outputs": [],
   "source": []
  },
  {
   "cell_type": "code",
   "execution_count": 23,
   "metadata": {},
   "outputs": [
    {
     "name": "stdout",
     "output_type": "stream",
     "text": [
      "19\n"
     ]
    }
   ],
   "source": [
    "# 反序列化\n",
    "import pickle\n",
    "\n",
    "with open(r'test03.txt', 'rb') as f: # 以二进制的方式读取\n",
    "    age = pickle.load(f)\n",
    "    print(age)\n"
   ]
  },
  {
   "cell_type": "code",
   "execution_count": null,
   "metadata": {},
   "outputs": [],
   "source": []
  },
  {
   "cell_type": "code",
   "execution_count": 24,
   "metadata": {},
   "outputs": [],
   "source": [
    "# pickle 序列化案例-02\n",
    "# 可以序列化结构\n",
    "import pickle\n",
    "\n",
    "a = [19, 'liudana', 'i love wangxiaojing', [185, 76]]\n",
    "with open(r'test04.txt', 'wb') as f:\n",
    "    pickle.dump(a, f)"
   ]
  },
  {
   "cell_type": "code",
   "execution_count": null,
   "metadata": {},
   "outputs": [],
   "source": []
  },
  {
   "cell_type": "code",
   "execution_count": 25,
   "metadata": {},
   "outputs": [
    {
     "name": "stdout",
     "output_type": "stream",
     "text": [
      "[19, 'liudana', 'i love wangxiaojing', [185, 76]]\n"
     ]
    }
   ],
   "source": [
    "# 反序列化2\n",
    "import pickle\n",
    "\n",
    "with open(r'test04.txt', 'rb') as f:\n",
    "    a = pickle.load(f)\n",
    "    print(a)"
   ]
  },
  {
   "cell_type": "code",
   "execution_count": null,
   "metadata": {},
   "outputs": [],
   "source": []
  },
  {
   "cell_type": "markdown",
   "metadata": {},
   "source": [
    "### shelve - 持久化\n",
    "- 持久化工具\n",
    "- 类似字典，用kv对保存数据，存取方式更字典也类似\n",
    "- open/close"
   ]
  },
  {
   "cell_type": "code",
   "execution_count": 26,
   "metadata": {},
   "outputs": [],
   "source": [
    "# shelve 案例-01\n",
    "# 使用shelve创建一个文件并使用\n",
    "\n",
    "import shelve\n",
    "\n",
    "# 打开文件\n",
    "# shv 相当于一个字典 dict\n",
    "# 注意保存时,jupyter notebook中不带后缀 \".db\"，否则会报错\n",
    "shv = shelve.open(r'shv01')\n",
    "\n",
    "shv['one'] = 1\n",
    "shv['two'] = 2\n",
    "shv['three'] = 3\n",
    "\n",
    "shv.close()\n",
    "\n",
    "# 通过以上案例发现\n",
    "# shelve 自动创建的不仅仅是一个shv.db文件，还包括其他格式的文件"
   ]
  },
  {
   "cell_type": "code",
   "execution_count": null,
   "metadata": {},
   "outputs": [],
   "source": []
  },
  {
   "cell_type": "code",
   "execution_count": 27,
   "metadata": {},
   "outputs": [
    {
     "name": "stdout",
     "output_type": "stream",
     "text": [
      "1\n",
      "3\n"
     ]
    }
   ],
   "source": [
    "# shelve 的读取案例-01\n",
    "\n",
    "import shelve\n",
    "\n",
    "# 当读取不存在的 key 时，shevle 会报错，报错会导致 shelve 没有关闭\n",
    "# 此时 可以使用 try-finally 来保证其会被关闭\n",
    "\n",
    "try:\n",
    "    shv = shelve.open(r'shv01') # 注意读取时文件名不带后缀\n",
    "    print(shv['one'])\n",
    "    print(shv['three'])\n",
    "except Exception as e:\n",
    "    print(\"烦死了\")\n",
    "finally:\n",
    "    shv.close()"
   ]
  },
  {
   "cell_type": "code",
   "execution_count": null,
   "metadata": {},
   "outputs": [],
   "source": []
  },
  {
   "cell_type": "markdown",
   "metadata": {},
   "source": [
    "#### shelve 的特性\n",
    "- 不支持多个应用并行写入\n",
    "  - 为了解决这个问题，open 的时候可以使用 flag=r\n",
    "- 写回问题\n",
    "  - shelve 默认情况下不会等待持久化对象进行任何修改\n",
    "  - 解决办法：强制写回： writeback=True"
   ]
  },
  {
   "cell_type": "code",
   "execution_count": 28,
   "metadata": {},
   "outputs": [
    {
     "name": "stdout",
     "output_type": "stream",
     "text": [
      "1\n"
     ]
    }
   ],
   "source": [
    "# shelve 之只读打开案例-01\n",
    "import shelve\n",
    "\n",
    "shv = shelve.open(r'shv01', flag='r') # 注意打开时文件名不带后缀，否则会报错\n",
    "\n",
    "try:\n",
    "    k1 = shv['one']\n",
    "    print(k1)\n",
    "finally:\n",
    "    shv.close()"
   ]
  },
  {
   "cell_type": "code",
   "execution_count": null,
   "metadata": {},
   "outputs": [],
   "source": []
  },
  {
   "cell_type": "code",
   "execution_count": 40,
   "metadata": {},
   "outputs": [
    {
     "name": "stdout",
     "output_type": "stream",
     "text": [
      "{'eins': 1, 'zwei': 2, 'drei': 3}\n"
     ]
    }
   ],
   "source": [
    "import shelve\n",
    "\n",
    "# 先写回\n",
    "shv = shelve.open(r'shv02')\n",
    "try:\n",
    "    shv['one'] = {\"eins\":1, \"zwei\":2, \"drei\":3}\n",
    "finally:\n",
    "    shv.close()\n",
    "    \n",
    "# 再读取\n",
    "shv = shelve.open(r'shv02')\n",
    "try:\n",
    "    one = shv['one']\n",
    "    print(one)\n",
    "finally:\n",
    "    shv.close()\n",
    "    \n"
   ]
  },
  {
   "cell_type": "code",
   "execution_count": null,
   "metadata": {},
   "outputs": [],
   "source": []
  },
  {
   "cell_type": "code",
   "execution_count": 41,
   "metadata": {},
   "outputs": [
    {
     "name": "stdout",
     "output_type": "stream",
     "text": [
      "{'eins': 1, 'zwei': 2, 'drei': 3}\n",
      "{'eins': 1, 'zwei': 2, 'drei': 3}\n"
     ]
    }
   ],
   "source": [
    "# shelve 之忘记写回案例-01\n",
    "\n",
    "# 修改上一个案例中的 shv02 的内容，但默认没有写回\n",
    "shv = shelve.open(r'shv02')\n",
    "try:\n",
    "    k1 = shv['one']\n",
    "    print(k1)\n",
    "    k1[\"eins\"] = 100\n",
    "finally:\n",
    "    shv.close() # 此时一旦关闭，100并没有写回数据库中，还在内存中\n",
    "\n",
    "# 读取，发现 shv['one'] 的值并没有改变\n",
    "shv = shelve.open(r'shv02')\n",
    "try:\n",
    "    k1 = shv['one']\n",
    "    print(k1)\n",
    "finally:\n",
    "    shv.close()"
   ]
  },
  {
   "cell_type": "code",
   "execution_count": null,
   "metadata": {},
   "outputs": [],
   "source": []
  },
  {
   "cell_type": "code",
   "execution_count": 42,
   "metadata": {},
   "outputs": [
    {
     "name": "stdout",
     "output_type": "stream",
     "text": [
      "{'eins': 1, 'zwei': 2, 'drei': 3}\n",
      "{'eins': 100, 'zwei': 2, 'drei': 3}\n"
     ]
    }
   ],
   "source": [
    "# 使用 writeback 强制写回，一旦有更改，则会自动写回shv.db文件\n",
    "\n",
    "shv = shelve.open(r'shv02', writeback=True)\n",
    "try:\n",
    "    k1 = shv['one']\n",
    "    print(k1)\n",
    "    k1[\"eins\"] = 100\n",
    "finally:\n",
    "    shv.close() # 使用了 writeback=True，此时一旦关闭，更改即写回\n",
    "\n",
    "# 检查上一步的 writeback=True 是否生效\n",
    "shv = shelve.open(r'shv02')\n",
    "try:\n",
    "    k1 = shv['one']\n",
    "    print(k1)\n",
    "finally:\n",
    "    shv.close()"
   ]
  },
  {
   "cell_type": "code",
   "execution_count": null,
   "metadata": {},
   "outputs": [],
   "source": []
  },
  {
   "cell_type": "code",
   "execution_count": 43,
   "metadata": {},
   "outputs": [
    {
     "name": "stdout",
     "output_type": "stream",
     "text": [
      "{'eins': 100, 'zwei': 2, 'drei': 3}\n",
      "{'eins': 1000, 'zwei': 2, 'drei': 3}\n"
     ]
    }
   ],
   "source": [
    "# shevle 使用 with 管理上下文环境\n",
    "\n",
    "with shelve.open(r'shv02', writeback=True) as shv:\n",
    "    k1 = shv['one']\n",
    "    print(k1)\n",
    "    # 使用了 writeback=True\n",
    "    k1[\"eins\"] = 1000\n",
    "    \n",
    "with shelve.open(r'shv02') as shv:\n",
    "    print(shv['one'])"
   ]
  }
 ],
 "metadata": {
  "kernelspec": {
   "display_name": "Python 3",
   "language": "python",
   "name": "python3"
  },
  "language_info": {
   "codemirror_mode": {
    "name": "ipython",
    "version": 3
   },
   "file_extension": ".py",
   "mimetype": "text/x-python",
   "name": "python",
   "nbconvert_exporter": "python",
   "pygments_lexer": "ipython3",
   "version": "3.6.5"
  }
 },
 "nbformat": 4,
 "nbformat_minor": 2
}
