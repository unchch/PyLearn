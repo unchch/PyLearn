{
 "cells": [
  {
   "cell_type": "markdown",
   "metadata": {},
   "source": [
    "# os 模块 - 操作系统相关\n",
    "- 与操作系统相关，主要是文件操作\n",
    "- 主要包含三个模块\n",
    "  - os: 操作系统目录相关\n",
    "  - os.path: 系统路径相关\n",
    "  - shutil: 高级文件操作，目录树的操作，文件赋值，删除，移动\n",
    "  \n",
    "- 路径\n",
    "  - 绝对路径：总是从根目录开始\n",
    "  - 相对路径：基本以当前环境为开始的一个相对路径"
   ]
  },
  {
   "cell_type": "code",
   "execution_count": 3,
   "metadata": {},
   "outputs": [],
   "source": [
    "# OS 模块\n",
    "import os"
   ]
  },
  {
   "cell_type": "code",
   "execution_count": 4,
   "metadata": {},
   "outputs": [
    {
     "name": "stdout",
     "output_type": "stream",
     "text": [
      "/Users/chenc/OneDrive/PyLearn/正课/课时21-22-常用包介绍\n"
     ]
    }
   ],
   "source": [
    "# getcwd() 获取当前工作目录\n",
    "# 格式： os.getcwd()\n",
    "# 返回值： 当前工作目录的字符串\n",
    "# 当前工作目录就是程序在进行文件相关操作，默认查找文件的路径\n",
    "\n",
    "mydir = os.getcwd()\n",
    "print(mydir)"
   ]
  },
  {
   "cell_type": "code",
   "execution_count": 5,
   "metadata": {},
   "outputs": [
    {
     "name": "stdout",
     "output_type": "stream",
     "text": [
      "/Users/chenc\n"
     ]
    }
   ],
   "source": [
    "# chdir() 改变当前的工作目录\n",
    "# 格式：os.chdir(路径)\n",
    "# 返回值：无\n",
    "\n",
    "os.chdir('/Users/chenc')\n",
    "mydir = os.getcwd()\n",
    "print(mydir)\n"
   ]
  },
  {
   "cell_type": "code",
   "execution_count": 6,
   "metadata": {},
   "outputs": [
    {
     "name": "stdout",
     "output_type": "stream",
     "text": [
      "['OneDrive_20181016_160401', '.config', 'Music', '.condarc', '.vim', '.DS_Store', '.CFUserTextEncoding', 'bin', 'auth', '.vnc', 'OneDrive', 'Pictures', 'OneDrive_20181022_142911', '.ipython', 'Desktop', 'Library', '.oracle_jre_usage', '.ShadowsocksX-NG', '.android', '.cups', '.bash_sessions', '.aria2', 'PycharmProjects', 'Public', '.bash_profile-anaconda3.bak', '.idlerc', '.anaconda', '.ssh', 'Movies', 'Applications', '.vimrc_back', '.Trash', '.jupyter', 'Documents', '.anydesk', '.mono', 'start-aria2.sh', '.bash_profile', 'anaconda3', 'Downloads', '.cache', '.gitconfig', '.bash_history', '.viminfo', '.astropy', '.conda']\n"
     ]
    }
   ],
   "source": [
    "# listdir() 获取一个目录中所有的子目录和文件的名称列表\n",
    "#　格式：　os.listdir(路径)\n",
    "# 返回值：所有子文件夹和文件的列表\n",
    "\n",
    "ld = os.listdir(\"/Users/chenc\")\n",
    "print(ld)"
   ]
  },
  {
   "cell_type": "code",
   "execution_count": 9,
   "metadata": {},
   "outputs": [
    {
     "name": "stdout",
     "output_type": "stream",
     "text": [
      "Help on function makedirs in module os:\n",
      "\n",
      "makedirs(name, mode=511, exist_ok=False)\n",
      "    makedirs(name [, mode=0o777][, exist_ok=False])\n",
      "    \n",
      "    Super-mkdir; create a leaf directory and all intermediate ones.  Works like\n",
      "    mkdir, except that any intermediate path segment (not just the rightmost)\n",
      "    will be created if it does not exist. If the target directory already\n",
      "    exists, raise an OSError if exist_ok is False. Otherwise no exception is\n",
      "    raised.  This is recursive.\n",
      "\n",
      "None\n"
     ]
    }
   ],
   "source": [
    "# makedirs() 递归创建文件夹\n",
    "# 格式： os.makedirs(递归路径)\n",
    "# 返回值： 无\n",
    "help(os.makedirs)\n",
    "\n",
    "rst = os.makedirs(\"/Users/chenc/a/b/c\")\n",
    "print(rst)"
   ]
  },
  {
   "cell_type": "code",
   "execution_count": 11,
   "metadata": {},
   "outputs": [
    {
     "name": "stdout",
     "output_type": "stream",
     "text": [
      "0\n"
     ]
    }
   ],
   "source": [
    "# system() 运行系统shell命令\n",
    "# 格式： os.system(系统命令)\n",
    "# 返回：打开一个shell或者终端界面\n",
    "# 在丘比特笔记本中不能显示执行结果，在终端可以\n",
    "# 一般推荐使用 subprocess\n",
    "rst = os.system(\"ls\")\n",
    "print(rst)\n",
    "\n",
    "rst = os.system(\"touch 1.txt\")\n",
    "print(rst)"
   ]
  },
  {
   "cell_type": "code",
   "execution_count": 14,
   "metadata": {},
   "outputs": [
    {
     "name": "stdout",
     "output_type": "stream",
     "text": [
      "/Users/chenc/bin:/Users/chenc/sacd_extract_0.3.6_OS_X:/Users/chenc/anaconda3/bin:/Library/Frameworks/Python.framework/Versions/3.6/bin:/usr/local/bin:/usr/bin:/bin:/usr/sbin:/sbin:/usr/local/go/bin\n"
     ]
    }
   ],
   "source": [
    "# getenv() 获取指定的系统环境变量值\n",
    "# 对应的还有putenv()\n",
    "# 格式 os.getenv('环境变量值')\n",
    "# 返回值：指定环境变量的值\n",
    "\n",
    "rst = os.getenv('PATH')\n",
    "print(rst)"
   ]
  },
  {
   "cell_type": "code",
   "execution_count": null,
   "metadata": {},
   "outputs": [],
   "source": [
    "# exit() 退出当前程序\n",
    "# 格式：exit()\n",
    "# 返回值：无"
   ]
  },
  {
   "cell_type": "markdown",
   "metadata": {},
   "source": [
    "## 值部分\n",
    "- os.curdir: current dir 当前目录\n",
    "- os.pardir:parent dir 父级目录\n",
    "- os.sep 当前系统的路径分隔符\n",
    "  - windows: \"\\\"\n",
    "  - linux: \"/\"\n",
    "- os.linesep 当前系统的换行符\n",
    "  - windows: \"\\r\\n\"\n",
    "  - unix,linux,macos: \"\\n\"\n",
    "- os.name 当前系统名称\n",
    "  - unix,linux,mac: posix\n",
    "  - windowns: nt"
   ]
  },
  {
   "cell_type": "code",
   "execution_count": 16,
   "metadata": {},
   "outputs": [
    {
     "name": "stdout",
     "output_type": "stream",
     "text": [
      ".\n",
      "..\n"
     ]
    }
   ],
   "source": [
    "print(os.curdir)\n",
    "print(os.pardir)"
   ]
  },
  {
   "cell_type": "code",
   "execution_count": 18,
   "metadata": {},
   "outputs": [
    {
     "name": "stdout",
     "output_type": "stream",
     "text": [
      "/\n",
      "\n",
      "\n"
     ]
    }
   ],
   "source": [
    "print(os.sep)\n",
    "print(os.linesep)　＃ 回车符号不可见"
   ]
  },
  {
   "cell_type": "code",
   "execution_count": 19,
   "metadata": {},
   "outputs": [],
   "source": [
    "# 在路径相关的操作中国，不要手拼写路径，在跨系统时会有问题，特别是分隔符"
   ]
  },
  {
   "cell_type": "code",
   "execution_count": 20,
   "metadata": {},
   "outputs": [
    {
     "name": "stdout",
     "output_type": "stream",
     "text": [
      "posix\n"
     ]
    }
   ],
   "source": [
    "# linux 的操作系统名称\n",
    "print(os.name)\n",
    "print()"
   ]
  },
  {
   "cell_type": "markdown",
   "metadata": {},
   "source": [
    "# os.path 模块， 跟路径相关的模块"
   ]
  },
  {
   "cell_type": "code",
   "execution_count": 21,
   "metadata": {},
   "outputs": [],
   "source": [
    "import os.path as op"
   ]
  },
  {
   "cell_type": "code",
   "execution_count": 23,
   "metadata": {},
   "outputs": [
    {
     "name": "stdout",
     "output_type": "stream",
     "text": [
      "/Users/chenc\n"
     ]
    }
   ],
   "source": [
    "# abspath() 将路径转换为绝对路径\n",
    "# abselute 绝对\n",
    "# 格式：os.path.abspath(\"路径\")\n",
    "# 返回值： 路径的绝对路径形式\n",
    "\n",
    "absdir = op.abspath(\".\")\n",
    "print(absdir)"
   ]
  },
  {
   "cell_type": "code",
   "execution_count": 24,
   "metadata": {},
   "outputs": [
    {
     "name": "stdout",
     "output_type": "stream",
     "text": [
      "start-arias.sh\n"
     ]
    }
   ],
   "source": [
    "# basename() 获取路径中的文件名部分\n",
    "# 格式：os.path.basename(\"路径名\")\n",
    "# 返回值：文件名\n",
    "\n",
    "bname  = op.basename(\"/Users/chenc/start-arias.sh\")\n",
    "print(bname)"
   ]
  },
  {
   "cell_type": "code",
   "execution_count": 25,
   "metadata": {},
   "outputs": [
    {
     "name": "stdout",
     "output_type": "stream",
     "text": [
      "/Users/chenc/start-aria2.sh\n"
     ]
    }
   ],
   "source": [
    "# join() 将多个路径拼合\n",
    "# 格式：os.path.join(\"路径1\",\"路径2\")\n",
    "# 返回值：组合之后的新路径字符串\n",
    "\n",
    "bd = \"/Users/chenc\"\n",
    "fn = \"start-aria2.sh\"\n",
    "\n",
    "p = op.join(bd,fn)\n",
    "print(p)"
   ]
  },
  {
   "cell_type": "code",
   "execution_count": null,
   "metadata": {},
   "outputs": [],
   "source": []
  }
 ],
 "metadata": {
  "kernelspec": {
   "display_name": "Python 3",
   "language": "python",
   "name": "python3"
  },
  "language_info": {
   "codemirror_mode": {
    "name": "ipython",
    "version": 3
   },
   "file_extension": ".py",
   "mimetype": "text/x-python",
   "name": "python",
   "nbconvert_exporter": "python",
   "pygments_lexer": "ipython3",
   "version": "3.6.6"
  }
 },
 "nbformat": 4,
 "nbformat_minor": 2
}
