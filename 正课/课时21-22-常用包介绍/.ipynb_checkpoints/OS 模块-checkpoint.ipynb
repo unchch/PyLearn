{
 "cells": [
  {
   "cell_type": "markdown",
   "metadata": {},
   "source": [
    "# os 模块 - 操作系统相关\n",
    "- 与操作系统相关，主要是文件操作\n",
    "- 主要包含三个模块\n",
    "  - os: 操作系统目录相关\n",
    "  - os.path: 系统路径相关\n",
    "  - shutil: 高级文件操作，目录树的操作，文件赋值，删除，移动\n",
    "  \n",
    "- 路径\n",
    "  - 绝对路径：总是从根目录开始\n",
    "  - 相对路径：基本以当前环境为开始的一个相对路径"
   ]
  },
  {
   "cell_type": "code",
   "execution_count": 3,
   "metadata": {},
   "outputs": [],
   "source": [
    "# OS 模块\n",
    "import os"
   ]
  },
  {
   "cell_type": "code",
   "execution_count": 4,
   "metadata": {},
   "outputs": [
    {
     "name": "stdout",
     "output_type": "stream",
     "text": [
      "/Users/chenc/OneDrive/PyLearn/正课/课时21-22-常用包介绍\n"
     ]
    }
   ],
   "source": [
    "# getcwd() 获取当前工作目录\n",
    "# 格式： os.getcwd()\n",
    "# 返回值： 当前工作目录的字符串\n",
    "# 当前工作目录就是程序在进行文件相关操作，默认查找文件的路径\n",
    "\n",
    "mydir = os.getcwd()\n",
    "print(mydir)"
   ]
  },
  {
   "cell_type": "code",
   "execution_count": 5,
   "metadata": {},
   "outputs": [
    {
     "name": "stdout",
     "output_type": "stream",
     "text": [
      "/Users/chenc\n"
     ]
    }
   ],
   "source": [
    "# chdir() 改变当前的工作目录\n",
    "# 格式：os.chdir(路径)\n",
    "# 返回值：无\n",
    "\n",
    "os.chdir('/Users/chenc')\n",
    "mydir = os.getcwd()\n",
    "print(mydir)\n"
   ]
  },
  {
   "cell_type": "code",
   "execution_count": 6,
   "metadata": {},
   "outputs": [
    {
     "name": "stdout",
     "output_type": "stream",
     "text": [
      "['OneDrive_20181016_160401', '.config', 'Music', '.condarc', '.vim', '.DS_Store', '.CFUserTextEncoding', 'bin', 'auth', '.vnc', 'OneDrive', 'Pictures', 'OneDrive_20181022_142911', '.ipython', 'Desktop', 'Library', '.oracle_jre_usage', '.ShadowsocksX-NG', '.android', '.cups', '.bash_sessions', '.aria2', 'PycharmProjects', 'Public', '.bash_profile-anaconda3.bak', '.idlerc', '.anaconda', '.ssh', 'Movies', 'Applications', '.vimrc_back', '.Trash', '.jupyter', 'Documents', '.anydesk', '.mono', 'start-aria2.sh', '.bash_profile', 'anaconda3', 'Downloads', '.cache', '.gitconfig', '.bash_history', '.viminfo', '.astropy', '.conda']\n"
     ]
    }
   ],
   "source": [
    "# listdir() 获取一个目录中所有的子目录和文件的名称列表\n",
    "#　格式：　os.listdir(路径)\n",
    "# 返回值：所有子文件夹和文件的列表\n",
    "\n",
    "ld = os.listdir(\"/Users/chenc\")\n",
    "print(ld)"
   ]
  },
  {
   "cell_type": "code",
   "execution_count": 9,
   "metadata": {},
   "outputs": [
    {
     "name": "stdout",
     "output_type": "stream",
     "text": [
      "Help on function makedirs in module os:\n",
      "\n",
      "makedirs(name, mode=511, exist_ok=False)\n",
      "    makedirs(name [, mode=0o777][, exist_ok=False])\n",
      "    \n",
      "    Super-mkdir; create a leaf directory and all intermediate ones.  Works like\n",
      "    mkdir, except that any intermediate path segment (not just the rightmost)\n",
      "    will be created if it does not exist. If the target directory already\n",
      "    exists, raise an OSError if exist_ok is False. Otherwise no exception is\n",
      "    raised.  This is recursive.\n",
      "\n",
      "None\n"
     ]
    }
   ],
   "source": [
    "# makedirs() 递归创建文件夹\n",
    "# 格式： os.makedirs(递归路径)\n",
    "# 返回值： 无\n",
    "help(os.makedirs)\n",
    "\n",
    "rst = os.makedirs(\"/Users/chenc/a/b/c\")\n",
    "print(rst)"
   ]
  },
  {
   "cell_type": "code",
   "execution_count": 11,
   "metadata": {},
   "outputs": [
    {
     "name": "stdout",
     "output_type": "stream",
     "text": [
      "0\n"
     ]
    }
   ],
   "source": [
    "# system() 运行系统shell命令\n",
    "# 格式： os.system(系统命令)\n",
    "# 返回：打开一个shell或者终端界面\n",
    "# 在丘比特笔记本中不能显示执行结果，在终端可以\n",
    "# 一般推荐使用 subprocess\n",
    "rst = os.system(\"ls\")\n",
    "print(rst)\n",
    "\n",
    "rst = os.system(\"touch 1.txt\")\n",
    "print(rst)"
   ]
  },
  {
   "cell_type": "code",
   "execution_count": 14,
   "metadata": {},
   "outputs": [
    {
     "name": "stdout",
     "output_type": "stream",
     "text": [
      "/Users/chenc/bin:/Users/chenc/sacd_extract_0.3.6_OS_X:/Users/chenc/anaconda3/bin:/Library/Frameworks/Python.framework/Versions/3.6/bin:/usr/local/bin:/usr/bin:/bin:/usr/sbin:/sbin:/usr/local/go/bin\n"
     ]
    }
   ],
   "source": [
    "# getenv() 获取指定的系统环境变量值\n",
    "# 对应的还有putenv()\n",
    "# 格式 os.getenv('环境变量值')\n",
    "# 返回值：指定环境变量的值\n",
    "\n",
    "rst = os.getenv('PATH')\n",
    "print(rst)"
   ]
  },
  {
   "cell_type": "code",
   "execution_count": null,
   "metadata": {},
   "outputs": [],
   "source": [
    "# exit() 退出当前程序\n",
    "# 格式：exit()\n",
    "# 返回值：无"
   ]
  },
  {
   "cell_type": "markdown",
   "metadata": {},
   "source": [
    "## 值部分\n",
    "- os.curdir: current dir 当前目录\n",
    "- os.pardir:parent dir 父级目录\n",
    "- os.sep 当前系统的路径分隔符\n",
    "  - windows: \"\\\"\n",
    "  - linux: \"/\"\n",
    "- os.linesep 当前系统的换行符\n",
    "  - windows: \"\\r\\n\"\n",
    "  - unix,linux,macos: \"\\n\"\n",
    "- os.name 当前系统名称\n",
    "  - unix,linux,mac: posix\n",
    "  - windowns: nt"
   ]
  },
  {
   "cell_type": "code",
   "execution_count": 16,
   "metadata": {},
   "outputs": [
    {
     "name": "stdout",
     "output_type": "stream",
     "text": [
      ".\n",
      "..\n"
     ]
    }
   ],
   "source": [
    "print(os.curdir)\n",
    "print(os.pardir)"
   ]
  },
  {
   "cell_type": "code",
   "execution_count": 18,
   "metadata": {},
   "outputs": [
    {
     "name": "stdout",
     "output_type": "stream",
     "text": [
      "/\n",
      "\n",
      "\n"
     ]
    }
   ],
   "source": [
    "print(os.sep)\n",
    "print(os.linesep)　＃ 回车符号不可见"
   ]
  },
  {
   "cell_type": "code",
   "execution_count": 19,
   "metadata": {},
   "outputs": [],
   "source": [
    "# 在路径相关的操作中国，不要手拼写路径，在跨系统时会有问题，特别是分隔符"
   ]
  },
  {
   "cell_type": "code",
   "execution_count": 20,
   "metadata": {},
   "outputs": [
    {
     "name": "stdout",
     "output_type": "stream",
     "text": [
      "posix\n"
     ]
    }
   ],
   "source": [
    "# linux 的操作系统名称\n",
    "print(os.name)\n",
    "print()"
   ]
  },
  {
   "cell_type": "markdown",
   "metadata": {},
   "source": [
    "# os.path 模块， 跟路径相关的模块"
   ]
  },
  {
   "cell_type": "code",
   "execution_count": 21,
   "metadata": {},
   "outputs": [],
   "source": [
    "import os.path as op"
   ]
  },
  {
   "cell_type": "code",
   "execution_count": 23,
   "metadata": {},
   "outputs": [
    {
     "name": "stdout",
     "output_type": "stream",
     "text": [
      "/Users/chenc\n"
     ]
    }
   ],
   "source": [
    "# abspath() 将路径转换为绝对路径\n",
    "# abselute 绝对\n",
    "# 格式：os.path.abspath(\"路径\")\n",
    "# 返回值： 路径的绝对路径形式\n",
    "\n",
    "absdir = op.abspath(\".\")\n",
    "print(absdir)"
   ]
  },
  {
   "cell_type": "code",
   "execution_count": 24,
   "metadata": {},
   "outputs": [
    {
     "name": "stdout",
     "output_type": "stream",
     "text": [
      "start-arias.sh\n"
     ]
    }
   ],
   "source": [
    "# basename() 获取路径中的文件名部分\n",
    "# 格式：os.path.basename(\"路径名\")\n",
    "# 返回值：文件名\n",
    "\n",
    "bname  = op.basename(\"/Users/chenc/start-arias.sh\")\n",
    "print(bname)"
   ]
  },
  {
   "cell_type": "code",
   "execution_count": 25,
   "metadata": {},
   "outputs": [
    {
     "name": "stdout",
     "output_type": "stream",
     "text": [
      "/Users/chenc/start-aria2.sh\n"
     ]
    }
   ],
   "source": [
    "# join() 将多个路径拼合\n",
    "# 格式：os.path.join(\"路径1\",\"路径2\")\n",
    "# 返回值：组合之后的新路径字符串\n",
    "\n",
    "bd = \"/Users/chenc\"\n",
    "fn = \"start-aria2.sh\"\n",
    "\n",
    "p = op.join(bd,fn)\n",
    "print(p)"
   ]
  },
  {
   "cell_type": "code",
   "execution_count": 29,
   "metadata": {},
   "outputs": [
    {
     "name": "stdout",
     "output_type": "stream",
     "text": [
      "('/Users/chenc', 'start-arias.sh')\n",
      "/Users/chenc start-arias.sh\n"
     ]
    }
   ],
   "source": [
    "# split() 将路径分割为文件夹部分和文件部分\n",
    "# 格式：os.split(\"路径\")\n",
    "# 返回值：路径和文件部分组成的元组\n",
    "\n",
    "t = op.split(\"/Users/chenc/start-arias.sh\")\n",
    "print(t)\n",
    "\n",
    "d,p = op.split(\"/Users/chenc/start-arias.sh\")\n",
    "print(d,p)"
   ]
  },
  {
   "cell_type": "code",
   "execution_count": 30,
   "metadata": {},
   "outputs": [
    {
     "name": "stdout",
     "output_type": "stream",
     "text": [
      "False\n"
     ]
    }
   ],
   "source": [
    "# isdir() 检测是否是目录\n",
    "# 格式：os.path.isdir(路径)\n",
    "# 返回值：布尔值\n",
    "\n",
    "rst = op.isdir(\"/Users/chenc/start-arias.sh\")\n",
    "print(rst)"
   ]
  },
  {
   "cell_type": "code",
   "execution_count": 31,
   "metadata": {},
   "outputs": [
    {
     "name": "stdout",
     "output_type": "stream",
     "text": [
      "False\n"
     ]
    }
   ],
   "source": [
    "# exists() 检测目录或文件是否存在\n",
    "# 格式：os.path.exists(路径)\n",
    "# 返回值：布尔值\n",
    "\n",
    "e = op.exists(\"/Users/chenc/start-arias.sh\")\n",
    "print(e)"
   ]
  },
  {
   "cell_type": "markdown",
   "metadata": {},
   "source": [
    "# shutil 模块"
   ]
  },
  {
   "cell_type": "code",
   "execution_count": 33,
   "metadata": {},
   "outputs": [],
   "source": [
    "import shutil"
   ]
  },
  {
   "cell_type": "code",
   "execution_count": 35,
   "metadata": {},
   "outputs": [
    {
     "name": "stdout",
     "output_type": "stream",
     "text": [
      "/Users/chenc/start-arias-1.sh\n"
     ]
    }
   ],
   "source": [
    "#　copy() 复制文件\n",
    "# 格式：shutil.copy(来源路径，目标路径)\n",
    "# 返回值：返回目标路径\n",
    "# 拷贝的同时，可以给文件重命名\n",
    "\n",
    "rst = shutil.copy(\"/Users/chenc/start-aria2.sh\",\"/Users/chenc/start-arias-1.sh\")\n",
    "print(rst)"
   ]
  },
  {
   "cell_type": "code",
   "execution_count": null,
   "metadata": {},
   "outputs": [],
   "source": [
    "#　copy2() 复制文件\n",
    "# 格式：shutil.copy2(来源路径，目标路径)\n",
    "# 返回值：返回目标路径\n",
    "# 拷贝的同时，可以给文件重命名\n",
    "# 区别就是copy2 尽量保持源文件的元信息，如创建时间等\n",
    "\n"
   ]
  },
  {
   "cell_type": "code",
   "execution_count": null,
   "metadata": {},
   "outputs": [],
   "source": [
    "# copyfile() 将一个文件中的内容复制到另一个文件中\n",
    "# 格式 shutil.copyfile(源路径，目标路径)\n",
    "#　返回值：无"
   ]
  },
  {
   "cell_type": "code",
   "execution_count": null,
   "metadata": {},
   "outputs": [],
   "source": [
    "# move() 移动文件或文件夹\n",
    "# 格式：shutil.move(来源路径，目标路径)\n",
    "# 返回值：目标路径"
   ]
  },
  {
   "cell_type": "markdown",
   "metadata": {},
   "source": [
    "## 归档和压缩\n",
    "- 归档：将多个文件或者文件夹合并倒一个文件中\n",
    "- 压缩：用算法将多个文件或文件夹有损或者无损合到一个文档中"
   ]
  },
  {
   "cell_type": "code",
   "execution_count": 48,
   "metadata": {},
   "outputs": [
    {
     "name": "stdout",
     "output_type": "stream",
     "text": [
      "/Users/chenc/bintar.zip\n"
     ]
    }
   ],
   "source": [
    "# make_archive() 归档操作\n",
    "# 格式：shutil.make_archive(\"归档后的目录和文件名\",\"后缀\",\"源文件\")\n",
    "# 返回值：归档之后的地址\n",
    "\n",
    "# 想得到一个叫bin.zip的归档文件\n",
    "rst = shutil.make_archive(\"/Users/chenc/bintar\",\"zip\",\"/Users/chenc/bin\")\n",
    "print(rst)"
   ]
  },
  {
   "cell_type": "code",
   "execution_count": null,
   "metadata": {},
   "outputs": [],
   "source": [
    "# unpack_archive() 解包操作\n",
    "# 格式：shutil.unpack_archvie(\"归档文件路径\",\"解包之后的路径\")\n",
    "# 返回值：解包后的路径"
   ]
  },
  {
   "cell_type": "markdown",
   "metadata": {},
   "source": [
    "# zip - 压缩包\n",
    "- 包名 zipfile"
   ]
  },
  {
   "cell_type": "code",
   "execution_count": 43,
   "metadata": {},
   "outputs": [],
   "source": [
    "import zipfile"
   ]
  },
  {
   "cell_type": "code",
   "execution_count": 49,
   "metadata": {},
   "outputs": [],
   "source": [
    "# zipfile.ZipFile(file[,mode[,compression[,allowZip64]]]\n",
    "# 创建一个ZipFile对象，表示一个zip文件\n",
    "# 参数file表示文件的路径或类文件对象\n",
    "\n",
    "zf = zipfile.ZipFile(\"/Users/chenc/bintar.zip\")"
   ]
  },
  {
   "cell_type": "code",
   "execution_count": 50,
   "metadata": {},
   "outputs": [
    {
     "name": "stdout",
     "output_type": "stream",
     "text": [
      "<ZipInfo filename='xld' compress_type=deflate filemode='-rwxr-xr-x' file_size=204 compress_size=155>\n"
     ]
    }
   ],
   "source": [
    "# ZipFile.getinfo(name):\n",
    "# 获取zip文档内指定文件的信息\n",
    "# 返回一个zipfile.ZipFileInfo对象，他们包括文件的详细信息\n",
    "\n",
    "rst = zf.getinfo(\"xld\")\n",
    "print(rst)"
   ]
  },
  {
   "cell_type": "code",
   "execution_count": 51,
   "metadata": {},
   "outputs": [
    {
     "name": "stdout",
     "output_type": "stream",
     "text": [
      "['sacd_extract', 'xld', 'sacd-readme.md']\n"
     ]
    }
   ],
   "source": [
    "\n",
    "# ZipFile.namelist()\n",
    "# 获取zip文档内所有文件名的名称列表\n",
    "\n",
    "nl = zf.namelist()\n",
    "print(nl)"
   ]
  },
  {
   "cell_type": "code",
   "execution_count": 55,
   "metadata": {},
   "outputs": [
    {
     "name": "stdout",
     "output_type": "stream",
     "text": [
      "None\n"
     ]
    }
   ],
   "source": [
    "\n",
    "# ZipFile.extractall([path[,members[,pwd]]])\n",
    "# 解压zip文档中所有文件倒当前目录\n",
    "\n",
    "rst = zf.extractall(\"/Users/chenc/111\")\n",
    "print(rst)"
   ]
  },
  {
   "cell_type": "markdown",
   "metadata": {},
   "source": [
    "# random\n",
    "- 随机数\n",
    "- 所有的随机模块都是伪随机"
   ]
  },
  {
   "cell_type": "code",
   "execution_count": 3,
   "metadata": {},
   "outputs": [],
   "source": [
    "import random"
   ]
  },
  {
   "cell_type": "code",
   "execution_count": 4,
   "metadata": {},
   "outputs": [
    {
     "name": "stdout",
     "output_type": "stream",
     "text": [
      "Help on built-in function random:\n",
      "\n",
      "random(...) method of random.Random instance\n",
      "    random() -> x in the interval [0, 1).\n",
      "\n"
     ]
    }
   ],
   "source": [
    "# random() 获取0-1之间的随机小数\n",
    "# 格式：random.random()\n",
    "# 返回值：0-1之间的小数\n",
    "help(random.random)\n",
    "# print(random.random(100))"
   ]
  },
  {
   "cell_type": "code",
   "execution_count": 19,
   "metadata": {},
   "outputs": [
    {
     "name": "stdout",
     "output_type": "stream",
     "text": [
      "2haha\n"
     ]
    }
   ],
   "source": [
    "# choice() 随机选择序列中的某个值\n",
    "# 格式：random.choice(序列)\n",
    "# 返回值：序列中的某个值\n",
    "\n",
    "l = [str(i) + \"haha\" for i in range(10)]\n",
    "rst = random.choice(l)\n",
    "print(rst)"
   ]
  },
  {
   "cell_type": "code",
   "execution_count": 21,
   "metadata": {},
   "outputs": [
    {
     "name": "stdout",
     "output_type": "stream",
     "text": [
      "[0, 1, 2, 3, 4, 5, 6, 7, 8, 9, 10, 11]\n",
      "[9, 8, 0, 1, 6, 10, 2, 7, 3, 4, 11, 5]\n"
     ]
    }
   ],
   "source": [
    "# shuffle() 随机打散列表\n",
    "# 格式：random.shuffle(列表)\n",
    "# 返回值：无返回值，原地打乱，可print源列表\n",
    "\n",
    "l1 = [i  for i in range(12)]\n",
    "print(l1)\n",
    "\n",
    "random.shuffle(l1)\n",
    "print(l1)"
   ]
  },
  {
   "cell_type": "code",
   "execution_count": 30,
   "metadata": {},
   "outputs": [
    {
     "name": "stdout",
     "output_type": "stream",
     "text": [
      "96\n"
     ]
    }
   ],
   "source": [
    "# randint(a,b) 返回一个a-b之间的随机整数，包含a和b\n",
    "\n",
    "print(random.randint(1,100))\n"
   ]
  },
  {
   "cell_type": "code",
   "execution_count": null,
   "metadata": {},
   "outputs": [],
   "source": []
  }
 ],
 "metadata": {
  "kernelspec": {
   "display_name": "Python 3",
   "language": "python",
   "name": "python3"
  },
  "language_info": {
   "codemirror_mode": {
    "name": "ipython",
    "version": 3
   },
   "file_extension": ".py",
   "mimetype": "text/x-python",
   "name": "python",
   "nbconvert_exporter": "python",
   "pygments_lexer": "ipython3",
   "version": "3.6.6"
  }
 },
 "nbformat": 4,
 "nbformat_minor": 2
}
