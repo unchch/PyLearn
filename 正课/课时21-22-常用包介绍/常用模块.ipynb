{
 "cells": [
  {
   "cell_type": "markdown",
   "metadata": {},
   "source": [
    "# 常用模块\n",
    "- calendar\n",
    "- time\n",
    "- datetime\n",
    "- timeit\n",
    "- os\n",
    "- shutil\n",
    "- zip\n",
    "- math\n",
    "- string\n",
    "\n",
    "以上模块在使用前要先导入，string是特例\n",
    "calendar time datetime 的区别参考中文意思"
   ]
  },
  {
   "cell_type": "markdown",
   "metadata": {},
   "source": [
    "## 1.calender\n",
    "- 日历相关的模块"
   ]
  },
  {
   "cell_type": "code",
   "execution_count": 2,
   "metadata": {},
   "outputs": [],
   "source": [
    "# 使用前先导入\n",
    "import calendar"
   ]
  },
  {
   "cell_type": "code",
   "execution_count": 17,
   "metadata": {},
   "outputs": [
    {
     "name": "stdout",
     "output_type": "stream",
     "text": [
      "                                  2018\n",
      "\n",
      "      January                   February                   March\n",
      "Mo Tu We Th Fr Sa Su      Mo Tu We Th Fr Sa Su      Mo Tu We Th Fr Sa Su\n",
      " 1  2  3  4  5  6  7                1  2  3  4                1  2  3  4\n",
      " 8  9 10 11 12 13 14       5  6  7  8  9 10 11       5  6  7  8  9 10 11\n",
      "15 16 17 18 19 20 21      12 13 14 15 16 17 18      12 13 14 15 16 17 18\n",
      "22 23 24 25 26 27 28      19 20 21 22 23 24 25      19 20 21 22 23 24 25\n",
      "29 30 31                  26 27 28                  26 27 28 29 30 31\n",
      "\n",
      "       April                      May                       June\n",
      "Mo Tu We Th Fr Sa Su      Mo Tu We Th Fr Sa Su      Mo Tu We Th Fr Sa Su\n",
      "                   1          1  2  3  4  5  6                   1  2  3\n",
      " 2  3  4  5  6  7  8       7  8  9 10 11 12 13       4  5  6  7  8  9 10\n",
      " 9 10 11 12 13 14 15      14 15 16 17 18 19 20      11 12 13 14 15 16 17\n",
      "16 17 18 19 20 21 22      21 22 23 24 25 26 27      18 19 20 21 22 23 24\n",
      "23 24 25 26 27 28 29      28 29 30 31               25 26 27 28 29 30\n",
      "30\n",
      "\n",
      "        July                     August                  September\n",
      "Mo Tu We Th Fr Sa Su      Mo Tu We Th Fr Sa Su      Mo Tu We Th Fr Sa Su\n",
      "                   1             1  2  3  4  5                      1  2\n",
      " 2  3  4  5  6  7  8       6  7  8  9 10 11 12       3  4  5  6  7  8  9\n",
      " 9 10 11 12 13 14 15      13 14 15 16 17 18 19      10 11 12 13 14 15 16\n",
      "16 17 18 19 20 21 22      20 21 22 23 24 25 26      17 18 19 20 21 22 23\n",
      "23 24 25 26 27 28 29      27 28 29 30 31            24 25 26 27 28 29 30\n",
      "30 31\n",
      "\n",
      "      October                   November                  December\n",
      "Mo Tu We Th Fr Sa Su      Mo Tu We Th Fr Sa Su      Mo Tu We Th Fr Sa Su\n",
      " 1  2  3  4  5  6  7                1  2  3  4                      1  2\n",
      " 8  9 10 11 12 13 14       5  6  7  8  9 10 11       3  4  5  6  7  8  9\n",
      "15 16 17 18 19 20 21      12 13 14 15 16 17 18      10 11 12 13 14 15 16\n",
      "22 23 24 25 26 27 28      19 20 21 22 23 24 25      17 18 19 20 21 22 23\n",
      "29 30 31                  26 27 28 29 30            24 25 26 27 28 29 30\n",
      "                                                    31\n",
      "\n",
      "<class 'str'>\n",
      "                                      2018\n",
      "\n",
      "      January                       February                       March\n",
      "Mo Tu We Th Fr Sa Su          Mo Tu We Th Fr Sa Su          Mo Tu We Th Fr Sa Su\n",
      " 1  2  3  4  5  6  7                    1  2  3  4                    1  2  3  4\n",
      " 8  9 10 11 12 13 14           5  6  7  8  9 10 11           5  6  7  8  9 10 11\n",
      "15 16 17 18 19 20 21          12 13 14 15 16 17 18          12 13 14 15 16 17 18\n",
      "22 23 24 25 26 27 28          19 20 21 22 23 24 25          19 20 21 22 23 24 25\n",
      "29 30 31                      26 27 28                      26 27 28 29 30 31\n",
      "\n",
      "       April                          May                           June\n",
      "Mo Tu We Th Fr Sa Su          Mo Tu We Th Fr Sa Su          Mo Tu We Th Fr Sa Su\n",
      "                   1              1  2  3  4  5  6                       1  2  3\n",
      " 2  3  4  5  6  7  8           7  8  9 10 11 12 13           4  5  6  7  8  9 10\n",
      " 9 10 11 12 13 14 15          14 15 16 17 18 19 20          11 12 13 14 15 16 17\n",
      "16 17 18 19 20 21 22          21 22 23 24 25 26 27          18 19 20 21 22 23 24\n",
      "23 24 25 26 27 28 29          28 29 30 31                   25 26 27 28 29 30\n",
      "30\n",
      "\n",
      "        July                         August                      September\n",
      "Mo Tu We Th Fr Sa Su          Mo Tu We Th Fr Sa Su          Mo Tu We Th Fr Sa Su\n",
      "                   1                 1  2  3  4  5                          1  2\n",
      " 2  3  4  5  6  7  8           6  7  8  9 10 11 12           3  4  5  6  7  8  9\n",
      " 9 10 11 12 13 14 15          13 14 15 16 17 18 19          10 11 12 13 14 15 16\n",
      "16 17 18 19 20 21 22          20 21 22 23 24 25 26          17 18 19 20 21 22 23\n",
      "23 24 25 26 27 28 29          27 28 29 30 31                24 25 26 27 28 29 30\n",
      "30 31\n",
      "\n",
      "      October                       November                      December\n",
      "Mo Tu We Th Fr Sa Su          Mo Tu We Th Fr Sa Su          Mo Tu We Th Fr Sa Su\n",
      " 1  2  3  4  5  6  7                    1  2  3  4                          1  2\n",
      " 8  9 10 11 12 13 14           5  6  7  8  9 10 11           3  4  5  6  7  8  9\n",
      "15 16 17 18 19 20 21          12 13 14 15 16 17 18          10 11 12 13 14 15 16\n",
      "22 23 24 25 26 27 28          19 20 21 22 23 24 25          17 18 19 20 21 22 23\n",
      "29 30 31                      26 27 28 29 30                24 25 26 27 28 29 30\n",
      "                                                            31\n",
      "\n"
     ]
    }
   ],
   "source": [
    "# calendar 获取一年的日历\n",
    "# 参数\n",
    "# w = 每个日期之间的间隔字符数\n",
    "# l = 每周所占用的字符数\n",
    "# c = 每个月之间的间隔字符数\n",
    "\n",
    "cal1 = calendar.calendar(2018)\n",
    "print(cal1)\n",
    "cal2 = calendar.calendar(2018,w=2,l=1,c=10)\n",
    "print(type(cal2))\n",
    "print(cal2)"
   ]
  },
  {
   "cell_type": "code",
   "execution_count": 18,
   "metadata": {},
   "outputs": [
    {
     "data": {
      "text/plain": [
       "True"
      ]
     },
     "execution_count": 18,
     "metadata": {},
     "output_type": "execute_result"
    }
   ],
   "source": [
    "# isleap 判断某一年是否是闰年\n",
    "calendar.isleap(2000)"
   ]
  },
  {
   "cell_type": "code",
   "execution_count": 19,
   "metadata": {},
   "outputs": [
    {
     "data": {
      "text/plain": [
       "29"
      ]
     },
     "execution_count": 19,
     "metadata": {},
     "output_type": "execute_result"
    }
   ],
   "source": [
    "# leapdays 获取指定年份之间闰年的个数\n",
    "calendar.leapdays(1900,2018)"
   ]
  },
  {
   "cell_type": "code",
   "execution_count": 24,
   "metadata": {},
   "outputs": [
    {
     "name": "stdout",
     "output_type": "stream",
     "text": [
      "Help on function leapdays in module calendar:\n",
      "\n",
      "leapdays(y1, y2)\n",
      "    Return number of leap years in range [y1, y2).\n",
      "    Assume y1 <= y2.\n",
      "\n"
     ]
    }
   ],
   "source": [
    "help(calendar.leapdays)"
   ]
  },
  {
   "cell_type": "code",
   "execution_count": 26,
   "metadata": {},
   "outputs": [
    {
     "name": "stdout",
     "output_type": "stream",
     "text": [
      "   November 2018\n",
      "Mo Tu We Th Fr Sa Su\n",
      "          1  2  3  4\n",
      " 5  6  7  8  9 10 11\n",
      "12 13 14 15 16 17 18\n",
      "19 20 21 22 23 24 25\n",
      "26 27 28 29 30\n",
      "\n"
     ]
    }
   ],
   "source": [
    "# month() 获取某个月的日历字符串\n",
    "# 格式 calendar.month(年，月)\n",
    "# 返回值： 月日历的字符串\n",
    "m11 = calendar.month(2018,11)\n",
    "print(m11)"
   ]
  },
  {
   "cell_type": "code",
   "execution_count": 27,
   "metadata": {},
   "outputs": [
    {
     "name": "stdout",
     "output_type": "stream",
     "text": [
      "Help on function monthrange in module calendar:\n",
      "\n",
      "monthrange(year, month)\n",
      "    Return weekday (0-6 ~ Mon-Sun) and number of days (28-31) for\n",
      "    year, month.\n",
      "\n"
     ]
    }
   ],
   "source": [
    "# monthrange() 获取一个月从周几开始和天数\n",
    "# 格式 calendar.monthrange(年，月)\n",
    "# 返回值 元组（周几开始，总天数）\n",
    "# 注意 周默认0-6，表示周一到周天\n",
    "\n",
    "help(calendar.monthrange)"
   ]
  },
  {
   "cell_type": "code",
   "execution_count": 29,
   "metadata": {},
   "outputs": [
    {
     "name": "stdout",
     "output_type": "stream",
     "text": [
      "(3, 30)\n",
      "3\n",
      "30\n"
     ]
    }
   ],
   "source": [
    "t = calendar.monthrange(2018,11)\n",
    "print(t)\n",
    "\n",
    "w,t = calendar.monthrange(2018,11)\n",
    "print(w)\n",
    "print(t)"
   ]
  },
  {
   "cell_type": "code",
   "execution_count": 32,
   "metadata": {},
   "outputs": [
    {
     "name": "stdout",
     "output_type": "stream",
     "text": [
      "<class 'list'>\n",
      "[[0, 0, 0, 1, 2, 3, 4], [5, 6, 7, 8, 9, 10, 11], [12, 13, 14, 15, 16, 17, 18], [19, 20, 21, 22, 23, 24, 25], [26, 27, 28, 29, 30, 0, 0]]\n"
     ]
    }
   ],
   "source": [
    "# monthcalendar() 返回一个月每天的矩阵\n",
    "# 格式 calendar.monthcalendar(年，月)\n",
    "# 返回值：二级列表\n",
    "# 注意：矩阵中没有天数用0表示\n",
    "m = calendar.monthcalendar(2018,11)\n",
    "print(type(m))\n",
    "print(m)"
   ]
  },
  {
   "cell_type": "code",
   "execution_count": 35,
   "metadata": {},
   "outputs": [
    {
     "name": "stdout",
     "output_type": "stream",
     "text": [
      "                                  2018\n",
      "\n",
      "      January                   February                   March\n",
      "Mo Tu We Th Fr Sa Su      Mo Tu We Th Fr Sa Su      Mo Tu We Th Fr Sa Su\n",
      " 1  2  3  4  5  6  7                1  2  3  4                1  2  3  4\n",
      " 8  9 10 11 12 13 14       5  6  7  8  9 10 11       5  6  7  8  9 10 11\n",
      "15 16 17 18 19 20 21      12 13 14 15 16 17 18      12 13 14 15 16 17 18\n",
      "22 23 24 25 26 27 28      19 20 21 22 23 24 25      19 20 21 22 23 24 25\n",
      "29 30 31                  26 27 28                  26 27 28 29 30 31\n",
      "\n",
      "       April                      May                       June\n",
      "Mo Tu We Th Fr Sa Su      Mo Tu We Th Fr Sa Su      Mo Tu We Th Fr Sa Su\n",
      "                   1          1  2  3  4  5  6                   1  2  3\n",
      " 2  3  4  5  6  7  8       7  8  9 10 11 12 13       4  5  6  7  8  9 10\n",
      " 9 10 11 12 13 14 15      14 15 16 17 18 19 20      11 12 13 14 15 16 17\n",
      "16 17 18 19 20 21 22      21 22 23 24 25 26 27      18 19 20 21 22 23 24\n",
      "23 24 25 26 27 28 29      28 29 30 31               25 26 27 28 29 30\n",
      "30\n",
      "\n",
      "        July                     August                  September\n",
      "Mo Tu We Th Fr Sa Su      Mo Tu We Th Fr Sa Su      Mo Tu We Th Fr Sa Su\n",
      "                   1             1  2  3  4  5                      1  2\n",
      " 2  3  4  5  6  7  8       6  7  8  9 10 11 12       3  4  5  6  7  8  9\n",
      " 9 10 11 12 13 14 15      13 14 15 16 17 18 19      10 11 12 13 14 15 16\n",
      "16 17 18 19 20 21 22      20 21 22 23 24 25 26      17 18 19 20 21 22 23\n",
      "23 24 25 26 27 28 29      27 28 29 30 31            24 25 26 27 28 29 30\n",
      "30 31\n",
      "\n",
      "      October                   November                  December\n",
      "Mo Tu We Th Fr Sa Su      Mo Tu We Th Fr Sa Su      Mo Tu We Th Fr Sa Su\n",
      " 1  2  3  4  5  6  7                1  2  3  4                      1  2\n",
      " 8  9 10 11 12 13 14       5  6  7  8  9 10 11       3  4  5  6  7  8  9\n",
      "15 16 17 18 19 20 21      12 13 14 15 16 17 18      10 11 12 13 14 15 16\n",
      "22 23 24 25 26 27 28      19 20 21 22 23 24 25      17 18 19 20 21 22 23\n",
      "29 30 31                  26 27 28 29 30            24 25 26 27 28 29 30\n",
      "                                                    31\n",
      "\n",
      "Help on method pryear in module calendar:\n",
      "\n",
      "pryear(theyear, w=0, l=0, c=6, m=3) method of calendar.TextCalendar instance\n",
      "    Print a year's calendar.\n",
      "\n"
     ]
    }
   ],
   "source": [
    "# prcal: 直接打印日历\n",
    "calendar.prcal(2018)\n",
    "help(calendar.prcal)"
   ]
  },
  {
   "cell_type": "code",
   "execution_count": 37,
   "metadata": {},
   "outputs": [
    {
     "name": "stdout",
     "output_type": "stream",
     "text": [
      "   December 2019\n",
      "Mo Tu We Th Fr Sa Su\n",
      "                   1\n",
      " 2  3  4  5  6  7  8\n",
      " 9 10 11 12 13 14 15\n",
      "16 17 18 19 20 21 22\n",
      "23 24 25 26 27 28 29\n",
      "30 31\n"
     ]
    }
   ],
   "source": [
    "# prmonth() 打印月日历\n",
    "# 格式 calendar.prmonth(年，月)\n",
    "# 返回值 无\n",
    "\n",
    "calendar.prmonth(2019,12)\n"
   ]
  },
  {
   "cell_type": "code",
   "execution_count": 40,
   "metadata": {},
   "outputs": [
    {
     "data": {
      "text/plain": [
       "3"
      ]
     },
     "execution_count": 40,
     "metadata": {},
     "output_type": "execute_result"
    }
   ],
   "source": [
    "# weekday() 获取周几\n",
    "# 格式： calendar.weekday(年，月， 日)\n",
    "# 返回值：周几对应的数字，注意0-6表示周一到周天\n",
    "\n",
    "calendar.weekday(2018,11,8)"
   ]
  },
  {
   "cell_type": "markdown",
   "metadata": {},
   "source": [
    "# time 模块\n",
    "\n",
    "## 时间戳\n",
    "  - 一个时间表示，根据不同的语言，可以是整数或浮点数\n",
    "  - 从1970-00-00 00:00:00 开始计算到现在经历的秒数\n",
    "  - 如果表示的时间是1970以前或者太遥远的未来，可能出现异常\n",
    "  - 32位操作系统能够支持到2038年\n",
    "  \n",
    "## UTC时间\n",
    "  - 世界协调时间，也叫世界标准时间，自行百度\n",
    "  - 中国是UTC+8，东8区\n",
    "  \n",
    "## 夏令时\n",
    "  - 自行百度\n",
    "  \n",
    "## 时间元组\n",
    "  - 一个包含时间内容的普通元组\n",
    "  \n",
    "        序号\t字段\t        值\n",
    "        0 \t  4位数年 \t     2008\n",
    "        1 \t  月 \t       1 到 12\n",
    "        2 \t  日 \t       1到31\n",
    "        3 \t  小时 \t      0到23\n",
    "        4 \t  分钟 \t      0到59\n",
    "        5 \t  秒 \t       0到61 (60或61 是闰秒)\n",
    "        6 \t  一周的第几日   0到6 (0是周一)\n",
    "        7 \t  一年的第几日   1到366 (儒略历)\n",
    "        8 \t  夏令时        -1, 0, 1, -1是决定是否为夏令时的旗帜\n",
    "        \n",
    "        序号\t属性\t        值\n",
    "        0 \ttm_year \t   2008\n",
    "        1 \ttm_mon \t       1 到 12\n",
    "        2 \ttm_mday \t   1 到 31\n",
    "        3 \ttm_hour \t   0 到 23\n",
    "        4 \ttm_min \t       0 到 59\n",
    "        5 \ttm_sec \t       0 到 61 (60或61 是闰秒)\n",
    "        6 \ttm_wday \t   0到6 (0是周一)\n",
    "        7 \ttm_yday \t   1 到 366(儒略历)\n",
    "        8 \ttm_isdst \t   -1, 0, 1, -1是决定是否为夏令时的旗帜\n",
    "        \n",
    "        "
   ]
  },
  {
   "cell_type": "code",
   "execution_count": 42,
   "metadata": {},
   "outputs": [],
   "source": [
    "# 需要单独导入\n",
    "import time"
   ]
  },
  {
   "cell_type": "code",
   "execution_count": 45,
   "metadata": {},
   "outputs": [
    {
     "name": "stdout",
     "output_type": "stream",
     "text": [
      "-28800\n",
      "-28800\n",
      "0\n"
     ]
    }
   ],
   "source": [
    "# 时间模块的属性\n",
    "# timezone 当前系统的时区与UTC时间相差的秒数，在没有夏令时的情况的间隔，东8区是-28800\n",
    "# altzone 当前系统的时区与UTC时间相差的秒数，在有夏令时的情况\n",
    "# daylight 检测当前是否是夏令时，0 表示是\n",
    "print(time.timezone)\n",
    "print(time.altzone)\n",
    "print(time.daylight)"
   ]
  },
  {
   "cell_type": "code",
   "execution_count": 47,
   "metadata": {},
   "outputs": [
    {
     "data": {
      "text/plain": [
       "1541673293.428216"
      ]
     },
     "execution_count": 47,
     "metadata": {},
     "output_type": "execute_result"
    }
   ],
   "source": [
    "# 得到时间戳\n",
    "time.time()"
   ]
  },
  {
   "cell_type": "code",
   "execution_count": 52,
   "metadata": {},
   "outputs": [
    {
     "name": "stdout",
     "output_type": "stream",
     "text": [
      "time.struct_time(tm_year=2018, tm_mon=11, tm_mday=8, tm_hour=18, tm_min=36, tm_sec=11, tm_wday=3, tm_yday=312, tm_isdst=0)\n",
      "18\n"
     ]
    }
   ],
   "source": [
    "# localtime 得到当前时间的时间结构\n",
    "# 可以通过点号操作符得到相应属性的值\n",
    "t = time.localtime()\n",
    "print(t)\n",
    "print(t.tm_hour)"
   ]
  },
  {
   "cell_type": "code",
   "execution_count": 56,
   "metadata": {},
   "outputs": [
    {
     "name": "stdout",
     "output_type": "stream",
     "text": [
      "time.struct_time(tm_year=2018, tm_mon=11, tm_mday=8, tm_hour=18, tm_min=39, tm_sec=45, tm_wday=3, tm_yday=312, tm_isdst=0)\n",
      "==================================================\n",
      "Thu Nov  8 18:39:45 2018\n",
      "<class 'str'>\n"
     ]
    }
   ],
   "source": [
    "# asctime() 返回元组的正常字符串化之后的时间格式\n",
    "# 格式： time.asctime(时间元组)\n",
    "# 返回值： 字符串 Tue Jun 6 11:11:00 2018\n",
    "t = time.localtime()\n",
    "print(t)\n",
    "print(\"=\" * 50)\n",
    "tt = time.asctime(t)\n",
    "print(tt)\n",
    "print(type(tt))"
   ]
  },
  {
   "cell_type": "code",
   "execution_count": 57,
   "metadata": {},
   "outputs": [
    {
     "name": "stdout",
     "output_type": "stream",
     "text": [
      "<class 'str'>\n",
      "Thu Nov  8 18:40:40 2018\n"
     ]
    }
   ],
   "source": [
    "# ctime 获取字符串化的当前时间\n",
    "t = time.ctime()\n",
    "print(type(t))\n",
    "print(t)"
   ]
  },
  {
   "cell_type": "code",
   "execution_count": 58,
   "metadata": {},
   "outputs": [
    {
     "name": "stdout",
     "output_type": "stream",
     "text": [
      "<class 'float'>\n",
      "1541735370.0\n"
     ]
    }
   ],
   "source": [
    "# mktime() 使用时间元组获取对应的时间戳\n",
    "# 格式： time.mktime(时间元组)\n",
    "# 返回值： 浮点数时间戳\n",
    "\n",
    "lt = time.localtime()\n",
    "ts = time.mktime(lt)\n",
    "print(type(ts))\n",
    "print(ts)"
   ]
  },
  {
   "cell_type": "code",
   "execution_count": 60,
   "metadata": {},
   "outputs": [],
   "source": [
    "# clock  获取cpu时间，3.0-3.3版本之间可以使用，3.6使用有问题"
   ]
  },
  {
   "cell_type": "code",
   "execution_count": 64,
   "metadata": {},
   "outputs": [
    {
     "name": "stdout",
     "output_type": "stream",
     "text": [
      "0 1 2 3 4 5 6 7 8 9 "
     ]
    }
   ],
   "source": [
    "# sleep 使程序进入睡觉状态，n秒之后继续\n",
    "for i in range(10):\n",
    "    print(i,end = \" \")\n",
    "    time.sleep(1)"
   ]
  },
  {
   "cell_type": "code",
   "execution_count": 65,
   "metadata": {},
   "outputs": [
    {
     "name": "stdout",
     "output_type": "stream",
     "text": [
      "0.0018810000000000215\n"
     ]
    }
   ],
   "source": [
    "def p():\n",
    "    time.sleep(2.5)\n",
    "    \n",
    "t0 = time.clock()\n",
    "\n",
    "p()\n",
    "\n",
    "t1 = time.clock()\n",
    "\n",
    "print(t1 - t0)"
   ]
  },
  {
   "cell_type": "markdown",
   "metadata": {},
   "source": [
    "### strftime 将时间元组转化为自定义的字符串格式\n",
    "\n",
    "        python中时间日期格式化符号：\n",
    "    \n",
    "        %a 本地简化星期名称\n",
    "        %A 本地完整星期名称\n",
    "        %b 本地简化的月份名称\n",
    "        %B 本地完整的月份名称\n",
    "        %c 本地相应的日期表示和时间表示\n",
    "        %d 月内中的一天（0-31）\n",
    "        %H 24小时制小时数（0-23）\n",
    "        %I 12小时制小时数（01-12）   \n",
    "        %S 秒（00-59）    \n",
    "        %j 年内的一天（001-366）\n",
    "        %M 分钟数（00=59）\n",
    "        %m 月份（01-12）\n",
    "        %p 本地A.M.或P.M.的等价符\n",
    "        %U 一年中的星期数（00-53）星期天为星期的开始\n",
    "        %w 星期（0-6），星期天为星期的开始\n",
    "        %W 一年中的星期数（00-53）星期一为星期的开始\n",
    "        %x 本地相应的日期表示\n",
    "        %X 本地相应的时间表示\n",
    "        %y 两位数的年份表示（00-99）\n",
    "        %Y 四位数的年份表示（000-9999）\n",
    "        %Z 当前时区的名称\n",
    "        %% %号本身\n"
   ]
  },
  {
   "cell_type": "code",
   "execution_count": 70,
   "metadata": {},
   "outputs": [
    {
     "name": "stdout",
     "output_type": "stream",
     "text": [
      "2018-11-09 12:05:46\n"
     ]
    }
   ],
   "source": [
    "# 把时间表示为 2018-11-09 12:03:00\n",
    "t = time.localtime()\n",
    "ft = time.strftime(\"%Y-%m-%d %H:%M:%S\",t)\n",
    "print(ft)"
   ]
  },
  {
   "cell_type": "markdown",
   "metadata": {},
   "source": [
    "# datetime 模块\n",
    "- datetime 提供日期和时间远算和表示"
   ]
  },
  {
   "cell_type": "code",
   "execution_count": 72,
   "metadata": {},
   "outputs": [],
   "source": [
    "import datetime"
   ]
  },
  {
   "cell_type": "code",
   "execution_count": 77,
   "metadata": {},
   "outputs": [
    {
     "name": "stdout",
     "output_type": "stream",
     "text": [
      "2018-11-09\n",
      "2018\n",
      "11\n",
      "9\n"
     ]
    }
   ],
   "source": [
    "# datetime 常见属性\n",
    "# datetime.date 一个理想的日期格式，提供year,month,day属性\n",
    "\n",
    "dt = datetime.date(2018,11,9)\n",
    "print(dt)\n",
    "print(dt.year)\n",
    "print(dt.month)\n",
    "print(dt.day)\n",
    "\n",
    "# datetime.time 提供一个理想和的时间，提供hour,minute,second,microsecond\n",
    "# datetime.datetime 提供日期和时间的组合\n",
    "# datetime.timedelta 提供一个时间差，时间长度"
   ]
  },
  {
   "cell_type": "code",
   "execution_count": 80,
   "metadata": {},
   "outputs": [
    {
     "name": "stdout",
     "output_type": "stream",
     "text": [
      "2018-11-09 12:13:22.034790\n",
      "2018-11-09 12:13:22.034996\n",
      "2018-11-09 12:13:22.035068\n"
     ]
    }
   ],
   "source": [
    "# datetime.datetime\n",
    "from datetime import datetime\n",
    "# 常用类方法：\n",
    "# today\n",
    "# now\n",
    "# utcnow\n",
    "# fromtimestamp 从时间戳中返回本地时间\n",
    "\n",
    "dt = datetime(2018,11,11)\n",
    "print(dt.today())\n",
    "print(dt.now())\n",
    "\n",
    "print(dt.fromtimestamp(time.time()))"
   ]
  },
  {
   "cell_type": "code",
   "execution_count": 83,
   "metadata": {},
   "outputs": [
    {
     "name": "stdout",
     "output_type": "stream",
     "text": [
      "2018-11-09 12:15:48.454428\n",
      "2018-11-09 12:15:48\n",
      "2018-11-09 13:15:48\n"
     ]
    }
   ],
   "source": [
    "# datetime.timedelta\n",
    "# 表示一个时间间隔\n",
    "\n",
    "from datetime import datetime,timedelta\n",
    "\n",
    "# 当前时间\n",
    "t1 = datetime.now()\n",
    "print(t1)\n",
    "print(t1.strftime(\"%Y-%m-%d %H:%M:%S\"))\n",
    "\n",
    "# td 表示以小时的时间长度\n",
    "td = timedelta(hours=1)\n",
    "# 当前时间t1 加上一个td 时间间隔，得到一个新的时间\n",
    "print((t1+td).strftime(\"%Y-%m-%d %H:%M:%S\"))"
   ]
  },
  {
   "cell_type": "code",
   "execution_count": 84,
   "metadata": {},
   "outputs": [
    {
     "name": "stdout",
     "output_type": "stream",
     "text": [
      "3.6043291091918945\n"
     ]
    }
   ],
   "source": [
    "# timeit - 时间测量工具\n",
    "\n",
    "# 测量程序运行时间\n",
    "def p():\n",
    "    time.sleep(3.6)\n",
    "    \n",
    "t1 = time.time()\n",
    "p()\n",
    "print(time.time() - t1)"
   ]
  },
  {
   "cell_type": "code",
   "execution_count": 92,
   "metadata": {},
   "outputs": [
    {
     "name": "stdout",
     "output_type": "stream",
     "text": [
      "3.24439945697668\n",
      "6.869429546000902\n"
     ]
    }
   ],
   "source": [
    "import timeit\n",
    "#生成列表两种方法的比较\n",
    "# 如果单纯比较生成一个列表的时间，可能很难时间\n",
    "c = '''\n",
    "sum = []\n",
    "for i in range(1000):\n",
    "    sum.append(i)\n",
    "'''\n",
    "\n",
    "# 里哦那个timeit调用代码，执行100000次，查看运行的时间\n",
    "t1 = timeit.timeit(stmt = \"[i for i in range(1000)]\",number = 100000)\n",
    "\n",
    "# 测量代码c执行100000次运行结果\n",
    "t2 = timeit.timeit(stmt=c, number = 100000)\n",
    "\n",
    "print(t1)\n",
    "print(t2)"
   ]
  },
  {
   "cell_type": "code",
   "execution_count": 93,
   "metadata": {},
   "outputs": [
    {
     "name": "stdout",
     "output_type": "stream",
     "text": [
      "repeat for 0\n",
      "repeat for 1\n",
      "repeat for 2\n",
      "repeat for 0\n",
      "repeat for 1\n",
      "repeat for 2\n",
      "repeat for 0\n",
      "repeat for 1\n",
      "repeat for 2\n",
      "repeat for 0\n",
      "repeat for 1\n",
      "repeat for 2\n",
      "repeat for 0\n",
      "repeat for 1\n",
      "repeat for 2\n",
      "repeat for 0\n",
      "repeat for 1\n",
      "repeat for 2\n",
      "repeat for 0\n",
      "repeat for 1\n",
      "repeat for 2\n",
      "repeat for 0\n",
      "repeat for 1\n",
      "repeat for 2\n",
      "repeat for 0\n",
      "repeat for 1\n",
      "repeat for 2\n",
      "repeat for 0\n",
      "repeat for 1\n",
      "repeat for 2\n",
      "0.002741490985499695\n"
     ]
    }
   ],
   "source": [
    "# timeit 可以执行一个函数，来测量函数的执行时间\n",
    "def doIt():\n",
    "    num = 3\n",
    "    for i in range(num):\n",
    "        print(\"repeat for {0}\".format(i))\n",
    "\n",
    "# 执行函数执行10次\n",
    "t = timeit.timeit(stmt=doIt,number=10)\n",
    "print(t)\n",
    "\n",
    "# help(timeit.timeit)"
   ]
  },
  {
   "cell_type": "code",
   "execution_count": 97,
   "metadata": {},
   "outputs": [
    {
     "name": "stdout",
     "output_type": "stream",
     "text": [
      "repeat for 0\n",
      "repeat for 1\n",
      "repeat for 2\n",
      "repeat for 0\n",
      "repeat for 1\n",
      "repeat for 2\n",
      "repeat for 0\n",
      "repeat for 1\n",
      "repeat for 2\n",
      "repeat for 0\n",
      "repeat for 1\n",
      "repeat for 2\n",
      "repeat for 0\n",
      "repeat for 1\n",
      "repeat for 2\n",
      "repeat for 0\n",
      "repeat for 1\n",
      "repeat for 2\n",
      "repeat for 0\n",
      "repeat for 1\n",
      "repeat for 2\n",
      "repeat for 0\n",
      "repeat for 1\n",
      "repeat for 2\n",
      "repeat for 0\n",
      "repeat for 1\n",
      "repeat for 2\n",
      "repeat for 0\n",
      "repeat for 1\n",
      "repeat for 2\n",
      "0.0009145720105152577\n"
     ]
    }
   ],
   "source": [
    "s = '''\n",
    "def doIt(num):\n",
    "    for i in range(num):\n",
    "        print(\"repeat for {0}\".format(i))\n",
    "'''\n",
    "\n",
    "# 执行doIt(num)\n",
    "# setup 负责把环境变量准备好\n",
    "# s 代表代码块s，并给出一个参数\n",
    "# 实际上相当于给timeit创建了一个小环境，代码执行的顺序大概是\n",
    "'''\n",
    "def doIt(num):\n",
    "    ...\n",
    "    \n",
    "num = 3\n",
    "\n",
    "doIt(num)\n",
    "'''\n",
    "t = timeit.timeit(\"doIt(num)\",setup=s+\"num=3\",number=10)\n",
    "print(t)"
   ]
  },
  {
   "cell_type": "markdown",
   "metadata": {},
   "source": [
    "# datetime.datetime 模块\n",
    "- 提供比较好用的时间而已\n",
    "- 类定义\n",
    "\n",
    "        class datetime.datetime(year, month, day, hour=0, minute=0, second=0, microsecond=0, tzinfo=None)\n",
    "        \n",
    "        中这些参数的范围是：\n",
    "        MINYEAR <= year <= MAXYEAR \n",
    "        1 <= month <= 12 \n",
    "        1 <= day <= number of days in the given month and year \n",
    "        0 <= hour < 24 \n",
    "        0 <= minute < 60 \n",
    "        0 <= second < 60 \n",
    "        0 <= microsecond < 1000000 \n",
    "        其中MINYEAR和MAXYEAR是常量，分别为1和9999\n",
    "        如果超过了这些参数的范围会报ValueError错误。\n",
    "        \n",
    "- 类方法\n",
    "  - datetime.today()\n",
    "  - 等等，自行查找\n",
    "\n",
    "- 实例方法\n",
    "  - datetime.date()\n",
    "  - 等等，自行查找"
   ]
  },
  {
   "cell_type": "code",
   "execution_count": 1,
   "metadata": {
    "scrolled": true
   },
   "outputs": [
    {
     "name": "stdout",
     "output_type": "stream",
     "text": [
      "2018-11-09 16:05:30.317050\n"
     ]
    }
   ],
   "source": [
    "from datetime import datetime as dt\n",
    "print(dt.now())"
   ]
  },
  {
   "cell_type": "code",
   "execution_count": null,
   "metadata": {},
   "outputs": [],
   "source": []
  }
 ],
 "metadata": {
  "kernelspec": {
   "display_name": "Python 3",
   "language": "python",
   "name": "python3"
  },
  "language_info": {
   "codemirror_mode": {
    "name": "ipython",
    "version": 3
   },
   "file_extension": ".py",
   "mimetype": "text/x-python",
   "name": "python",
   "nbconvert_exporter": "python",
   "pygments_lexer": "ipython3",
   "version": "3.6.6"
  }
 },
 "nbformat": 4,
 "nbformat_minor": 2
}
