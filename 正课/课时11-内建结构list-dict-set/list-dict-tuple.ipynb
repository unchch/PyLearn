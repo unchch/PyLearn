{
 "cells": [
  {
   "cell_type": "markdown",
   "metadata": {},
   "source": [
    " # 列表的函数"
   ]
  },
  {
   "cell_type": "code",
   "execution_count": 6,
   "metadata": {},
   "outputs": [
    {
     "data": {
      "text/plain": [
       "['a', 'b', 45, 67, 89, (5+6j)]"
      ]
     },
     "execution_count": 6,
     "metadata": {},
     "output_type": "execute_result"
    }
   ],
   "source": [
    "l = ['a','b',45,67,89,5+6j]\n",
    "l\n"
   ]
  },
  {
   "cell_type": "code",
   "execution_count": 8,
   "metadata": {},
   "outputs": [
    {
     "name": "stdout",
     "output_type": "stream",
     "text": [
      "[1, 2, 3, 4, 100]\n"
     ]
    }
   ],
   "source": [
    "# append 插入，位置是末尾\n",
    "a = [ i for i in range(1,5)]\n",
    "a.append(100)\n",
    "print(a)"
   ]
  },
  {
   "cell_type": "code",
   "execution_count": null,
   "metadata": {},
   "outputs": [],
   "source": [
    "# insert 指定位置插入\n",
    "# 需要两个参数 insert(index, data)，位置是在index前面"
   ]
  },
  {
   "cell_type": "code",
   "execution_count": 39,
   "metadata": {},
   "outputs": [
    {
     "name": "stdout",
     "output_type": "stream",
     "text": [
      "9\n",
      "[1, 2, 3, 4, 5, 6, 7, 8]\n"
     ]
    }
   ],
   "source": [
    "# 删除\n",
    "# del 按下标删除\n",
    "# pop 弹出（将最后一个元素取出或弹出）\n",
    "a = [1,2,3,4,5,6,7,8,9]\n",
    "last_ele = a.pop()\n",
    "print(last_ele)\n",
    "print(a)"
   ]
  },
  {
   "cell_type": "code",
   "execution_count": 15,
   "metadata": {},
   "outputs": [
    {
     "name": "stdout",
     "output_type": "stream",
     "text": [
      "[1, 2, 3, 4, 5, 6, 7, 8, 100, 666]\n",
      "4512449736\n",
      "[1, 2, 3, 5, 6, 7, 8, 100, 666]\n",
      "4512449736\n"
     ]
    }
   ],
   "source": [
    "# remove 移除指定值的元素\n",
    "# 值必须存在，否则会报错\n",
    "# 删除list指定的值，应该使用 try...except 语句，或者使用 if 语句先行判断\n",
    "# if x in list:\n",
    "#     list.remove(x)\n",
    "\n",
    "a = [1,2,3,4,5,6,7,8,100,666]\n",
    "print(a)\n",
    "print(id(a))\n",
    "a.remove(4)\n",
    "print(a)\n",
    "print(id(a))\n",
    "\n",
    "# 删除前后id一致，说明删除是在源列表上操作\n"
   ]
  },
  {
   "cell_type": "code",
   "execution_count": 18,
   "metadata": {},
   "outputs": [
    {
     "name": "stdout",
     "output_type": "stream",
     "text": [
      "[1, 2, 3, 4, 5, 6, 7, 8, 100, 666]\n",
      "4512449736\n",
      "[]\n",
      "4512449736\n"
     ]
    }
   ],
   "source": [
    "# clear() 清空，只是清空列表中的数据，列表还在\n",
    "a = [1,2,3,4,5,6,7,8,100,666]\n",
    "print(a)\n",
    "print(id(a))\n",
    "a.clear()\n",
    "print(a)\n",
    "print(id(a))\n",
    "\n",
    "# 如果不需要列表地址保持不变，可直接赋值空列表即可\n",
    "# a = []"
   ]
  },
  {
   "cell_type": "code",
   "execution_count": 19,
   "metadata": {},
   "outputs": [
    {
     "name": "stdout",
     "output_type": "stream",
     "text": [
      "[1, 2, 3, 4, 5, 6, 7, 8, 100, 666]\n",
      "4512818760\n",
      "[666, 100, 8, 7, 6, 5, 4, 3, 2, 1]\n",
      "4512818760\n"
     ]
    }
   ],
   "source": [
    "# reverse() 原地反转\n",
    "a = [1,2,3,4,5,6,7,8,100,666]\n",
    "print(a)\n",
    "print(id(a))\n",
    "\n",
    "a.reverse()\n",
    "print(a)\n",
    "print(id(a))\n",
    "\n"
   ]
  },
  {
   "cell_type": "code",
   "execution_count": 21,
   "metadata": {},
   "outputs": [
    {
     "name": "stdout",
     "output_type": "stream",
     "text": [
      "[1, 2, 3, 4, 5, 6, 7, 8]\n"
     ]
    }
   ],
   "source": [
    "# extend 扩展列表，两个列表，把其中一个拼接到另一个后面\n",
    "\n",
    "a = [1,2,3,4]\n",
    "b = [5,6,7,8]\n",
    "\n",
    "a.extend(b)\n",
    "print(a)\n"
   ]
  },
  {
   "cell_type": "code",
   "execution_count": 22,
   "metadata": {},
   "outputs": [
    {
     "name": "stdout",
     "output_type": "stream",
     "text": [
      "2\n"
     ]
    }
   ],
   "source": [
    "# count 查找指定值的个数\n",
    "a = [1,2,3,4,5,6,4,5,3,5,3]\n",
    "\n",
    "count1 = a.count(4)\n",
    "print(count1)"
   ]
  },
  {
   "cell_type": "code",
   "execution_count": 25,
   "metadata": {},
   "outputs": [
    {
     "name": "stdout",
     "output_type": "stream",
     "text": [
      "4513071624\n",
      "4513071624\n",
      "4512383752\n"
     ]
    }
   ],
   "source": [
    "# copy 浅拷贝，是传值，会新生成一份与原list不同的list\n",
    "a = [1,2,3,4,5]\n",
    "b = a\n",
    "\n",
    "print(id(a))\n",
    "print(id(b))\n",
    "# 此时修改b，会影响a，即a/b在内存中指向同一个\n",
    "\n",
    "c = a.copy()\n",
    "print(id(c))\n",
    "\n",
    "# 此时修改c不会影响a"
   ]
  },
  {
   "cell_type": "code",
   "execution_count": 29,
   "metadata": {},
   "outputs": [
    {
     "name": "stdout",
     "output_type": "stream",
     "text": [
      "4512907976\n",
      "4512907976\n",
      "[1, 2, 3, [10, 20, 666]]\n",
      "[1, 2, 3, [10, 20, 666]]\n",
      "4512907976\n",
      "4512907976\n"
     ]
    }
   ],
   "source": [
    "# 深拷贝 和 浅拷贝 的区别\n",
    "\n",
    "a = [1,2,3,[10,20,30]]\n",
    "b = a.copy()\n",
    "print(id(a[3]))\n",
    "print(id(b[3]))\n",
    "a[3][2] = 666\n",
    "\n",
    "print(a)\n",
    "print(b)\n",
    "\n",
    "print(id(a[3]))\n",
    "print(id(b[3]))\n",
    "\n",
    "# 此时修改a中的嵌套队列，发现b中的嵌套队列也被修改了，说明只是传址了\n",
    "# 嵌套的list 只是拷贝了地址\n",
    "# 深拷贝需要特定工具"
   ]
  },
  {
   "cell_type": "markdown",
   "metadata": {},
   "source": [
    "# 元组 tuple\n",
    "- 元组可以看成是一个不可更改的list\n",
    "\n",
    "## 元组创建"
   ]
  },
  {
   "cell_type": "code",
   "execution_count": 38,
   "metadata": {},
   "outputs": [
    {
     "name": "stdout",
     "output_type": "stream",
     "text": [
      "<class 'tuple'>\n",
      "<class 'tuple'>\n",
      "(1,)\n",
      "<class 'int'>\n",
      "1\n",
      "<class 'tuple'>\n",
      "(1, 2, 3, 4, 5)\n",
      "<class 'tuple'>\n",
      "(1, 2, 3, 4, 5)\n",
      "<class 'tuple'>\n",
      "(1, 2, 3, 4, 5, 6, 7, 8, 9)\n"
     ]
    }
   ],
   "source": [
    "# 创建空元组\n",
    "t = ()\n",
    "print(type(t))\n",
    "\n",
    "# 创建一个只有一个元素的元组\n",
    "t = (1,) # 最后要加一个逗号，才能被识别为tuple，否则就是int类型\n",
    "print(type(t))\n",
    "print(t)\n",
    "\n",
    "t = 1\n",
    "print(type(t))\n",
    "print(t)\n",
    "\n",
    "\n",
    "# 创建多个值的元组\n",
    "t = (1,2,3,4,5)\n",
    "print(type(t))\n",
    "print(t)\n",
    "\n",
    "t = 1,2,3,4,5\n",
    "print(type(t))\n",
    "print(t)\n",
    "\n",
    "# 使用其他结构创建\n",
    "\n",
    "l = [1,2,3,4,5,6,7,8,9]\n",
    "t = tuple(l)\n",
    "print(type(t))\n",
    "print(t)"
   ]
  },
  {
   "cell_type": "markdown",
   "metadata": {},
   "source": [
    "## 元组的特性\n",
    "- 是序列表，有序\n",
    "- 元组数值可以访问，但不能修改，报错新增修改删除\n",
    "- 总之中，除了不能修改，list的特性都有\n",
    "  - list 有的一些操作，索引切片序列相加相乘成员资格操作等，一模一样"
   ]
  },
  {
   "cell_type": "code",
   "execution_count": null,
   "metadata": {},
   "outputs": [],
   "source": []
  },
  {
   "cell_type": "code",
   "execution_count": null,
   "metadata": {},
   "outputs": [],
   "source": []
  },
  {
   "cell_type": "code",
   "execution_count": null,
   "metadata": {},
   "outputs": [],
   "source": []
  },
  {
   "cell_type": "code",
   "execution_count": null,
   "metadata": {},
   "outputs": [],
   "source": []
  }
 ],
 "metadata": {
  "kernelspec": {
   "display_name": "Python 3",
   "language": "python",
   "name": "python3"
  },
  "language_info": {
   "codemirror_mode": {
    "name": "ipython",
    "version": 3
   },
   "file_extension": ".py",
   "mimetype": "text/x-python",
   "name": "python",
   "nbconvert_exporter": "python",
   "pygments_lexer": "ipython3",
   "version": "3.6.6"
  }
 },
 "nbformat": 4,
 "nbformat_minor": 2
}
