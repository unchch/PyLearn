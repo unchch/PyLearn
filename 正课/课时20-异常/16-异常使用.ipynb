{
 "cells": [
  {
   "cell_type": "markdown",
   "metadata": {},
   "source": [
    "# 异常\n",
    " - 广义事那个的错误分为错误和异常\n",
    " - 错误指的是可以认为避免的\n",
    " - 异常是指在语法逻辑正确的前提下，出现的问题\n",
    " - 在Python中，异常是一个类，可以处理和使用\n",
    " "
   ]
  },
  {
   "cell_type": "markdown",
   "metadata": {},
   "source": [
    "# 异常的分类\n",
    "\n",
    "        BaseException\t所有异常的基类\n",
    "        SystemExit\t解释器请求退出\n",
    "        KeyboardInterrupt\t用户中断执行(通常是输入^C)\n",
    "        Exception\t常规错误的基类\n",
    "        StopIteration\t迭代器没有更多的值\n",
    "        GeneratorExit\t生成器(generator)发生异常来通知退出\n",
    "        StandardError\t所有的内建标准异常的基类\n",
    "        ArithmeticError\t所有数值计算错误的基类\n",
    "        FloatingPointError\t浮点计算错误\n",
    "        OverflowError\t数值运算超出最大限制\n",
    "        ZeroDivisionError\t除(或取模)零 (所有数据类型)\n",
    "        AssertionError\t断言语句失败\n",
    "        AttributeError\t对象没有这个属性\n",
    "        EOFError\t没有内建输入,到达EOF 标记\n",
    "        EnvironmentError\t操作系统错误的基类\n",
    "        IOError\t输入/输出操作失败\n",
    "        OSError\t操作系统错误\n",
    "        WindowsError\t系统调用失败\n",
    "        ImportError\t导入模块/对象失败\n",
    "        LookupError\t无效数据查询的基类\n",
    "        IndexError\t序列中没有此索引(index)\n",
    "        KeyError\t映射中没有这个键\n",
    "        MemoryError\t内存溢出错误(对于Python 解释器不是致命的)\n",
    "        NameError\t未声明/初始化对象 (没有属性)\n",
    "        UnboundLocalError\t访问未初始化的本地变量\n",
    "        ReferenceError\t弱引用(Weak reference)试图访问已经垃圾回收了的对象\n",
    "        RuntimeError\t一般的运行时错误\n",
    "        NotImplementedError\t尚未实现的方法\n",
    "        SyntaxError\tPython 语法错误\n",
    "        IndentationError\t缩进错误\n",
    "        TabError\tTab 和空格混用\n",
    "        SystemError\t一般的解释器系统错误\n",
    "        TypeError\t对类型无效的操作\n",
    "        ValueError\t传入无效的参数\n",
    "        UnicodeError\tUnicode 相关的错误\n",
    "        UnicodeDecodeError\tUnicode 解码时的错误\n",
    "        UnicodeEncodeError\tUnicode 编码时错误\n",
    "        UnicodeTranslateError\tUnicode 转换时错误\n",
    "        Warning\t警告的基类\n",
    "        DeprecationWarning\t关于被弃用的特征的警告\n",
    "        FutureWarning\t关于构造将来语义会有改变的警告\n",
    "        OverflowWarning\t旧的关于自动提升为长整型(long)的警告\n",
    "        PendingDeprecationWarning\t关于特性将会被废弃的警告\n",
    "        RuntimeWarning\t可疑的运行时行为(runtime behavior)的警告\n",
    "        SyntaxWarning\t可疑的语法的警告\n",
    "        UserWarning\t用户代码生成的警告"
   ]
  },
  {
   "cell_type": "code",
   "execution_count": null,
   "metadata": {},
   "outputs": [],
   "source": []
  },
  {
   "cell_type": "code",
   "execution_count": 12,
   "metadata": {},
   "outputs": [
    {
     "name": "stdout",
     "output_type": "stream",
     "text": [
      "Plz input your num:0\n"
     ]
    },
    {
     "ename": "ZeroDivisionError",
     "evalue": "division by zero",
     "output_type": "error",
     "traceback": [
      "\u001b[0;31m---------------------------------------------------------------------------\u001b[0m",
      "\u001b[0;31mZeroDivisionError\u001b[0m                         Traceback (most recent call last)",
      "\u001b[0;32m<ipython-input-12-7fc57b6f3a45>\u001b[0m in \u001b[0;36m<module>\u001b[0;34m()\u001b[0m\n\u001b[1;32m      2\u001b[0m \u001b[0;31m# 常犯的除零错误\u001b[0m\u001b[0;34m\u001b[0m\u001b[0;34m\u001b[0m\u001b[0m\n\u001b[1;32m      3\u001b[0m \u001b[0mnum\u001b[0m \u001b[0;34m=\u001b[0m \u001b[0mint\u001b[0m\u001b[0;34m(\u001b[0m\u001b[0minput\u001b[0m\u001b[0;34m(\u001b[0m\u001b[0;34m\"Plz input your num:\"\u001b[0m\u001b[0;34m)\u001b[0m\u001b[0;34m)\u001b[0m\u001b[0;34m\u001b[0m\u001b[0m\n\u001b[0;32m----> 4\u001b[0;31m \u001b[0mprint\u001b[0m\u001b[0;34m(\u001b[0m\u001b[0;36m100\u001b[0m\u001b[0;34m/\u001b[0m\u001b[0mnum\u001b[0m\u001b[0;34m)\u001b[0m\u001b[0;34m\u001b[0m\u001b[0m\n\u001b[0m",
      "\u001b[0;31mZeroDivisionError\u001b[0m: division by zero"
     ]
    }
   ],
   "source": [
    "l = [1,2,3,4,5]\n",
    "# 常犯的除零错误\n",
    "num = int(input(\"Plz input your num:\"))\n",
    "print(100/num)\n",
    "\n"
   ]
  },
  {
   "cell_type": "markdown",
   "metadata": {},
   "source": [
    "# 异常处理\n",
    "- 不能保证程序永远的正确运行\n",
    "- 但是，必须保证程序在最坏的情况下得到的问题被妥善处理\n",
    "- Python的异常处理模块全部语法为：\n",
    "\n",
    "        try:\n",
    "            尝试实现某个操作\n",
    "            如果没有出现异常，任务就可以完成\n",
    "            如果出现异常，将异常从当前代码块扔出去尝试解决异常\n",
    "            \n",
    "        except 异常类型1:\n",
    "            解决方案1: 用于尝试在此处处理异常解决问题\n",
    "                \n",
    "        except 异常类型2:\n",
    "            解决方案1: 用于尝试在此处处理异常解决问题\n",
    "                \n",
    "        except (异常类型1，异常类型2，...)：\n",
    "            解决方案：针对多个异常使用相同的处理方式\n",
    "            \n",
    "        except:\n",
    "            解决方案：所有异常的解决方案\n",
    "            \n",
    "        else:\n",
    "             如果没有出现任何问题，将会执行此处代码\n",
    "            \n",
    "        finally:\n",
    "             管你有没有异常都要执行的代码\n",
    "\n",
    "- 流程：\n",
    "    1. 执行try下的语句\n",
    "    2. 如果出现异常，则在except语句里查找对应异常，进行处理\n",
    "    3. 没有异常，执行else中的语句\n",
    "    4. 最后，不管有没有出现异常，都要执行finally中的语句\n",
    "-  除了except(最少一个)意外，else 和 finally 可选  \n",
    "            "
   ]
  },
  {
   "cell_type": "code",
   "execution_count": 1,
   "metadata": {},
   "outputs": [
    {
     "name": "stdout",
     "output_type": "stream",
     "text": [
      "Plz input your number:  0\n",
      "你输入的啥玩意儿？！\n"
     ]
    }
   ],
   "source": [
    "# 简单异常案例\n",
    "try:\n",
    "    num = int(input(\"Plz input your number:  \"))\n",
    "    rst = 100/num\n",
    "    print(\"计算结果是： {0}\".format(rst))\n",
    "except:\n",
    "    print(\"你输入的啥玩意儿？！\")\n",
    "    # exit 是退出程序的意思\n",
    "    exit()"
   ]
  },
  {
   "cell_type": "code",
   "execution_count": 1,
   "metadata": {},
   "outputs": [
    {
     "name": "stdout",
     "output_type": "stream",
     "text": [
      "Plz input your number:  0\n",
      "你输入的啥玩意儿？！\n",
      "division by zero\n"
     ]
    }
   ],
   "source": [
    "# 简单异常案例\n",
    "# 给出具体提示信息\n",
    "try:\n",
    "    num = int(input(\"Plz input your number:  \"))\n",
    "    rst = 100/num\n",
    "    print(\"计算结果是： {0}\".format(rst))\n",
    "    \n",
    "# 捕获异常后，把异常实例化，出错信息会在实例里\n",
    "# 注意一下写法\n",
    "# 以下语句是捕获ZeroDivisionError异常并实例化实例e\n",
    "except ZeroDivisionError  as e:\n",
    "    print(\"你输入的啥玩意儿？！\")\n",
    "    print(e)\n",
    "    # exit 是退出程序的意思\n",
    "    exit()"
   ]
  },
  {
   "cell_type": "code",
   "execution_count": 2,
   "metadata": {},
   "outputs": [
    {
     "name": "stdout",
     "output_type": "stream",
     "text": [
      "Plz input your number:  0\n",
      "我也不知道哪里错了\n",
      "division by zero\n"
     ]
    }
   ],
   "source": [
    "# 简单异常案例\n",
    "# 给出具体提示信息\n",
    "try:\n",
    "    num = int(input(\"Plz input your number:  \"))\n",
    "    rst = 100/num\n",
    "    print(\"计算结果是： {0}\".format(rst))\n",
    "    \n",
    "# 如果是多种error情况\n",
    "# 越明确具体的错误，越往前放\n",
    "# 在异常类继承关系中，越是子类的异常，越要前放\n",
    "# 越是父类额异常，越往后放\n",
    "\n",
    "# 在处理异常的时候，一旦拦截到某一个异常，则不会处理其他异常\n",
    "# 直接进行下一个代码，即有finally则执行finally语句块，否则就执行下一个大语句\n",
    "except ZeroDivisionError  as e:\n",
    "    print(\"你输入的啥玩意儿？！\")\n",
    "    print(e)\n",
    "    # exit 是退出程序的意思\n",
    "    exit()\n",
    "    \n",
    "except  NameError as e:\n",
    "    print(\"名字起错了\")\n",
    "    print(e)\n",
    "    exit()\n",
    "    \n",
    "except AttributeError as e:\n",
    "    print(\"好像属性有问题\")\n",
    "    print(e)\n",
    "    exit()\n",
    "\n",
    "# 所有的异常都是继承自Exception\n",
    "# 如果协商下面这句话，任何异常都会被捕获\n",
    "# 而且，下面这句话一定是最后一个一个exception\n",
    "except Exception as e:\n",
    "    print(\"我也不知道哪里错了\")\n",
    "    print(e)"
   ]
  },
  {
   "cell_type": "markdown",
   "metadata": {},
   "source": [
    "# 用户手动引发异常\n",
    " - 在某些情况下，用户希望自己引发或抛出一个异常\n",
    " - raise 关键字来引发异常"
   ]
  },
  {
   "cell_type": "code",
   "execution_count": 4,
   "metadata": {},
   "outputs": [
    {
     "name": "stdout",
     "output_type": "stream",
     "text": [
      "我爱小六\n",
      "3.1415926\n",
      "My ValueError\n",
      "我肯定会被执行！\n"
     ]
    }
   ],
   "source": [
    "# raise 案例\n",
    "try:\n",
    "    print(\"我爱小六\")\n",
    "    print(3.1415926)\n",
    "    \n",
    "    # 手动引发一个异常\n",
    "    # 注意语法： raise ErrorClassName\n",
    "    raise ValueError\n",
    "    print(\"还有完没完\")\n",
    "    \n",
    "except NameError as e:\n",
    "    print(\"NameError\")\n",
    "except ValueError as e:\n",
    "    print(\"My ValueError\")\n",
    "except Exception as e:\n",
    "    print(\"有异常\")\n",
    "finally:\n",
    "    print(\"我肯定会被执行！\")\n",
    "    "
   ]
  },
  {
   "cell_type": "code",
   "execution_count": 8,
   "metadata": {},
   "outputs": [
    {
     "name": "stdout",
     "output_type": "stream",
     "text": [
      "我爱小六\n",
      "3.1415926\n",
      "My DanaValueError\n",
      "我肯定会被执行！\n"
     ]
    }
   ],
   "source": [
    "# raise 案例 - 2\n",
    "# 自定义异常\n",
    "# 需要注意：自定义异常必须是系统异常的子类\n",
    "# 当自定义异常没有定义捕获时，会被其父类异常捕获\n",
    "\n",
    "class DanaValueError(ValueError):\n",
    "    pass\n",
    "\n",
    "try:\n",
    "    print(\"我爱小六\")\n",
    "    print(3.1415926)\n",
    "    \n",
    "    # 手动引发一个异常\n",
    "    # 注意语法： raise ErrorClassName\n",
    "    raise DanaValueError\n",
    "    print(\"还有完没完\")\n",
    "    \n",
    "except NameError as e:\n",
    "    print(\"NameError\")\n",
    "except DanaValueError as e:\n",
    "    print(\"My DanaValueError\")\n",
    "except Exception as e:\n",
    "    print(\"有异常\")\n",
    "finally:\n",
    "    print(\"我肯定会被执行！\")"
   ]
  },
  {
   "cell_type": "code",
   "execution_count": 10,
   "metadata": {},
   "outputs": [
    {
     "name": "stdout",
     "output_type": "stream",
     "text": [
      "Plz input your number:  juj\n",
      "Exception\n",
      "我肯定会被执行\n"
     ]
    }
   ],
   "source": [
    "# else 语句案例\n",
    "try:\n",
    "    num = int(input(\"Plz input your number:  \"))\n",
    "    rst = 100/num\n",
    "    print(\"计算结果是： {0}\".format(rst))\n",
    "    \n",
    "except Exception as e:\n",
    "    print(\"Exception\")\n",
    "else:\n",
    "    print(\"No Exception\")\n",
    "finally:\n",
    "    print(\"我肯定会被执行\")"
   ]
  },
  {
   "cell_type": "markdown",
   "metadata": {},
   "source": [
    "# 关于自定义异常\n",
    "- 只要是raise异常，则推荐自定义异常\n",
    "- 在自定义异常的时候，一般包含以下内容：\n",
    "  - 自定义发生异常的异常代码\n",
    "  - 自定义发生异常后的问题提示\n",
    "  - 自定义发生异常的行数\n",
    "- 最终的目的是，一旦发生异常，方便程序员快速定位错误现场  "
   ]
  },
  {
   "cell_type": "code",
   "execution_count": 11,
   "metadata": {},
   "outputs": [
    {
     "ename": "NameError",
     "evalue": "name 'pritn' is not defined",
     "output_type": "error",
     "traceback": [
      "\u001b[0;31m---------------------------------------------------------------------------\u001b[0m",
      "\u001b[0;31mNameError\u001b[0m                                 Traceback (most recent call last)",
      "\u001b[0;32m<ipython-input-11-324fa471d14b>\u001b[0m in \u001b[0;36m<module>\u001b[0;34m()\u001b[0m\n\u001b[0;32m----> 1\u001b[0;31m \u001b[0mpritn\u001b[0m\u001b[0;34m(\u001b[0m\u001b[0;34m\"hahaj\"\u001b[0m\u001b[0;34m)\u001b[0m\u001b[0;34m\u001b[0m\u001b[0m\n\u001b[0m",
      "\u001b[0;31mNameError\u001b[0m: name 'pritn' is not defined"
     ]
    }
   ],
   "source": [
    "pritn(\"hahaj\")"
   ]
  },
  {
   "cell_type": "code",
   "execution_count": null,
   "metadata": {},
   "outputs": [],
   "source": []
  },
  {
   "cell_type": "code",
   "execution_count": null,
   "metadata": {},
   "outputs": [],
   "source": []
  },
  {
   "cell_type": "code",
   "execution_count": null,
   "metadata": {},
   "outputs": [],
   "source": []
  },
  {
   "cell_type": "code",
   "execution_count": null,
   "metadata": {},
   "outputs": [],
   "source": []
  },
  {
   "cell_type": "code",
   "execution_count": null,
   "metadata": {},
   "outputs": [],
   "source": []
  },
  {
   "cell_type": "code",
   "execution_count": null,
   "metadata": {},
   "outputs": [],
   "source": []
  }
 ],
 "metadata": {
  "kernelspec": {
   "display_name": "Python 3",
   "language": "python",
   "name": "python3"
  },
  "language_info": {
   "codemirror_mode": {
    "name": "ipython",
    "version": 3
   },
   "file_extension": ".py",
   "mimetype": "text/x-python",
   "name": "python",
   "nbconvert_exporter": "python",
   "pygments_lexer": "ipython3",
   "version": "3.6.5"
  }
 },
 "nbformat": 4,
 "nbformat_minor": 2
}
