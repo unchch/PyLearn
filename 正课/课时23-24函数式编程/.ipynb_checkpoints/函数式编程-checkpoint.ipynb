{
 "cells": [
  {
   "cell_type": "markdown",
   "metadata": {},
   "source": [
    "# Log模块资料\n",
    "- https://www.cnblogs.com/yyds/p/6901864.html"
   ]
  },
  {
   "cell_type": "markdown",
   "metadata": {},
   "source": [
    "# Python 语言的高级特性"
   ]
  },
  {
   "cell_type": "markdown",
   "metadata": {},
   "source": [
    "## 函数式编程（FunctionalProgramming）\n",
    "- 基于lamda演算的一种编程方式\n",
    "  - 程序中只有函数\n",
    "  - 函数可以作为参数，同行可以作为返回值\n",
    "  - 纯函数式编程语言：\bLISP Haskell\n",
    "\n",
    "- Python 函数式编程只是借鉴函数式编程的一些特点，可以理解为一半函数一半Python\n",
    "- 要点：\n",
    "  - 高阶函数\n",
    "  - 返回函数\n",
    "  - 匿名函数\n",
    "  - 装饰器\n",
    "  - 偏函数"
   ]
  },
  {
   "cell_type": "markdown",
   "metadata": {},
   "source": [
    "### lambda 表达式\n",
    "- 函数：最大程度的复用代码\n",
    "  - 存在问题：\n",
    "    - 如果函数很小很短，则会显得啰嗦\n",
    "    - 如果函数被调用次数太少，则会造成浪费\n",
    "    - 对阅读者来说，造成阅读流程的被迫终端\n",
    "    \n",
    "- lambda 表达式（匿名函数） \n",
    "  - 一个表达式，函数体相对简单\n",
    "  - 不是一个代码块，仅仅是一个表达式\n",
    "  - 可以有参数，多个参数也可以，用逗号分隔"
   ]
  },
  {
   "cell_type": "code",
   "execution_count": 2,
   "metadata": {},
   "outputs": [
    {
     "name": "stdout",
     "output_type": "stream",
     "text": [
      "AAAAAA\n"
     ]
    }
   ],
   "source": [
    "# 小函数\n",
    "def printA():\n",
    "    print(\"AAAAAA\")\n",
    "    \n",
    "printA()"
   ]
  },
  {
   "cell_type": "code",
   "execution_count": 4,
   "metadata": {},
   "outputs": [
    {
     "data": {
      "text/plain": [
       "8900"
      ]
     },
     "execution_count": 4,
     "metadata": {},
     "output_type": "execute_result"
    }
   ],
   "source": [
    "# lambda 表达式\n",
    "# 1.以lambda开头\n",
    "# 2.紧跟一定的参数（如果有的话）\n",
    "# 3.参数后用冒号和表达式主体隔开\n",
    "# 4.只是一个表达式，所有没有return\n",
    "\n",
    "# 计算一个数字的100倍数\n",
    "# 因为就是一个表达式，没有return\n",
    "stm = lambda x: 100 * x\n",
    "\n",
    "# 使用和函数一样\n",
    "stm(89)"
   ]
  },
  {
   "cell_type": "code",
   "execution_count": 5,
   "metadata": {},
   "outputs": [
    {
     "data": {
      "text/plain": [
       "432"
      ]
     },
     "execution_count": 5,
     "metadata": {},
     "output_type": "execute_result"
    }
   ],
   "source": [
    "stm2 = lambda x,y,z: x + y*10 +z*100\n",
    "\n",
    "stm2(2,3,4)"
   ]
  },
  {
   "cell_type": "markdown",
   "metadata": {},
   "source": [
    "### 高阶函数\n",
    "- 把函数作为参数使用的函数，叫高阶函数"
   ]
  },
  {
   "cell_type": "code",
   "execution_count": null,
   "metadata": {},
   "outputs": [],
   "source": [
    "# 变量可以赋值\n",
    "a = 100\n",
    "b = a"
   ]
  },
  {
   "cell_type": "code",
   "execution_count": 9,
   "metadata": {},
   "outputs": [
    {
     "name": "stdout",
     "output_type": "stream",
     "text": [
      "In funA\n"
     ]
    }
   ],
   "source": [
    "# 函数名称就是一个变量\n",
    "def funA():\n",
    "    print(\"In funA\")\n",
    "\n",
    "funcB = funA\n",
    "\n",
    "funcB()"
   ]
  },
  {
   "cell_type": "markdown",
   "metadata": {},
   "source": [
    "### 以上代码得出的结论：\n",
    "- 函数名称是变量\n",
    "- funB 和 funA 只是名称不一样那个\n",
    "- 既然函数名称是变量，则应该可以被当作参数传到另一个函数中"
   ]
  },
  {
   "cell_type": "code",
   "execution_count": 12,
   "metadata": {},
   "outputs": [
    {
     "name": "stdout",
     "output_type": "stream",
     "text": [
      "2700\n",
      "2700\n",
      "210\n"
     ]
    }
   ],
   "source": [
    "# 高阶函数举例\n",
    "# funcA 是普通函数，返回一个传入数字的100倍\n",
    "\n",
    "def funA(n):\n",
    "    return n * 100\n",
    "\n",
    "# 再写一个函数，把传入的参数乘以300倍，利用高阶函数\n",
    "def funB(n):\n",
    "    # 最终返回300n\n",
    "    return funA(n) * 3\n",
    "\n",
    "print(funB(9))\n",
    "\n",
    "\n",
    "\n",
    "# 写一个高阶函数\n",
    "def funC(n, f):\n",
    "    # 假定函数f是把n扩大100倍\n",
    "    return f(n) * 3\n",
    "print(funC(9, funA))\n",
    "\n",
    "# 比较funC 和 funB 显然funC的写法要优于funB\n",
    "def funD(n):\n",
    "    return n * 10\n",
    "\n",
    "# 需求变更，需要把n放大30倍，此时funB无法实现\n",
    "print(funC(7,funD))"
   ]
  },
  {
   "cell_type": "markdown",
   "metadata": {},
   "source": [
    "### 系统高阶函数 - map\n",
    "- 愿意就是映射，即把集合或者列表中的每个元素，按照一定的规则进行操作生成一个新的列表或者集合\n",
    "- map函数是系统提供的具有映射功能的函数，返回值是一个迭代对象"
   ]
  },
  {
   "cell_type": "code",
   "execution_count": 14,
   "metadata": {},
   "outputs": [
    {
     "name": "stdout",
     "output_type": "stream",
     "text": [
      "[0, 1, 2, 3, 4, 5, 6, 7, 8, 9]\n",
      "[0, 10, 20, 30, 40, 50, 60, 70, 80, 90]\n"
     ]
    }
   ],
   "source": [
    "# map 举例\n",
    "# 有一个列表，每个元素乘以10，返回新的列表\n",
    "\n",
    "l1 = [i for i in range(10)]\n",
    "print(l1)\n",
    "\n",
    "l2 = []\n",
    "\n",
    "for i in l1:\n",
    "    l2.append(i * 10)\n",
    "print(l2)"
   ]
  },
  {
   "cell_type": "code",
   "execution_count": 21,
   "metadata": {},
   "outputs": [
    {
     "name": "stdout",
     "output_type": "stream",
     "text": [
      "<class 'map'>\n",
      "<map object at 0x10af8cef0>\n",
      "0\n",
      "10\n",
      "20\n",
      "30\n",
      "40\n",
      "50\n",
      "60\n",
      "70\n",
      "80\n",
      "90\n",
      "[]\n"
     ]
    }
   ],
   "source": [
    "# 利用map实现\n",
    "l1 = [i for i in range(10)]\n",
    "\n",
    "\n",
    "def mulTen(n):\n",
    "    return n * 10\n",
    "\n",
    "l3 = map(mulTen,l1)\n",
    "print(type(l3))\n",
    "print(l3)\n",
    "\n",
    "\n",
    "# map 类型是一个可迭代的对象，所以可以用for循来遍历\n",
    "for i in l3:\n",
    "    print(i)\n",
    "\n",
    "# 为啥为空？    \n",
    "l4 = [i for i in l3]\n",
    "print(l4)"
   ]
  },
  {
   "cell_type": "markdown",
   "metadata": {},
   "source": [
    "### 系统高阶函数 - reduce\n",
    "- 原意是归并，缩减\n",
    "- 把一个可迭代 对象最后归并成一个结果\n",
    "- 对于作为参数的函数有要求：\n",
    "  - 必须有2个参数\n",
    "  - 必须有返回结果\n",
    "  - reduce([1,2,3,4,5]) = f(f(f(f(1,2),3),4),5)\n",
    "  - reduce 需要导入functools包"
   ]
  },
  {
   "cell_type": "code",
   "execution_count": 22,
   "metadata": {},
   "outputs": [
    {
     "name": "stdout",
     "output_type": "stream",
     "text": [
      "21\n"
     ]
    }
   ],
   "source": [
    "from functools import reduce\n",
    "\n",
    "# 定义一个操作函数\n",
    "# 加入操作函数只是相加\n",
    "def myAdd(x,y):\n",
    "    return x + y\n",
    "\n",
    "# 对于列表执行myAdd的reduce操作\n",
    "rst = reduce( myAdd, [1,2,3,4,5,6])\n",
    "print(rst)"
   ]
  },
  {
   "cell_type": "markdown",
   "metadata": {},
   "source": [
    "### 系统高阶函数 - filter\n",
    "- 过滤函数：对一组数据进行过滤，符合条件的数据会生成一个新的列表并返回\n",
    "- 跟map相比：\n",
    "  - 相同点：\n",
    "    - 都对列表中的每一个元素逐一操作\n",
    "  - 不同点：\n",
    "    - map 会生成一个跟源数据对应的新队列\n",
    "    - filter 不一定，只有符合条件的数据才会进入新的数据集合\n",
    "- filter 函数怎么写：\n",
    "  - 利用给定的函数进行判断\n",
    "  - 给定函数的返回值一定是一个布尔值\n",
    "  - 调用格式：filter(f,data)\n",
    "    - f是过虑函数\n",
    "    - data是数据\n",
    " "
   ]
  },
  {
   "cell_type": "code",
   "execution_count": 7,
   "metadata": {},
   "outputs": [
    {
     "name": "stdout",
     "output_type": "stream",
     "text": [
      "<class 'filter'>\n",
      "<filter object at 0x108900c88>\n",
      "[2, 56, 4, 6, 6, 8, 32, 78]\n"
     ]
    }
   ],
   "source": [
    "# filter 举例\n",
    "# 需要定义过滤函数\n",
    "# 过滤函数要求有输入，返回布尔值\n",
    "\n",
    "# 对于一个列表进行过滤，偶数组成一个新的列表\n",
    "\n",
    "def isEven(a):\n",
    "    return a % 2 == 0\n",
    "\n",
    "l = [1,2,43,56,4,6,7,5,6,7,8,45,32,67,89,78]\n",
    "\n",
    "rst = filter(isEven,l)\n",
    "\n",
    "# 返回的是一个可迭代对象\n",
    "print(type(rst))\n",
    "print(rst)\n",
    "\n",
    "print([i for i in rst])"
   ]
  },
  {
   "cell_type": "markdown",
   "metadata": {},
   "source": [
    "### 系统高阶函数 - sorted 排序\n",
    "- 把一个序列按照给定的算法进行排序\n",
    "- key: 在排序前对每一个元素进行key函数运算，可以理解为按照key函数定义的逻辑进行排序"
   ]
  },
  {
   "cell_type": "code",
   "execution_count": 9,
   "metadata": {},
   "outputs": [
    {
     "name": "stdout",
     "output_type": "stream",
     "text": [
      "[678, 456, 34, 34, 9, 6, 6, 4, 3, 2]\n"
     ]
    }
   ],
   "source": [
    "a = [2,34,3,4,6,456,34,6,9,678]\n",
    "al = sorted(a,reverse = True)\n",
    "print(al)"
   ]
  },
  {
   "cell_type": "code",
   "execution_count": 15,
   "metadata": {},
   "outputs": [
    {
     "name": "stdout",
     "output_type": "stream",
     "text": [
      "[2, 3, 4, -6, 6, 9, -34, -67]\n"
     ]
    }
   ],
   "source": [
    "a = [-34,2,3,4,-6,-67,9,6]\n",
    "# 按绝对值排序\n",
    "# abs 是求绝对值\n",
    "# 按绝对值的倒序排列\n",
    "al = sorted(a, key = abs, reverse = False)\n",
    "print(al)"
   ]
  },
  {
   "cell_type": "code",
   "execution_count": 16,
   "metadata": {},
   "outputs": [
    {
     "name": "stdout",
     "output_type": "stream",
     "text": [
      "['WANGXIAOJING', 'dANA', 'dana', 'jingjing']\n",
      "['dana', 'dANA', 'jingjing', 'WANGXIAOJING']\n"
     ]
    }
   ],
   "source": [
    "# 字符串排序\n",
    "\n",
    "astr = ['dana','dANA','WANGXIAOJING','jingjing']\n",
    "\n",
    "str1 = sorted(astr)\n",
    "print(str1)\n",
    "\n",
    "str2 = sorted(astr,key = str.lower)\n",
    "print(str2)"
   ]
  },
  {
   "cell_type": "markdown",
   "metadata": {},
   "source": [
    "## 返回函数\n",
    "- 函数可以返回具体的值\n",
    "- 也可以返回一个函数作为结果"
   ]
  },
  {
   "cell_type": "code",
   "execution_count": 17,
   "metadata": {},
   "outputs": [],
   "source": [
    "# 定义一个普通函数\n",
    "\n",
    "def myF(a):\n",
    "    print('In myF')\n",
    "    return None"
   ]
  },
  {
   "cell_type": "code",
   "execution_count": 19,
   "metadata": {},
   "outputs": [
    {
     "name": "stdout",
     "output_type": "stream",
     "text": [
      "In myF\n",
      "None\n"
     ]
    }
   ],
   "source": [
    "a = myF(8)\n",
    "print(a)"
   ]
  },
  {
   "cell_type": "code",
   "execution_count": 20,
   "metadata": {},
   "outputs": [],
   "source": [
    "# 函数作为返回值返回，被返回的函数在函数体中定义\n",
    "def myF2():\n",
    "    def myF3():\n",
    "        print('In myF3')\n",
    "        return 3\n",
    "    return myF3"
   ]
  },
  {
   "cell_type": "code",
   "execution_count": 22,
   "metadata": {},
   "outputs": [
    {
     "name": "stdout",
     "output_type": "stream",
     "text": [
      "<class 'function'>\n",
      "<function myF2.<locals>.myF3 at 0x108961d90>\n",
      "In myF3\n"
     ]
    },
    {
     "data": {
      "text/plain": [
       "3"
      ]
     },
     "execution_count": 22,
     "metadata": {},
     "output_type": "execute_result"
    }
   ],
   "source": [
    "# 使用上面定义\n",
    "# 调用myF2,返回一个函数myF3,赋值给f3\n",
    "f3 = myF2()\n",
    "print(type(f3))\n",
    "print(f3)\n",
    "\n",
    "\n",
    "f3()"
   ]
  },
  {
   "cell_type": "code",
   "execution_count": 24,
   "metadata": {},
   "outputs": [],
   "source": [
    "# 复杂一点的返回函数\n",
    "# args:参数列表\n",
    "#  1.myF4 定义函数，返回的是内部定义的函数myF5\n",
    "#　2.myF5 使用了外部变量，这个变量是myF4的参数\n",
    "\n",
    "\n",
    "\n",
    "def myF4( *args):\n",
    "    def myF5():\n",
    "        rst = 0\n",
    "        for n in args:\n",
    "            rst += n\n",
    "        return rst\n",
    "    return myF5"
   ]
  },
  {
   "cell_type": "code",
   "execution_count": 25,
   "metadata": {},
   "outputs": [
    {
     "data": {
      "text/plain": [
       "180"
      ]
     },
     "execution_count": 25,
     "metadata": {},
     "output_type": "execute_result"
    }
   ],
   "source": [
    "f5 = myF4(1,2,3,4,5,7,8,9,3,4,56,78)\n",
    "# f5的调用方式\n",
    "f5()"
   ]
  },
  {
   "cell_type": "code",
   "execution_count": 26,
   "metadata": {},
   "outputs": [
    {
     "data": {
      "text/plain": [
       "150"
      ]
     },
     "execution_count": 26,
     "metadata": {},
     "output_type": "execute_result"
    }
   ],
   "source": [
    "f6 = myF4(10,20,30,40,50)\n",
    "# f6的调用方式\n",
    "f6()"
   ]
  },
  {
   "cell_type": "markdown",
   "metadata": {},
   "source": [
    "# 闭包（closure）\n",
    "- 当一个函数在内部定义函数，并且内部的函数应用外部函数的参数或者局部变量，当内部函数被当作返回值的时候，相关的参数和变量保存在返回的函数中，这种结果，叫做闭包\n",
    "- 上面定义的myF4函数是一个标准闭包结构"
   ]
  },
  {
   "cell_type": "code",
   "execution_count": 2,
   "metadata": {},
   "outputs": [
    {
     "name": "stdout",
     "output_type": "stream",
     "text": [
      "9\n",
      "9\n",
      "9\n"
     ]
    }
   ],
   "source": [
    "# 闭包常见坑\n",
    "def count():\n",
    "    # 定义列表，列表里存放的是定义的函数\n",
    "    fs = []\n",
    "    for i in range(1,4):\n",
    "        # 定义了一个IKEv2函数f\n",
    "        # f是一个闭包结构\n",
    "        def f():\n",
    "            return i*i\n",
    "        fs.append(f)\n",
    "    return fs\n",
    "\n",
    "f1,f2,f3 = count()\n",
    "print(f1()) # 期望返回1\n",
    "print(f2()) # 期望返回4\n",
    "print(f3()) # 期望返回9"
   ]
  },
  {
   "cell_type": "markdown",
   "metadata": {},
   "source": [
    "## 出现的问题：\n",
    "- 每次都返回9的原因是，返回函数应用了变量i，i并非立即执行，而是等到三个循环结束时统一使用，此时i已经变成了3，最终调用的时候都是3*3了\n",
    "- 此问题描述成：返回闭包时，返回函数不能引用任何循环变量\n",
    "- 解决方案：再创建一个函数，用改函数的参数绑定循环变量的当前值，无论该循环变量之后如何变化，已经绑定的函数参数值不再改变"
   ]
  },
  {
   "cell_type": "code",
   "execution_count": 4,
   "metadata": {},
   "outputs": [
    {
     "name": "stdout",
     "output_type": "stream",
     "text": [
      "1\n",
      "4\n",
      "9\n"
     ]
    }
   ],
   "source": [
    "# 修改上述函数\n",
    "def count1():\n",
    "    def f(j):\n",
    "        def g():\n",
    "            return j*j\n",
    "        return g\n",
    "    fs = []\n",
    "    for i in range(1,4):\n",
    "        fs.append(f(i))\n",
    "    return fs\n",
    "\n",
    "f1,f2,f3 = count1()\n",
    "print(f1()) # 期望返回1\n",
    "print(f2()) # 期望返回4\n",
    "print(f3()) # 期望返回9"
   ]
  },
  {
   "cell_type": "markdown",
   "metadata": {},
   "source": [
    "# 装饰器"
   ]
  },
  {
   "cell_type": "code",
   "execution_count": 5,
   "metadata": {},
   "outputs": [
    {
     "name": "stdout",
     "output_type": "stream",
     "text": [
      "Hello World!\n"
     ]
    }
   ],
   "source": [
    "def hello():\n",
    "    print(\"Hello World!\")\n",
    "    \n",
    "hello()"
   ]
  },
  {
   "cell_type": "code",
   "execution_count": 6,
   "metadata": {},
   "outputs": [
    {
     "name": "stdout",
     "output_type": "stream",
     "text": [
      "Hello World!\n"
     ]
    }
   ],
   "source": [
    "f = hello\n",
    "f()"
   ]
  },
  {
   "cell_type": "code",
   "execution_count": 9,
   "metadata": {},
   "outputs": [
    {
     "name": "stdout",
     "output_type": "stream",
     "text": [
      "4377417928\n",
      "4377417928\n",
      "hello\n",
      "hello\n"
     ]
    }
   ],
   "source": [
    "# f和hello是一个函数\n",
    "print(id(f))\n",
    "print(id(hello))\n",
    "\n",
    "print(f.__name__)\n",
    "print(hello.__name__)"
   ]
  },
  {
   "cell_type": "code",
   "execution_count": null,
   "metadata": {},
   "outputs": [],
   "source": [
    "# 扩展hello的功能，新的需求\n",
    "# 每次打印hello之前打印一下当前的系统时间\n",
    "# 而实现这个功能，不能改变当前的代码\n",
    "# 使用装饰器来完成"
   ]
  },
  {
   "cell_type": "markdown",
   "metadata": {},
   "source": [
    "### 装饰器（Decrator）\n",
    "- 在不改动函数代码的基础上无限制扩展函数的功能的一种机制，本质上讲，装饰器是一个返回函数的高阶函数\n",
    "- 装饰器的使用：\n",
    "  - 使用@语法，即在每次要扩展到函数定义前使用@+函数名"
   ]
  },
  {
   "cell_type": "code",
   "execution_count": 11,
   "metadata": {},
   "outputs": [],
   "source": [
    "#　对hello函数进行功能扩展，每次执行hello前打印当前时间\n",
    "\n",
    "import time\n",
    "#　高阶函数，以函数作为参数\n",
    "\n",
    "def printTime(f):\n",
    "    def wrapper(*args, **kwargs):\n",
    "        print(\"Time:\", time.ctime())\n",
    "        return f(*args, **kwargs)\n",
    "    return wrapper"
   ]
  },
  {
   "cell_type": "code",
   "execution_count": 12,
   "metadata": {},
   "outputs": [
    {
     "name": "stdout",
     "output_type": "stream",
     "text": [
      "Time: Thu Nov 29 18:09:31 2018\n",
      "Hello World\n"
     ]
    }
   ],
   "source": [
    "# 上边定义了一个装饰器，使用的时候需要用到@符号\n",
    "# 此符号是python的语法糖\n",
    "\n",
    "@printTime\n",
    "def hello():\n",
    "    print(\"Hello World\")\n",
    "    \n",
    "hello()"
   ]
  },
  {
   "cell_type": "code",
   "execution_count": 19,
   "metadata": {},
   "outputs": [
    {
     "name": "stdout",
     "output_type": "stream",
     "text": [
      "Time: Thu Nov 29 18:13:15 2018\n",
      "今天很高兴，被老板批评了\n",
      "还有很多自由的选择\n"
     ]
    }
   ],
   "source": [
    "# 装饰器的好处是，一旦定义好，则可以装饰任意函数\n",
    "# 一旦被其装饰，则把装饰器的功能直接添加到定义函数的功能上\n",
    "\n",
    "@printTime\n",
    "def hello2():\n",
    "    print(\"今天很高兴，被老板批评了\")\n",
    "    print(\"还有很多自由的选择\")\n",
    "\n",
    "hello2()"
   ]
  },
  {
   "cell_type": "code",
   "execution_count": 22,
   "metadata": {},
   "outputs": [
    {
     "name": "stdout",
     "output_type": "stream",
     "text": [
      "我是被手动执行的\n",
      "Time: Thu Nov 29 18:19:10 2018\n",
      "我是被手动执行的\n",
      "Time: Thu Nov 29 18:19:10 2018\n",
      "Time: Thu Nov 29 18:19:10 2018\n",
      "我是被手动执行的\n"
     ]
    }
   ],
   "source": [
    "# 上面对函数的装饰使用了系统定义的语法糖\n",
    "# 下面开始手动执行装饰器\n",
    "# 先定义函数\n",
    "\n",
    "def hello3():\n",
    "    print(\"我是被手动执行的\")\n",
    "    \n",
    "hello3()\n",
    "\n",
    "hello3 = printTime(hello3)\n",
    "hello3()\n",
    "\n",
    "f = printTime(hello3)\n",
    "f()"
   ]
  },
  {
   "cell_type": "markdown",
   "metadata": {},
   "source": [
    "### 偏函数"
   ]
  },
  {
   "cell_type": "code",
   "execution_count": 27,
   "metadata": {},
   "outputs": [
    {
     "data": {
      "text/plain": [
       "5349"
      ]
     },
     "execution_count": 27,
     "metadata": {},
     "output_type": "execute_result"
    }
   ],
   "source": [
    "# 把字符串转换为十进制数字\n",
    "int(\"12345\")\n",
    "\n",
    "# 求八进制的字符串12345，表示成十进制是多少\n",
    "int(\"12345\",base=8)"
   ]
  },
  {
   "cell_type": "code",
   "execution_count": 28,
   "metadata": {},
   "outputs": [
    {
     "data": {
      "text/plain": [
       "74565"
      ]
     },
     "execution_count": 28,
     "metadata": {},
     "output_type": "execute_result"
    }
   ],
   "source": [
    "# 新建一个函数，此函数是默认输入的字符串是十六进制\n",
    "# 把次字符串返回十进制\n",
    "\n",
    "def int16(x, base=16):\n",
    "    return int(x, base)\n",
    "\n",
    "int16(\"12345\")"
   ]
  },
  {
   "cell_type": "markdown",
   "metadata": {},
   "source": [
    "### 偏函数\n",
    "- 参数固定的函数，相当于一个有特定参数的函数体\n",
    "- functools.partial 的作用是，把一个函数的某些参数固定，返回一个新的函数"
   ]
  },
  {
   "cell_type": "code",
   "execution_count": 29,
   "metadata": {},
   "outputs": [
    {
     "data": {
      "text/plain": [
       "74565"
      ]
     },
     "execution_count": 29,
     "metadata": {},
     "output_type": "execute_result"
    }
   ],
   "source": [
    "import functools\n",
    "# 实现上面int16的功能\n",
    "\n",
    "int16 = functools.partial(int, base=16)\n",
    "\n",
    "int16(\"12345\")"
   ]
  }
 ],
 "metadata": {
  "kernelspec": {
   "display_name": "Python 3",
   "language": "python",
   "name": "python3"
  },
  "language_info": {
   "codemirror_mode": {
    "name": "ipython",
    "version": 3
   },
   "file_extension": ".py",
   "mimetype": "text/x-python",
   "name": "python",
   "nbconvert_exporter": "python",
   "pygments_lexer": "ipython3",
   "version": "3.6.7"
  }
 },
 "nbformat": 4,
 "nbformat_minor": 2
}
