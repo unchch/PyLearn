{
 "cells": [
  {
   "cell_type": "markdown",
   "metadata": {},
   "source": [
    "# Log模块资料\n",
    "- https://www.cnblogs.com/yyds/p/6901864.html"
   ]
  },
  {
   "cell_type": "markdown",
   "metadata": {},
   "source": [
    "# Python 语言的高级特性"
   ]
  },
  {
   "cell_type": "markdown",
   "metadata": {},
   "source": [
    "## 函数式编程（FunctionalProgramming）\n",
    "- 基于lamda演算的一种编程方式\n",
    "  - 程序中只有函数\n",
    "  - 函数可以作为参数，同行可以作为返回值\n",
    "  - 纯函数式编程语言：\bLISP Haskell\n",
    "\n",
    "- Python 函数式编程只是借鉴函数式编程的一些特点，可以理解为一半函数一半Python\n",
    "- 要点：\n",
    "  - 高阶函数\n",
    "  - 返回函数\n",
    "  - 匿名函数\n",
    "  - 装饰器\n",
    "  - 偏函数"
   ]
  },
  {
   "cell_type": "markdown",
   "metadata": {},
   "source": [
    "### lambda 表达式\n",
    "- 函数：最大程度的复用代码\n",
    "  - 存在问题：\n",
    "    - 如果函数很小很短，则会显得啰嗦\n",
    "    - 如果函数被调用次数太少，则会造成浪费\n",
    "    - 对阅读者来说，造成阅读流程的被迫终端\n",
    "    \n",
    "- lambda 表达式（匿名函数） \n",
    "  - 一个表达式，函数体相对简单\n",
    "  - 不是一个代码块，仅仅是一个表达式\n",
    "  - 可以有参数，多个参数也可以，用逗号分隔"
   ]
  },
  {
   "cell_type": "code",
   "execution_count": 2,
   "metadata": {},
   "outputs": [
    {
     "name": "stdout",
     "output_type": "stream",
     "text": [
      "AAAAAA\n"
     ]
    }
   ],
   "source": [
    "# 小函数\n",
    "def printA():\n",
    "    print(\"AAAAAA\")\n",
    "    \n",
    "printA()"
   ]
  },
  {
   "cell_type": "code",
   "execution_count": 4,
   "metadata": {},
   "outputs": [
    {
     "data": {
      "text/plain": [
       "8900"
      ]
     },
     "execution_count": 4,
     "metadata": {},
     "output_type": "execute_result"
    }
   ],
   "source": [
    "# lambda 表达式\n",
    "# 1.以lambda开头\n",
    "# 2.紧跟一定的参数（如果有的话）\n",
    "# 3.参数后用冒号和表达式主体隔开\n",
    "# 4.只是一个表达式，所有没有return\n",
    "\n",
    "# 计算一个数字的100倍数\n",
    "# 因为就是一个表达式，没有return\n",
    "stm = lambda x: 100 * x\n",
    "\n",
    "# 使用和函数一样\n",
    "stm(89)"
   ]
  },
  {
   "cell_type": "code",
   "execution_count": 5,
   "metadata": {},
   "outputs": [
    {
     "data": {
      "text/plain": [
       "432"
      ]
     },
     "execution_count": 5,
     "metadata": {},
     "output_type": "execute_result"
    }
   ],
   "source": [
    "stm2 = lambda x,y,z: x + y*10 +z*100\n",
    "\n",
    "stm2(2,3,4)"
   ]
  },
  {
   "cell_type": "markdown",
   "metadata": {},
   "source": [
    "### 高阶函数\n",
    "- 把函数作为参数使用的函数，叫高阶函数"
   ]
  },
  {
   "cell_type": "code",
   "execution_count": null,
   "metadata": {},
   "outputs": [],
   "source": [
    "# 变量可以赋值\n",
    "a = 100\n",
    "b = a"
   ]
  },
  {
   "cell_type": "code",
   "execution_count": 9,
   "metadata": {},
   "outputs": [
    {
     "name": "stdout",
     "output_type": "stream",
     "text": [
      "In funA\n"
     ]
    }
   ],
   "source": [
    "# 函数名称就是一个变量\n",
    "def funA():\n",
    "    print(\"In funA\")\n",
    "\n",
    "funcB = funA\n",
    "\n",
    "funcB()"
   ]
  },
  {
   "cell_type": "markdown",
   "metadata": {},
   "source": [
    "### 以上代码得出的结论：\n",
    "- 函数名称是变量\n",
    "- funB 和 funA 只是名称不一样那个\n",
    "- 既然函数名称是变量，则应该可以被当作参数传到另一个函数中"
   ]
  },
  {
   "cell_type": "code",
   "execution_count": 12,
   "metadata": {},
   "outputs": [
    {
     "name": "stdout",
     "output_type": "stream",
     "text": [
      "2700\n",
      "2700\n",
      "210\n"
     ]
    }
   ],
   "source": [
    "# 高阶函数举例\n",
    "# funcA 是普通函数，返回一个传入数字的100倍\n",
    "\n",
    "def funA(n):\n",
    "    return n * 100\n",
    "\n",
    "# 再写一个函数，把传入的参数乘以300倍，利用高阶函数\n",
    "def funB(n):\n",
    "    # 最终返回300n\n",
    "    return funA(n) * 3\n",
    "\n",
    "print(funB(9))\n",
    "\n",
    "\n",
    "\n",
    "# 写一个高阶函数\n",
    "def funC(n, f):\n",
    "    # 假定函数f是把n扩大100倍\n",
    "    return f(n) * 3\n",
    "print(funC(9, funA))\n",
    "\n",
    "# 比较funC 和 funB 显然funC的写法要优于funB\n",
    "def funD(n):\n",
    "    return n * 10\n",
    "\n",
    "# 需求变更，需要把n放大30倍，此时funB无法实现\n",
    "print(funC(7,funD))"
   ]
  },
  {
   "cell_type": "markdown",
   "metadata": {},
   "source": [
    "### 系统高阶函数 - map\n",
    "- 愿意就是映射，即把集合或者列表中的每个元素，按照一定的规则进行操作生成一个新的列表或者集合\n",
    "- map函数是系统提供的具有映射功能的函数，返回值是一个迭代对象"
   ]
  },
  {
   "cell_type": "code",
   "execution_count": 14,
   "metadata": {},
   "outputs": [
    {
     "name": "stdout",
     "output_type": "stream",
     "text": [
      "[0, 1, 2, 3, 4, 5, 6, 7, 8, 9]\n",
      "[0, 10, 20, 30, 40, 50, 60, 70, 80, 90]\n"
     ]
    }
   ],
   "source": [
    "# map 举例\n",
    "# 有一个列表，每个元素乘以10，返回新的列表\n",
    "\n",
    "l1 = [i for i in range(10)]\n",
    "print(l1)\n",
    "\n",
    "l2 = []\n",
    "\n",
    "for i in l1:\n",
    "    l2.append(i * 10)\n",
    "print(l2)"
   ]
  },
  {
   "cell_type": "code",
   "execution_count": 21,
   "metadata": {},
   "outputs": [
    {
     "name": "stdout",
     "output_type": "stream",
     "text": [
      "<class 'map'>\n",
      "<map object at 0x10af8cef0>\n",
      "0\n",
      "10\n",
      "20\n",
      "30\n",
      "40\n",
      "50\n",
      "60\n",
      "70\n",
      "80\n",
      "90\n",
      "[]\n"
     ]
    }
   ],
   "source": [
    "# 利用map实现\n",
    "l1 = [i for i in range(10)]\n",
    "\n",
    "\n",
    "def mulTen(n):\n",
    "    return n * 10\n",
    "\n",
    "l3 = map(mulTen,l1)\n",
    "print(type(l3))\n",
    "print(l3)\n",
    "\n",
    "\n",
    "# map 类型是一个可迭代的对象，所以可以用for循来遍历\n",
    "for i in l3:\n",
    "    print(i)\n",
    "\n",
    "# 为啥为空？    \n",
    "l4 = [i for i in l3]\n",
    "print(l4)"
   ]
  },
  {
   "cell_type": "markdown",
   "metadata": {},
   "source": [
    "### 系统高阶函数 - reduce\n",
    "- 原意是归并，缩减\n",
    "- 把一个可迭代 对象最后归并成一个结果\n",
    "- 对于作为参数的函数有要求：\n",
    "  - 必须有2个参数\n",
    "  - 必须有返回结果\n",
    "  - reduce([1,2,3,4,5]) = f(f(f(f(1,2),3),4),5)\n",
    "  - reduce 需要导入functools包"
   ]
  },
  {
   "cell_type": "code",
   "execution_count": 22,
   "metadata": {},
   "outputs": [
    {
     "name": "stdout",
     "output_type": "stream",
     "text": [
      "21\n"
     ]
    }
   ],
   "source": [
    "from functools import reduce\n",
    "\n",
    "# 定义一个操作函数\n",
    "# 加入操作函数只是相加\n",
    "def myAdd(x,y):\n",
    "    return x + y\n",
    "\n",
    "# 对于列表执行myAdd的reduce操作\n",
    "rst = reduce( myAdd, [1,2,3,4,5,6])\n",
    "print(rst)"
   ]
  },
  {
   "cell_type": "code",
   "execution_count": null,
   "metadata": {},
   "outputs": [],
   "source": []
  },
  {
   "cell_type": "code",
   "execution_count": null,
   "metadata": {},
   "outputs": [],
   "source": []
  },
  {
   "cell_type": "code",
   "execution_count": null,
   "metadata": {},
   "outputs": [],
   "source": []
  },
  {
   "cell_type": "code",
   "execution_count": null,
   "metadata": {},
   "outputs": [],
   "source": []
  }
 ],
 "metadata": {
  "kernelspec": {
   "display_name": "Python 3",
   "language": "python",
   "name": "python3"
  },
  "language_info": {
   "codemirror_mode": {
    "name": "ipython",
    "version": 3
   },
   "file_extension": ".py",
   "mimetype": "text/x-python",
   "name": "python",
   "nbconvert_exporter": "python",
   "pygments_lexer": "ipython3",
   "version": "3.6.6"
  }
 },
 "nbformat": 4,
 "nbformat_minor": 2
}
