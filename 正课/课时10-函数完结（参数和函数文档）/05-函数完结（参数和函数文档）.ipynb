{
 "cells": [
  {
   "cell_type": "markdown",
   "metadata": {},
   "source": [
    "# 四类参数\n",
    "- 普通参数\n",
    "- 默认参数\n",
    "- 关键字参数\n",
    "- 收集参数\n",
    "\n",
    "## 关键字参数\n",
    "- 语法\n",
    "\n",
    "```\n",
    "def func(p1=v1, p2=v2, ...)\n",
    "    func_body\n",
    "```\n",
    "\n",
    "- 调用函数：\n",
    "\n",
    "```\n",
    "func(p1=value1, p2=value2, ...)\n",
    "```\n",
    "\n",
    "- 比较麻烦，但有好处:\n",
    "  - 不易混淆，一般实参和形参只是按位置对应，容易混淆\n",
    "  - 使用关键字参数，可以不考虑参数位置\n",
    "\n"
   ]
  },
  {
   "cell_type": "code",
   "execution_count": 10,
   "metadata": {},
   "outputs": [
    {
     "name": "stdout",
     "output_type": "stream",
     "text": [
      "I am a student\n",
      "我叫jingjing, 今年18岁, 我住在深圳\n",
      "============================================================\n",
      "I am a student\n",
      "我叫18, 今年jingjing岁, 我住在深圳\n",
      "============================================================\n",
      "I am a student\n",
      "我叫jingjing, 今年18岁, 我住在深圳\n",
      "I am a student\n",
      "我叫jingjing, 今年18岁, 我住在深圳\n"
     ]
    }
   ],
   "source": [
    "## 关键字参数示例\n",
    "\n",
    "#### 缺点 - 形参和实参按位置传递，容易出错\n",
    "def stu(name, age, addr):\n",
    "    print(\"I am a student\")\n",
    "    print(\"我叫{0}, 今年{1}岁, 我住在{2}\".format(name, age, addr))\n",
    "    \n",
    "n = \"jingjing\"\n",
    "a = 18\n",
    "ad = \"深圳\"\n",
    "\n",
    "#### 此时调用，要严格按照顺序，否则牛头不对马嘴\n",
    "stu(n,a,ad)\n",
    "print(\"==\" * 30)\n",
    "stu(a,n,ad)\n",
    "print(\"==\" * 30)\n",
    "\n",
    "\n",
    "## 使用关键字参数来定义时\n",
    "def stu_key(name=\"NoName\", age=18, addr=\"No Addr\"):\n",
    "    print(\"I am a student\")\n",
    "    print(\"我叫{0}, 今年{1}岁, 我住在{2}\".format(name, age, addr))\n",
    "    \n",
    "n = \"jingjing\"\n",
    "a = 18\n",
    "ad = \"深圳\"\n",
    "\n",
    "stu_key(name=n, age=a, addr=ad)\n",
    "# 关键字参数，相对于位置参数，调用时参数顺序是可以不对应的\n",
    "stu_key(age=a, name=n, addr=ad)\n",
    "\n"
   ]
  },
  {
   "cell_type": "code",
   "execution_count": null,
   "metadata": {},
   "outputs": [],
   "source": []
  },
  {
   "cell_type": "code",
   "execution_count": null,
   "metadata": {},
   "outputs": [],
   "source": []
  },
  {
   "cell_type": "code",
   "execution_count": null,
   "metadata": {},
   "outputs": [],
   "source": []
  },
  {
   "cell_type": "markdown",
   "metadata": {},
   "source": [
    "## 收集参数\n",
    "- 把没有位置，不能和定义时的参数位置相对应的参数，放入一个特定的数据结构中\n",
    "- 语法\n",
    "\n",
    "        def func(*args):\n",
    "            func_body\n",
    "        # 按照list使用的方式，访问args得到传入的参数\n",
    "        \n",
    "        # 调用：\n",
    "        func(p1, p2, p3, ...)\n",
    "\n",
    "    - 参数名 args 不是必须这么写，但是我们推荐直接用 args，约定俗成\n",
    "    - 参数名 args 前需要有 * 符号，表明是一个收集参数\n",
    "    - 收集参数可以和其他参数共存\n"
   ]
  },
  {
   "cell_type": "code",
   "execution_count": null,
   "metadata": {},
   "outputs": [],
   "source": []
  },
  {
   "cell_type": "code",
   "execution_count": 9,
   "metadata": {},
   "outputs": [
    {
     "name": "stdout",
     "output_type": "stream",
     "text": [
      "Hello，大家好，自我介绍下，简单说两句\n",
      "<class 'tuple'>\n",
      "饲养员\n",
      "18\n",
      "深圳南山\n",
      "喜欢小6\n",
      "单身\n",
      "**************************************************\n",
      "Hello，大家好，自我介绍下，简单说两句\n",
      "<class 'tuple'>\n",
      "周大神\n"
     ]
    }
   ],
   "source": [
    "# 收集参数示例 - 学生自我介绍，具体内容不太清楚\n",
    "# args 可以看成一个列表\n",
    "\n",
    "def stu( *args):\n",
    "    print(\"Hello，大家好，自我介绍下，简单说两句\")    \n",
    "    print(type(args))\n",
    "    \n",
    "    for item in args:\n",
    "        print(item)\n",
    "\n",
    "stu(\"饲养员\", 18, \"深圳南山\", \"喜欢小6\", \"单身\" ) # 多个参数\n",
    "\n",
    "print(\"*\" * 50)\n",
    "\n",
    "stu(\"周大神\") # 单个参数"
   ]
  },
  {
   "cell_type": "code",
   "execution_count": null,
   "metadata": {},
   "outputs": [],
   "source": []
  },
  {
   "cell_type": "code",
   "execution_count": 11,
   "metadata": {
    "scrolled": false
   },
   "outputs": [
    {
     "name": "stdout",
     "output_type": "stream",
     "text": [
      "Hello，大家好，自我介绍下，简单说两句\n",
      "<class 'tuple'>\n"
     ]
    }
   ],
   "source": [
    "# 收集参数可以不带任何实参调用，此时收集参数为空tuple\n",
    "stu()"
   ]
  },
  {
   "cell_type": "code",
   "execution_count": null,
   "metadata": {},
   "outputs": [],
   "source": []
  },
  {
   "cell_type": "code",
   "execution_count": 12,
   "metadata": {
    "scrolled": false
   },
   "outputs": [
    {
     "ename": "TypeError",
     "evalue": "stu() got an unexpected keyword argument 'name'",
     "output_type": "error",
     "traceback": [
      "\u001b[0;31m---------------------------------------------------------------------------\u001b[0m",
      "\u001b[0;31mTypeError\u001b[0m                                 Traceback (most recent call last)",
      "\u001b[0;32m<ipython-input-12-24c6380abc3e>\u001b[0m in \u001b[0;36m<module>\u001b[0;34m()\u001b[0m\n\u001b[1;32m      1\u001b[0m \u001b[0;31m# 如果使用关键字参数调用，会出现问题\u001b[0m\u001b[0;34m\u001b[0m\u001b[0;34m\u001b[0m\u001b[0m\n\u001b[0;32m----> 2\u001b[0;31m \u001b[0mstu\u001b[0m\u001b[0;34m(\u001b[0m\u001b[0mname\u001b[0m \u001b[0;34m=\u001b[0m\u001b[0;34m\"饲养员\"\u001b[0m\u001b[0;34m)\u001b[0m\u001b[0;34m\u001b[0m\u001b[0m\n\u001b[0m",
      "\u001b[0;31mTypeError\u001b[0m: stu() got an unexpected keyword argument 'name'"
     ]
    }
   ],
   "source": [
    "# 如果使用关键字参数调用，会出现问题\n",
    "stu(name =\"饲养员\")"
   ]
  },
  {
   "cell_type": "code",
   "execution_count": null,
   "metadata": {},
   "outputs": [],
   "source": []
  },
  {
   "cell_type": "code",
   "execution_count": null,
   "metadata": {},
   "outputs": [],
   "source": []
  },
  {
   "cell_type": "code",
   "execution_count": null,
   "metadata": {},
   "outputs": [],
   "source": []
  },
  {
   "cell_type": "markdown",
   "metadata": {},
   "source": [
    "### 收集参数之关键字收集参数\n",
    "- 把关键字参数按字典的格式存入收集参数\n",
    "- 语法：\n",
    "\n",
    "        def func(**kwargs):\n",
    "            func_body\n",
    "            \n",
    "        # 调用：\n",
    "        func(p1=v1, p2=v2, p3=v3, ...)\n",
    "\n",
    "  - kwargs  一般约定俗称使用\n",
    "  - 调用的时候，把多余的关键字参数放入kwargs\n",
    "  - 访问 kwargs 时需要按照字典格式访问"
   ]
  },
  {
   "cell_type": "code",
   "execution_count": null,
   "metadata": {},
   "outputs": [],
   "source": []
  },
  {
   "cell_type": "code",
   "execution_count": 14,
   "metadata": {
    "scrolled": false
   },
   "outputs": [
    {
     "name": "stdout",
     "output_type": "stream",
     "text": [
      "Hello 大家好，我先自我介绍一下！\n",
      "<class 'dict'>\n",
      "name --- liuying\n",
      "age --- 19\n",
      "addr --- 深圳南山\n",
      "work --- ops\n",
      "**************************************************\n",
      "Hello 大家好，我先自我介绍一下！\n",
      "<class 'dict'>\n",
      "name --- 周大神\n"
     ]
    }
   ],
   "source": [
    "# 关键字收集参数示例 - 自我介绍\n",
    "# 调用的时候需要使用关键字参数调用\n",
    "\n",
    "def stu( **kwargs):\n",
    "    print(\"Hello 大家好，我先自我介绍一下！\")\n",
    "    print(type(kwargs))\n",
    "    \n",
    "    # 对于字典的访问，python2和python3是有区别的\n",
    "    for k,v in kwargs.items():\n",
    "        print(k,\"---\",v)\n",
    "    \n",
    "stu(name=\"liuying\", age=19, addr=\"深圳南山\", work=\"ops\")\n",
    "\n",
    "print(\"*\" * 50)\n",
    "\n",
    "stu(name=\"周大神\")"
   ]
  },
  {
   "cell_type": "code",
   "execution_count": null,
   "metadata": {},
   "outputs": [],
   "source": []
  },
  {
   "cell_type": "code",
   "execution_count": 15,
   "metadata": {
    "scrolled": true
   },
   "outputs": [
    {
     "name": "stdout",
     "output_type": "stream",
     "text": [
      "Hello 大家好，我先自我介绍一下！\n",
      "<class 'dict'>\n"
     ]
    }
   ],
   "source": [
    "# 关键字收集参数也可以为空，此时为一个空 dict\n",
    "stu()"
   ]
  },
  {
   "cell_type": "code",
   "execution_count": null,
   "metadata": {},
   "outputs": [],
   "source": []
  },
  {
   "cell_type": "code",
   "execution_count": null,
   "metadata": {},
   "outputs": [],
   "source": []
  },
  {
   "cell_type": "code",
   "execution_count": null,
   "metadata": {},
   "outputs": [],
   "source": []
  },
  {
   "cell_type": "markdown",
   "metadata": {},
   "source": [
    "### 收集参数混合调用的顺序问题\n",
    "- 收集参数，关键字参数，普通参数是可以混合使用的\n",
    "- 使用规则，普通参数和关键字参数优先声明\n",
    "- 定义的时候一般 位置参数 --> 收集参数 tuple --> 关键字参数 --> 收集参数之关键字参数 dict"
   ]
  },
  {
   "cell_type": "code",
   "execution_count": 25,
   "metadata": {
    "scrolled": true
   },
   "outputs": [
    {
     "name": "stdout",
     "output_type": "stream",
     "text": [
      "Hello 大家好\n",
      "我叫liuying, 我今年19岁。 \n",
      "我没有爱好, so sorry\n",
      "**************************************************\n",
      "##############################\n",
      "Hello 大家好\n",
      "我叫liuying, 我今年19岁。 \n",
      "我的爱好是看电影\n",
      "**************************************************\n",
      "##############################\n",
      "Hello 大家好\n",
      "我叫liuying, 我今年19岁。 \n",
      "我的爱好是游泳\n",
      "**************************************************\n",
      "王晓静\n",
      "刘石头\n",
      "##############################\n",
      "hobby2 --- 看电影\n",
      "hobby3 --- 跟不同女生聊天\n"
     ]
    }
   ],
   "source": [
    "# 收集参数的混合调用示例，模拟一个学生自我介绍\n",
    "\n",
    "def stu(name, age, *args, hobby=\"没有\", **kwargs):    \n",
    "    print(\"Hello 大家好\")\n",
    "    print(\"我叫{0}, 我今年{1}岁。 \".format(name,age))\n",
    "    \n",
    "    if hobby == \"没有\":\n",
    "        print(\"我没有爱好, so sorry\")\n",
    "    else:\n",
    "        print(\"我的爱好是{0}\".format(hobby))\n",
    "    \n",
    "    print(\"*\" * 50)\n",
    "    \n",
    "    for i in args:\n",
    "        print(i)\n",
    "        \n",
    "    print(\"#\" * 30)\n",
    "    \n",
    "    for k,v in kwargs.items():\n",
    "        print(k, \"---\", v)\n",
    "        \n",
    "        \n",
    "# 开始调用函数\n",
    "name = \"liuying\"\n",
    "age = 19\n",
    "\n",
    "# 调用的不同格式\n",
    "stu(name, age)\n",
    "stu(name, age, hobby=\"看电影\") # 普通参数之关键字参数hobby\n",
    "\n",
    "# hobby=\"游泳\" 是普通参数之关键字参数 str\n",
    "# \"王晓静\", \"刘石头\" 是收集参数 tuple\n",
    "# hobby1=\"看电影\", hobby2=\"跟不同女生聊天\" 是收集参数之关键字参数 dict\n",
    "stu(name, age, \"王晓静\", \"刘石头\", hobby=\"游泳\", hobby2=\"看电影\", hobby3=\"跟不同女生聊天\")"
   ]
  },
  {
   "cell_type": "code",
   "execution_count": null,
   "metadata": {},
   "outputs": [],
   "source": []
  },
  {
   "cell_type": "code",
   "execution_count": null,
   "metadata": {},
   "outputs": [],
   "source": []
  },
  {
   "cell_type": "code",
   "execution_count": null,
   "metadata": {},
   "outputs": [],
   "source": []
  },
  {
   "cell_type": "markdown",
   "metadata": {},
   "source": [
    " ### 收集参数解包问题\n",
    " - 把参数放入 list 中，或者直接把 list 中的值放入收集参数中\n",
    "   - 语法：查看示例"
   ]
  },
  {
   "cell_type": "code",
   "execution_count": 29,
   "metadata": {},
   "outputs": [
    {
     "name": "stdout",
     "output_type": "stream",
     "text": [
      "hello\n",
      "<class 'list'>\n",
      "0\n",
      "['liuying', 20, 230, 'wangxiaojing']\n",
      "##############################\n",
      "hello\n",
      "<class 'str'>\n",
      "0\n",
      "liuying\n",
      "<class 'int'>\n",
      "1\n",
      "20\n",
      "<class 'int'>\n",
      "2\n",
      "230\n",
      "<class 'str'>\n",
      "3\n",
      "wangxiaojing\n"
     ]
    }
   ],
   "source": [
    "# 收集参数的解包问题\n",
    "\n",
    "def stu( *args):\n",
    "    print(\"hello\")\n",
    "    \n",
    "    # 此处的循环仅调试用，为了验证 list 内的元素是否被解包并循环打印\n",
    "    # n 表示循环次数\n",
    "    n = 0\n",
    "    for i in args:\n",
    "        print(type(i))\n",
    "        print(n)\n",
    "        n += 1\n",
    "        print(i)\n",
    "        \n",
    "l = [\"liuying\",20,230,\"wangxiaojing\"]\n",
    "stu(l)\n",
    "\n",
    "print(\"#\" * 30)\n",
    "\n",
    "# 此时 args 的表现形式是 tuple 类型，里层是一个 list，即 arg = (['liuying', 20, 230],) 整体作为一个参数\n",
    "# 很显然和我们最初的的想法相违背\n",
    "\n",
    "# 此时的调用，我们需要用解包符号，即调用前面加一个 * 符号\n",
    "stu(*l)"
   ]
  },
  {
   "cell_type": "code",
   "execution_count": null,
   "metadata": {},
   "outputs": [],
   "source": []
  },
  {
   "cell_type": "markdown",
   "metadata": {},
   "source": [
    "### 关键字收集参数 的解包问题\n",
    "- 同理, 对 dict 类型的关键字收集参数一样可以解包，但是需要用两个 * 符号\n",
    "- 把参数放入 dict 中，直接把 dict 中的值放入关键字收集参数中\n",
    "  - 语法：查看示例"
   ]
  },
  {
   "cell_type": "code",
   "execution_count": 9,
   "metadata": {},
   "outputs": [
    {
     "name": "stdout",
     "output_type": "stream",
     "text": [
      "**************************************************\n",
      "hello\n",
      "0\n",
      "liuying == 20\n",
      "1\n",
      "score == 230\n"
     ]
    }
   ],
   "source": [
    "def stu( **kwargs):\n",
    "    print(\"hello\")\n",
    "    \n",
    "    n = 0\n",
    "    for k,v in kwargs.items():\n",
    "        # print(type(kwargs))\n",
    "        print(n)\n",
    "        n += 1\n",
    "        print(k,\"==\",v)\n",
    "\n",
    "d1 = {\"liuying\":20,\"score\":230}\n",
    "\n",
    "print(\"*\" * 50)\n",
    "stu(**d1)"
   ]
  },
  {
   "cell_type": "code",
   "execution_count": null,
   "metadata": {},
   "outputs": [],
   "source": []
  },
  {
   "cell_type": "code",
   "execution_count": null,
   "metadata": {},
   "outputs": [],
   "source": []
  },
  {
   "cell_type": "markdown",
   "metadata": {},
   "source": [
    "# 返回值\n",
    "- 函数和过程的区别\n",
    "    - 有无返回值\n",
    "- 需要用 return 显示返回内容\n",
    "- 如果没有返回值，则默认为 None\n",
    "- 推荐写法，无论有无返回值，最后都用 return 结束\n",
    "   "
   ]
  },
  {
   "cell_type": "code",
   "execution_count": 73,
   "metadata": {},
   "outputs": [
    {
     "name": "stdout",
     "output_type": "stream",
     "text": [
      "有返回值呀\n",
      "1\n",
      "没有返回值呀\n",
      "None\n"
     ]
    }
   ],
   "source": [
    "# 返回值示例\n",
    "\n",
    "def func_1():\n",
    "    print(\"有返回值呀\")\n",
    "    return 1\n",
    "\n",
    "def func_2():\n",
    "    print(\"没有返回值呀\")\n",
    "    return None\n",
    "    \n",
    "f1 = func_1()\n",
    "print(f1)\n",
    "\n",
    "f2 = func_2()\n",
    "print(f2)"
   ]
  },
  {
   "cell_type": "markdown",
   "metadata": {},
   "source": [
    "# 函数文档\n",
    "- 函数的文档的作用是为当前函数提供使用方法和参考信息\n",
    "- 文档的写法\n",
    "    - 在函数内部开始的第一样使用三字符串定义文档\n",
    "    - 一般具有特定格式\n",
    "- 文档查看\n",
    "    - 使用help(func_name)\n",
    "    - 使用__doc__"
   ]
  },
  {
   "cell_type": "code",
   "execution_count": 14,
   "metadata": {},
   "outputs": [],
   "source": [
    "# 文档示例\n",
    "# 函数stu是一个模拟学生的自我介绍\n",
    "\n",
    "def stu(name, age, *args):\n",
    "    '''\n",
    "    这是帮助文档第一行\n",
    "    这是第二行\n",
    "    '''\n",
    "    \n",
    "    print(\"this is function stu\")\n"
   ]
  },
  {
   "cell_type": "code",
   "execution_count": 11,
   "metadata": {},
   "outputs": [
    {
     "name": "stdout",
     "output_type": "stream",
     "text": [
      "Help on function stu in module __main__:\n",
      "\n",
      "stu(**kwargs)\n",
      "\n"
     ]
    }
   ],
   "source": [
    "# 查看文档的方法1\n",
    "help(stu)"
   ]
  },
  {
   "cell_type": "code",
   "execution_count": 15,
   "metadata": {},
   "outputs": [
    {
     "data": {
      "text/plain": [
       "'\\n    这是帮助文档第一行\\n    这是第二行\\n    '"
      ]
     },
     "execution_count": 15,
     "metadata": {},
     "output_type": "execute_result"
    }
   ],
   "source": [
    "# 查看文档的方法2\n",
    "stu.__doc__"
   ]
  },
  {
   "cell_type": "code",
   "execution_count": null,
   "metadata": {},
   "outputs": [],
   "source": []
  },
  {
   "cell_type": "code",
   "execution_count": 84,
   "metadata": {},
   "outputs": [
    {
     "name": "stdout",
     "output_type": "stream",
     "text": [
      "Help on function stu in module __main__:\n",
      "\n",
      "stu(name, age)\n",
      "     定义一个学生\n",
      "    :param name: 学生的姓名\n",
      "    :param age: 学生的年龄\n",
      "    :return: 此函数没有返回值\n",
      "\n",
      "None\n",
      "==================================================\n",
      "\n",
      "     定义一个学生\n",
      "    :param name: 学生的姓名\n",
      "    :param age: 学生的年龄\n",
      "    :return: 此函数没有返回值\n",
      "    \n"
     ]
    }
   ],
   "source": [
    "def stu(name, age):\n",
    "    '''\n",
    "     定义一个学生\n",
    "    :param name: 学生的姓名\n",
    "    :param age: 学生的年龄\n",
    "    :return: 此函数没有返回值\n",
    "    '''\n",
    "    pass\n",
    "\n",
    "print(help(stu))\n",
    "\n",
    "print(\"=\" * 50)\n",
    "\n",
    "print(stu.__doc__)"
   ]
  },
  {
   "cell_type": "code",
   "execution_count": null,
   "metadata": {},
   "outputs": [],
   "source": []
  }
 ],
 "metadata": {
  "kernelspec": {
   "display_name": "Python 3",
   "language": "python",
   "name": "python3"
  },
  "language_info": {
   "codemirror_mode": {
    "name": "ipython",
    "version": 3
   },
   "file_extension": ".py",
   "mimetype": "text/x-python",
   "name": "python",
   "nbconvert_exporter": "python",
   "pygments_lexer": "ipython3",
   "version": "3.6.5"
  }
 },
 "nbformat": 4,
 "nbformat_minor": 2
}
