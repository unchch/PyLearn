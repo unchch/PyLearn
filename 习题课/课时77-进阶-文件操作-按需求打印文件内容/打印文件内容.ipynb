{
 "cells": [
  {
   "cell_type": "markdown",
   "metadata": {},
   "source": [
    "#### 编写一个程序，当用户输入文件名和行数时，将该文件的前N行打印到屏幕上\n",
    "- input 接收文件名\n",
    "- input 接受行数"
   ]
  },
  {
   "cell_type": "code",
   "execution_count": 8,
   "metadata": {},
   "outputs": [
    {
     "name": "stdout",
     "output_type": "stream",
     "text": [
      "请输入你要打开的文件名： test\n",
      "请输入你要显示前几行： 6\n",
      "\n",
      "文件test的前6行的内容如下\n",
      "111\n",
      "\n",
      "222\n",
      "\n",
      "333\n",
      "\n",
      "444\n",
      "\n",
      "555\n",
      "\n",
      "666\n",
      "\n"
     ]
    }
   ],
   "source": [
    "file_name = input(r\"请输入你要打开的文件名： \")\n",
    "line_num = input(r\"请输入你要显示前几行： \")\n",
    "\n",
    "def file_view(file_name, line_num):\n",
    "    print('\\n文件%s的前%s行的内容如下' %(file_name, line_num))\n",
    "    \n",
    "    # 去打开文件\n",
    "    with open(file_name) as f:\n",
    "        for i in range(int(line_num)):\n",
    "            print(f.readline())\n",
    "    \n",
    "file_view(file_name, line_num)"
   ]
  },
  {
   "cell_type": "code",
   "execution_count": null,
   "metadata": {},
   "outputs": [],
   "source": []
  },
  {
   "cell_type": "markdown",
   "metadata": {},
   "source": [
    "#### 在上一道题的基础上，增加一点功能，是用户可以随意的输入需要显示的行数\n",
    "- 12:42\n",
    "- [:]\n",
    "- [:9]\n",
    "\n",
    "- 用以上的形式来表示要打印的起始和结束行数"
   ]
  },
  {
   "cell_type": "code",
   "execution_count": 15,
   "metadata": {},
   "outputs": [
    {
     "name": "stdout",
     "output_type": "stream",
     "text": [
      "请输入你要打开的文件名： test\n",
      "请输入你要显示的行数，例如[1:9]或者[:]： 2:9\n",
      "222\n",
      "\n",
      "333\n",
      "\n",
      "444\n",
      "\n",
      "555\n",
      "\n",
      "666\n",
      "\n",
      "777\n",
      "\n",
      "888\n",
      "\n",
      "999\n",
      "\n"
     ]
    }
   ],
   "source": [
    "file_name = input(r\"请输入你要打开的文件名： \")\n",
    "line_num = input(r\"请输入你要显示的行数，例如[1:9]或者[:]： \")\n",
    "\n",
    "def print_line(file_name, line_num):\n",
    "    with open(file_name) as f:\n",
    "        \n",
    "        begin, end = line_num.split(\":\")\n",
    "        \n",
    "        if begin == \"\":\n",
    "            begin = \"1\"\n",
    "        \n",
    "        if end == \"\":\n",
    "            end = \"-1\"\n",
    "        \n",
    "        begin = int(begin) - 1 # 索引都是从 0 开始\n",
    "        end = int(end)\n",
    "        \n",
    "        lines = end - begin\n",
    "        \n",
    "        # 消耗掉begin 之前的行数，也可以用 seek\n",
    "        # 读掉，但是不打印\n",
    "        for i in range(begin):\n",
    "            f.readline()\n",
    "        \n",
    "        \n",
    "        # 当用户输入：时，int(end) = -1, lines结果为-1，此时应该打印整个文件\n",
    "        if lines < 0:\n",
    "            print(f.read())\n",
    "        else:\n",
    "            for j in range(lines):\n",
    "                print(f.readline())\n",
    "                \n",
    "print_line(file_name, line_num)\n",
    "                \n",
    "            \n",
    "        \n",
    "    "
   ]
  },
  {
   "cell_type": "code",
   "execution_count": null,
   "metadata": {},
   "outputs": [],
   "source": []
  },
  {
   "cell_type": "markdown",
   "metadata": {},
   "source": [
    "#### 编写一个程序，实现“全部替换”的功能\n",
    "- 打开一个文件\n",
    "- 把文件中 xxx 替换为 sss\n",
    "\n",
    "- open 打开文件\n",
    "- readline() 一行一行的读取文件\n",
    "- 如果发现有 xxx,用 replace 替换"
   ]
  },
  {
   "cell_type": "code",
   "execution_count": 24,
   "metadata": {},
   "outputs": [
    {
     "name": "stdout",
     "output_type": "stream",
     "text": [
      "请输入你要打开的文件名： test\n",
      "请输入需要替换的字符： 111\n",
      "请输入新的字符串：9999999\n",
      "你确定要替换吗？请输入yes或no: yes\n"
     ]
    }
   ],
   "source": [
    "file_name = input(r\"请输入你要打开的文件名： \")\n",
    "rep_word = input('请输入需要替换的字符： ')\n",
    "new_word = input('请输入新的字符串：')\n",
    "\n",
    "def file_replace(file_name, rep_word, new_word):\n",
    "    f = open(file_name)\n",
    "    content=[]\n",
    "        \n",
    "    for each_line in f:\n",
    "        if rep_word in each_line:\n",
    "            each_line = each_line.replace(rep_word, new_word)\n",
    "            \n",
    "        content.append(each_line)\n",
    "                \n",
    "    decide = input(\"你确定要替换吗？请输入yes或no: \")\n",
    "    \n",
    "    if decide in [\"YES\", \"Yes\", \"yes\"]:\n",
    "        f_write = open(file_name, 'w')\n",
    "        f_write.write(\"\".join(content))\n",
    "        f_write.close()\n",
    "                \n",
    "file_replace(file_name, rep_word, new_word)"
   ]
  },
  {
   "cell_type": "code",
   "execution_count": null,
   "metadata": {},
   "outputs": [],
   "source": []
  },
  {
   "cell_type": "code",
   "execution_count": null,
   "metadata": {},
   "outputs": [],
   "source": []
  },
  {
   "cell_type": "code",
   "execution_count": null,
   "metadata": {},
   "outputs": [],
   "source": []
  }
 ],
 "metadata": {
  "kernelspec": {
   "display_name": "Python 3",
   "language": "python",
   "name": "python3"
  },
  "language_info": {
   "codemirror_mode": {
    "name": "ipython",
    "version": 3
   },
   "file_extension": ".py",
   "mimetype": "text/x-python",
   "name": "python",
   "nbconvert_exporter": "python",
   "pygments_lexer": "ipython3",
   "version": "3.6.5"
  }
 },
 "nbformat": 4,
 "nbformat_minor": 2
}
