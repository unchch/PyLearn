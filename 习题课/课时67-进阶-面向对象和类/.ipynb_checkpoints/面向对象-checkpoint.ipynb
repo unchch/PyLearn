{
 "cells": [
  {
   "cell_type": "markdown",
   "metadata": {},
   "source": [
    "### 定义一个学生类\n",
    "```\n",
    "1.姓名\n",
    "2.年龄\n",
    "3.成绩（语文，数学，英语）每课成绩类型为整数\n",
    "\n",
    "类方法：\n",
    "4.获取学生的姓名 get_name() 返回类型 str\n",
    "5.获取学生的年龄 get_age() int\n",
    "6.返回3门课程中最高的分数，get_course() int\n",
    "```\n"
   ]
  },
  {
   "cell_type": "code",
   "execution_count": 7,
   "metadata": {},
   "outputs": [
    {
     "name": "stdout",
     "output_type": "stream",
     "text": [
      "周周\n",
      "18\n",
      "100\n"
     ]
    }
   ],
   "source": [
    "class Student(object):\n",
    "    def __init__(self, name, age, scores):\n",
    "        self.name = name\n",
    "        self.age = age\n",
    "        self.scores = scores\n",
    "        \n",
    "    def get_name(self):\n",
    "        return self.name\n",
    "    \n",
    "    def get_age(self):\n",
    "        return self.age\n",
    "    \n",
    "    def get_scores(self):\n",
    "        return max(self.scores)\n",
    "\n",
    "zz = Student(\"周周\",18,[80,100,90])\n",
    "print(zz.get_name())\n",
    "print(zz.get_age())\n",
    "print(zz.get_scores())\n",
    "# print(max([100,200,40]))"
   ]
  },
  {
   "cell_type": "markdown",
   "metadata": {},
   "source": [
    "### 定义一个字典类DictClass ，完成如下功能：\n",
    "```\n",
    "1.删除某个key: del_dict(key)\n",
    "2.判断某个键是否在字典里，如果在返回对应的值，不存在则返回'not_found'：get_dict()\n",
    "3.返回键组成的列表，返回类型list：get_keys()\n",
    "4.合并字典，并且返回合并字典后values组成的列表，返回类型list：update_dict()\n",
    "```"
   ]
  },
  {
   "cell_type": "code",
   "execution_count": 18,
   "metadata": {},
   "outputs": [
    {
     "name": "stdout",
     "output_type": "stream",
     "text": [
      "dict_values([1, 2, 3])\n"
     ]
    }
   ],
   "source": [
    "class DictClass(object):\n",
    "    \n",
    "    def __init__(self, dict):\n",
    "        self.dict = dict\n",
    "        \n",
    "    def del_dict(self, key):\n",
    "        # 判断key是否在dict里\n",
    "        if key not in self.dict.keys():\n",
    "            return 'not_found'\n",
    "        else:\n",
    "            self.dict.pop(key)\n",
    "            return \"删除成功\"\n",
    "        \n",
    "    def get_dict(self,key):\n",
    "        if key not in self.dict.keys():\n",
    "            return \"not_found\"\n",
    "        else:\n",
    "            return self.dict[key]            \n",
    "            \n",
    "    def get_keys(self):\n",
    "        return self.dict.keys()\n",
    "    \n",
    "    def update_dict(self,dict2):\n",
    "        self.dict = dict(self.dict, **dict2)\n",
    "        return self.dict.values()\n",
    "    \n",
    "    \n",
    "    \n",
    "    \n",
    "d = DictClass({\"a\":1,\"b\":2})\n",
    "print(d.update_dict({\"c\":3}))"
   ]
  },
  {
   "cell_type": "code",
   "execution_count": null,
   "metadata": {},
   "outputs": [],
   "source": []
  }
 ],
 "metadata": {
  "kernelspec": {
   "display_name": "Python 3",
   "language": "python",
   "name": "python3"
  },
  "language_info": {
   "codemirror_mode": {
    "name": "ipython",
    "version": 3
   },
   "file_extension": ".py",
   "mimetype": "text/x-python",
   "name": "python",
   "nbconvert_exporter": "python",
   "pygments_lexer": "ipython3",
   "version": "3.6.5"
  }
 },
 "nbformat": 4,
 "nbformat_minor": 2
}
