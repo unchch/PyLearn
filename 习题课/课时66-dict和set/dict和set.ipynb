{
 "cells": [
  {
   "cell_type": "markdown",
   "metadata": {},
   "source": [
    "### 写一个程序，来管理用于登录系统的用户信息，登录名称和密码；登录用户帐号建立后，已存在用户可以用登录名称和密码重返系统，新用户不能用别人的名称建立帐号"
   ]
  },
  {
   "cell_type": "code",
   "execution_count": 9,
   "metadata": {},
   "outputs": [
    {
     "name": "stdout",
     "output_type": "stream",
     "text": [
      "恭喜你，登录成功\n"
     ]
    }
   ],
   "source": [
    "# 模拟从数据库里取出来的用户名和密码\n",
    "user_pass = {\"laotie\":\"password\",\"huniu\":\"admin\"}\n",
    "\n",
    "def create_user(username,password):\n",
    "    '''\n",
    "    username: 用户建立的用户名\n",
    "    passwrod: 用户建立帐号的密码\n",
    "    '''\n",
    "    # 判断用户输入的帐号是不是已存在\n",
    "    usernames = user_pass.keys()\n",
    "    \n",
    "    if username in usernames:\n",
    "        print(\"用户名已存在\")\n",
    "    else:\n",
    "        # 没有被注册，则更新我们的user_pass\n",
    "        # 实际情况是会做持久化存贮到数据库中\n",
    "        user_pass[username] = password\n",
    "        print(\"注册成功\")\n",
    "\n",
    "# create_user(\"zhoulaoshi\",\"123\")\n",
    "\n",
    "# print(user_pass)\n",
    "        \n",
    "    \n",
    "def login_user(username,password):\n",
    "    # 首先判断用户名是否存在\n",
    "    \n",
    "    usernames = user_pass.keys()\n",
    "    \n",
    "    if username not in usernames:\n",
    "        print(\"你还没有注册\")\n",
    "    elif password != user_pass[username]:\n",
    "        # 判断用户的密码是否正确\n",
    "        print(\"密码错误\")\n",
    "    else:\n",
    "        print(\"恭喜你，登录成功\")\n",
    "        \n",
    "login_user(\"laotie\",\"password\")"
   ]
  },
  {
   "cell_type": "code",
   "execution_count": 13,
   "metadata": {},
   "outputs": [
    {
     "name": "stdout",
     "output_type": "stream",
     "text": [
      "dict_keys(['dana', 'erna'])\n",
      "dict_values(['admin', '123'])\n"
     ]
    }
   ],
   "source": [
    "d = {\"dana\":\"admin\",\"erna\":\"123\"}\n",
    "username = d.keys()\n",
    "password = d.values()\n",
    "\n",
    "print(username)\n",
    "print(password)"
   ]
  }
 ],
 "metadata": {
  "kernelspec": {
   "display_name": "Python 3",
   "language": "python",
   "name": "python3"
  },
  "language_info": {
   "codemirror_mode": {
    "name": "ipython",
    "version": 3
   },
   "file_extension": ".py",
   "mimetype": "text/x-python",
   "name": "python",
   "nbconvert_exporter": "python",
   "pygments_lexer": "ipython3",
   "version": "3.6.5"
  }
 },
 "nbformat": 4,
 "nbformat_minor": 2
}
