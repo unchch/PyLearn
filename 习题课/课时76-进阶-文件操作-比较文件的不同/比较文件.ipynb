{
 "cells": [
  {
   "cell_type": "markdown",
   "metadata": {},
   "source": [
    "#### 编写一个程序，接受用户输入的内容，并且保存为新的文件\n",
    "- 如果用户单独输入：w ,表示保存文件并退出\n",
    "- open()\n",
    "- input()\n",
    "- \"w\""
   ]
  },
  {
   "cell_type": "code",
   "execution_count": 15,
   "metadata": {},
   "outputs": [
    {
     "name": "stdout",
     "output_type": "stream",
     "text": [
      "请输入文件名： test4\n",
      "请输入内容（单独输入:w 保存并退出）： \n",
      "111\n",
      "222\n",
      "333\n",
      "444\n",
      "555\n",
      ":2\n",
      ":w\n"
     ]
    }
   ],
   "source": [
    "file_name = input(\"请输入文件名： \")\n",
    "\n",
    "def file_write(file_name):\n",
    "    f = open(file_name,\"w\") # 打开用户的文件\n",
    "    print(\"请输入内容（单独输入:w 保存并退出）： \")\n",
    "    \n",
    "    while True:\n",
    "        write_something = input()\n",
    "        # 判断用户是否输入了：w\n",
    "        if write_something != \":w\":\n",
    "            # 向文件中输入用户输入的内容\n",
    "            f.write(\"%s\\n\" % write_something)\n",
    "        else:\n",
    "            # 用户输入了:w\n",
    "            break\n",
    "    f.close()\n",
    "        \n",
    "        \n",
    "file_write(file_name)\n",
    "        \n"
   ]
  },
  {
   "cell_type": "markdown",
   "metadata": {},
   "source": [
    "#### 比较用户输入的两个文件，如果不同，显示出所有不同的行号\n",
    "- f.readline() 逐行读取\n",
    "- open()\n",
    "- differ 定义一个变量，来接受不同"
   ]
  },
  {
   "cell_type": "code",
   "execution_count": 16,
   "metadata": {
    "scrolled": true
   },
   "outputs": [
    {
     "name": "stdout",
     "output_type": "stream",
     "text": [
      "请输入第一个文件名: test3\n",
      "请输入第二个文件名: test4\n",
      "两个文件有2不同\n",
      "第6行不一样\n",
      "第7行不一样\n"
     ]
    }
   ],
   "source": [
    "file1 = input(\"请输入第一个文件名: \")\n",
    "file2 = input(\"请输入第二个文件名: \")\n",
    "\n",
    "def file_compare(file1,file2):\n",
    "    f1 = open(file1)\n",
    "    f2 = open(file2)\n",
    "    \n",
    "    count = 1 # 当前正在比较行的行号\n",
    "    differ = [] # 存放差异行的行号\n",
    "    \n",
    "    for line1 in f1:\n",
    "        line2 = f2.readline()\n",
    "        \n",
    "        \n",
    "        if line1 != line2: # 文件不同\n",
    "            differ.append(count)\n",
    "            \n",
    "        count += 1\n",
    "    \n",
    "    f1.close()\n",
    "    f2.close()\n",
    "    \n",
    "    return differ\n",
    "\n",
    "differ = file_compare(file1,file2)\n",
    "if len(differ) == 0:\n",
    "    print(\"两个文件相同\")\n",
    "else:\n",
    "    print(\"两个文件有%d不同\" % len(differ))\n",
    "    for each in differ:\n",
    "        print(\"第%d行不一样\" % each)\n",
    "    "
   ]
  },
  {
   "cell_type": "code",
   "execution_count": null,
   "metadata": {},
   "outputs": [],
   "source": []
  }
 ],
 "metadata": {
  "kernelspec": {
   "display_name": "Python 3",
   "language": "python",
   "name": "python3"
  },
  "language_info": {
   "codemirror_mode": {
    "name": "ipython",
    "version": 3
   },
   "file_extension": ".py",
   "mimetype": "text/x-python",
   "name": "python",
   "nbconvert_exporter": "python",
   "pygments_lexer": "ipython3",
   "version": "3.6.5"
  }
 },
 "nbformat": 4,
 "nbformat_minor": 2
}
