{
 "cells": [
  {
   "cell_type": "markdown",
   "metadata": {},
   "source": [
    "#### 用户输入文件名以及开始搜索的路径，搜索该文件是否存在\n",
    "- 如果遇到文件夹，则进入继续搜索\n",
    "\n",
    "#### 思路：\n",
    "- input 接收用户的输入\n",
    "- os.path.isdir 判读是不是文件夹，是就进入继续搜索，循环调用函数实现"
   ]
  },
  {
   "cell_type": "code",
   "execution_count": 7,
   "metadata": {},
   "outputs": [
    {
     "name": "stdout",
     "output_type": "stream",
     "text": [
      "请输入目录： .\n",
      "请输入文件名： test.txt\n",
      "/Users/chenc/OneDrive/PyLearn/习题课/课时79-进阶-文件操作-搜索文件和保存搜索结果/test.txt\n"
     ]
    }
   ],
   "source": [
    "import os\n",
    "\n",
    "start_dir = input(\"请输入目录： \")\n",
    "target = input(\"请输入文件名： \")\n",
    "\n",
    "def search_file(start_dir, target):\n",
    "    # 切换到用户输入的路径\n",
    "    os.chdir(start_dir)\n",
    "    \n",
    "    for each_file in os.listdir(os.curdir):\n",
    "        if each_file == target:\n",
    "            print(os.getcwd() + os.sep + each_file)\n",
    "        if os.path.isdir(each_file):\n",
    "            search_file(each_file, target) # 递归调用\n",
    "            os.chdir(os.pardir) # 回归父目录，继续搜索\n",
    "            \n",
    "search_file(start_dir, target)"
   ]
  },
  {
   "cell_type": "markdown",
   "metadata": {},
   "source": [
    "#### 对上述题目加一些需求：\n",
    "- 模糊匹配\n",
    "  - 判断输入的部分，是否包含在某一个文件名中\n",
    "    \n",
    "#### 思路:\n",
    "- 用关键字 in 去判断 target 字符串是否在文件名中"
   ]
  },
  {
   "cell_type": "code",
   "execution_count": 6,
   "metadata": {},
   "outputs": [
    {
     "name": "stdout",
     "output_type": "stream",
     "text": [
      "please inpurt dir: .\n",
      "please iput file name: test1\n",
      "/Users/chenc/OneDrive/PyLearn/习题课/课时79-进阶-文件操作-搜索文件和保存搜索结果/Untitled Folder/test1.txt\n",
      "/Users/chenc/OneDrive/PyLearn/习题课/课时79-进阶-文件操作-搜索文件和保存搜索结果/test1.txt\n"
     ]
    }
   ],
   "source": [
    "import os\n",
    "import sys\n",
    "\n",
    "\n",
    "start_dir = input(\"please inpurt dir: \")\n",
    "target = input(\"please iput file name: \")\n",
    "\n",
    "def search_file(start_dir, target):\n",
    "    os.chdir(start_dir)\n",
    "    \n",
    "    for each_file in os.listdir(os.curdir):\n",
    "        if target in each_file:\n",
    "            print(os.getcwd() + os.sep + each_file)\n",
    "            \n",
    "        if os.path.isdir(each_file):\n",
    "            search_file(each_file, target)\n",
    "            os.chdir(os.pardir)\n",
    "        \n",
    "search_file(start_dir, target)"
   ]
  },
  {
   "cell_type": "markdown",
   "metadata": {},
   "source": [
    "#### 上述题目需要保存结果到一个指定路径的文件\n",
    "- file 的io操作写文件"
   ]
  },
  {
   "cell_type": "code",
   "execution_count": 3,
   "metadata": {},
   "outputs": [
    {
     "name": "stdout",
     "output_type": "stream",
     "text": [
      "please inpurt dir: .\n",
      "please iput file name: test\n"
     ]
    }
   ],
   "source": [
    "import os\n",
    "import sys\n",
    "\n",
    "\n",
    "start_dir = input(\"please inpurt dir: \")\n",
    "target = input(\"please iput file name: \")\n",
    "backup = []\n",
    "\n",
    "def search_file(start_dir, target):\n",
    "    os.chdir(start_dir)\n",
    "    \n",
    "    for each_file in os.listdir(os.curdir):\n",
    "        if target in each_file:\n",
    "            backup_file = os.getcwd() + os.sep + each_file\n",
    "            backup.append(backup_file)\n",
    "            \n",
    "        if os.path.isdir(each_file):\n",
    "            search_file(each_file, target)\n",
    "            os.chdir(os.pardir)\n",
    "            \n",
    "    return backup\n",
    "            \n",
    "rd = search_file(start_dir, target)\n",
    "\n",
    "f = open(os.getcwd() + os.sep + \"list.txt\", \"wb\")\n",
    "f.write(\"\\n\".join(rd).encode(\"utf-8\"))\n",
    "f.close()\n",
    "\n",
    "# print(rd)"
   ]
  },
  {
   "cell_type": "code",
   "execution_count": null,
   "metadata": {},
   "outputs": [],
   "source": []
  },
  {
   "cell_type": "code",
   "execution_count": null,
   "metadata": {},
   "outputs": [],
   "source": []
  }
 ],
 "metadata": {
  "kernelspec": {
   "display_name": "Python 3",
   "language": "python",
   "name": "python3"
  },
  "language_info": {
   "codemirror_mode": {
    "name": "ipython",
    "version": 3
   },
   "file_extension": ".py",
   "mimetype": "text/x-python",
   "name": "python",
   "nbconvert_exporter": "python",
   "pygments_lexer": "ipython3",
   "version": "3.6.5"
  }
 },
 "nbformat": 4,
 "nbformat_minor": 2
}
