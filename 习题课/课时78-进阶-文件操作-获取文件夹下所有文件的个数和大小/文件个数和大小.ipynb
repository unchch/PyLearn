{
 "cells": [
  {
   "cell_type": "markdown",
   "metadata": {},
   "source": [
    "#### 编写一个程序，统计当前目录下每个文件类型的文件数\n",
    "- 思路\n",
    "  - 打开当前的文件夹\n",
    "  - 获取到当前文件夹下所有的文件\n",
    "  - 处理当前文件夹下可能还存在文件夹的情况\n",
    "  - 统计"
   ]
  },
  {
   "cell_type": "code",
   "execution_count": 5,
   "metadata": {},
   "outputs": [
    {
     "name": "stdout",
     "output_type": "stream",
     "text": [
      "该文件夹下有类型为.ipynb的文件2个\n",
      "该文件夹下有类型为文件夹的文件1个\n",
      "该文件夹下有类型为.txt的文件1个\n",
      "该文件夹下有类型为.py的文件1个\n"
     ]
    }
   ],
   "source": [
    "import os\n",
    "\n",
    "# 获取当前文件夹下所有的文件\n",
    "all_files = os.listdir(os.curdir) # os.curdir 表示当前目录\n",
    "\n",
    "type_dict = dict()\n",
    "\n",
    "for each_file in all_files:\n",
    "    # 如果 each_file 是文件夹\n",
    "    if os.path.isdir(each_file):\n",
    "        type_dict.setdefault(\"文件夹\", 0)\n",
    "        type_dict['文件夹'] += 1\n",
    "#         print(type_dict)\n",
    "    else:\n",
    "        # 如果不是文件夹，而是文件\n",
    "        ext = os.path.splitext(each_file)[1] # 获取文件后缀\n",
    "#         print(os.path.splitext(each_file)[0])\n",
    "        type_dict.setdefault(ext, 0)\n",
    "        type_dict[ext] += 1\n",
    "        \n",
    "for each_type in type_dict:\n",
    "    print(\"该文件夹下有类型为{}的文件{}个\".format(each_type, type_dict[each_type]))\n",
    "\n"
   ]
  },
  {
   "cell_type": "code",
   "execution_count": null,
   "metadata": {},
   "outputs": [],
   "source": []
  },
  {
   "cell_type": "markdown",
   "metadata": {},
   "source": [
    "#### 计算当前文件夹下所有文件的大小\n",
    "- 思路：\n",
    "  - 打开当前文件夹\n",
    "  - 获取所有的文件和文件大小\n",
    "  - 保存获取到的数据，打印出来"
   ]
  },
  {
   "cell_type": "code",
   "execution_count": 10,
   "metadata": {},
   "outputs": [
    {
     "name": "stdout",
     "output_type": "stream",
     "text": [
      "文件 \"Untitled.ipynb\" 的大小 为72\n",
      "文件 \"文件个数和大小.ipynb\" 的大小 为4042\n",
      "文件 \"test-1.txt\" 的大小 为0\n",
      "文件 \"oops.py\" 的大小 为0\n"
     ]
    }
   ],
   "source": [
    "import os\n",
    "\n",
    "all_files = os.listdir(os.curdir)\n",
    "\n",
    "file_dict = dict()\n",
    "\n",
    "for each_file in all_files:\n",
    "    # 判断 each_file 是否是文件\n",
    "    if os.path.isfile(each_file):\n",
    "        file_size = os.path.getsize(each_file)\n",
    "        file_dict[each_file] = file_size\n",
    "        \n",
    "for each in file_dict.items():\n",
    "    print(\"文件 \\\"{}\\\" 的大小 为{}\".format(each[0], each[1]))"
   ]
  },
  {
   "cell_type": "code",
   "execution_count": null,
   "metadata": {},
   "outputs": [],
   "source": []
  }
 ],
 "metadata": {
  "kernelspec": {
   "display_name": "Python 3",
   "language": "python",
   "name": "python3"
  },
  "language_info": {
   "codemirror_mode": {
    "name": "ipython",
    "version": 3
   },
   "file_extension": ".py",
   "mimetype": "text/x-python",
   "name": "python",
   "nbconvert_exporter": "python",
   "pygments_lexer": "ipython3",
   "version": "3.6.5"
  }
 },
 "nbformat": 4,
 "nbformat_minor": 2
}
