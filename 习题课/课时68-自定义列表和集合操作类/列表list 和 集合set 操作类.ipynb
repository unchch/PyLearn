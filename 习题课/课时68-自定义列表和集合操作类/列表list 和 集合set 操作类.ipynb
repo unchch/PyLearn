{
 "cells": [
  {
   "cell_type": "markdown",
   "metadata": {},
   "source": [
    "### 定义一个列表的操作类 Listinfo\n",
    "- 包括的方法：\n",
    "```\n",
    "1.列表的元素添加：add_key()\n",
    "2.列表元素取值：get_key()\n",
    "3.列表合并：update_list(list)\n",
    "4.删除并且返回最后一个元素：del_key()\n",
    "```\n",
    "\n",
    "```\n",
    "扩展\n",
    "1.1 添加的必须是数字和字符串\n",
    "```"
   ]
  },
  {
   "cell_type": "code",
   "execution_count": 17,
   "metadata": {},
   "outputs": [
    {
     "name": "stdout",
     "output_type": "stream",
     "text": [
      "[1, 2, 3, 4, 5, 6]\n",
      "OK\n",
      "我要字符串或者数字\n",
      "索引超标，你想太多了\n",
      "[1, 2, 3, 4, 5, 6, 7, 8, 9]\n",
      "9\n"
     ]
    }
   ],
   "source": [
    "class ListInfo(object):\n",
    "    \n",
    "    def __init__(self, list_val):\n",
    "        self.list = list_val\n",
    "        \n",
    "    def add_key(self, key_name):\n",
    "        # 添加的 key 必须是字符串或者数字\n",
    "        if isinstance(key_name,(str,int)):\n",
    "            self.list.append(key_name)\n",
    "            print(self.list)\n",
    "            return \"OK\"\n",
    "        else:\n",
    "            return \"我要字符串或者数字\"\n",
    "    \n",
    "    def get_key(self, index):\n",
    "        # 判断传入的索引是否超标\n",
    "        if index >= 0 and index < len(self.list):\n",
    "            return self.list[index]\n",
    "        else:\n",
    "            return \"索引超标，你想太多了\"\n",
    "        \n",
    "    def update_list(self, new_list):\n",
    "        self.list.extend(new_list)\n",
    "        return self.list\n",
    "        \n",
    "    def del_key(self):\n",
    "        # 判断列表中是否还有元素\n",
    "        if len(self.list) >= 0:\n",
    "            return self.list.pop(-1)\n",
    "        else:\n",
    "            return \"列表为空\"\n",
    "        \n",
    "        \n",
    "l1 = ListInfo([1,2,3,4,5])\n",
    "print(l1.add_key(6))\n",
    "print(l1.add_key([1,2,5,7]))\n",
    "print(l1.get_key(9))\n",
    "\n",
    "print(l1.update_list([7,8,9]))\n",
    "print(l1.del_key())\n",
    "        \n"
   ]
  },
  {
   "cell_type": "markdown",
   "metadata": {},
   "source": [
    "### 定义一个集合的操作类\n",
    "- 包括的方法：\n",
    "```\n",
    "1.集合元素的添加：add_setinfo()\n",
    "2.集合的交集：get_intersection()\n",
    "3.集合的并集： get_union()\n",
    "4.集合的差集：del_difference()\n",
    "```"
   ]
  },
  {
   "cell_type": "code",
   "execution_count": 28,
   "metadata": {},
   "outputs": [
    {
     "name": "stdout",
     "output_type": "stream",
     "text": [
      "{1, 2, 3, 4, 5, 6}\n",
      "{4, 5}\n",
      "{1, 2, 3, 4, 5, 6, 8, 10}\n",
      "{1, 2, 3, 6}\n",
      "你传入的不是set\n"
     ]
    }
   ],
   "source": [
    "class SecInfo(object):\n",
    "    \n",
    "    def __init__(self, my_set):\n",
    "        self.sett = my_set\n",
    "        \n",
    "    def add_setinfo(self, keyname):\n",
    "        self.sett.add(keyname)\n",
    "        return self.sett\n",
    "    \n",
    "    def get_intersection(self, unioninfo):\n",
    "        if isinstance(unioninfo, set):\n",
    "            return self.sett & unioninfo\n",
    "        else:\n",
    "            return \"你传入的不是set\"\n",
    "\n",
    "    def get_union(self, unioninfo):\n",
    "        if isinstance(unioninfo, set):\n",
    "            return self.sett | unioninfo\n",
    "        else:\n",
    "            return \"你传入的不是set\"\n",
    "    \n",
    "    def del_difference(self, definfo):\n",
    "        if isinstance(definfo, set):\n",
    "            return self.sett - definfo\n",
    "        else:\n",
    "            return \"你传入的不是set\"\n",
    "    \n",
    "set1 = SecInfo({1,2,3,4,5})\n",
    "print(set1.add_setinfo(6))\n",
    "\n",
    "B = set([4,5,8,10])\n",
    "print(set1.get_intersection(B))\n",
    "\n",
    "print(set1.get_union(B))\n",
    "\n",
    "print(set1.del_difference(B))\n",
    "\n",
    "C = 123\n",
    "print(set1.get_union(C))\n",
    "    "
   ]
  },
  {
   "cell_type": "code",
   "execution_count": null,
   "metadata": {},
   "outputs": [],
   "source": []
  }
 ],
 "metadata": {
  "kernelspec": {
   "display_name": "Python 3",
   "language": "python",
   "name": "python3"
  },
  "language_info": {
   "codemirror_mode": {
    "name": "ipython",
    "version": 3
   },
   "file_extension": ".py",
   "mimetype": "text/x-python",
   "name": "python",
   "nbconvert_exporter": "python",
   "pygments_lexer": "ipython3",
   "version": "3.6.5"
  }
 },
 "nbformat": 4,
 "nbformat_minor": 2
}
