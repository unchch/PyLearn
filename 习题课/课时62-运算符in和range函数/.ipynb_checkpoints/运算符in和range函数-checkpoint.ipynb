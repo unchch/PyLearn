{
 "cells": [
  {
   "cell_type": "markdown",
   "metadata": {},
   "source": [
    "### 这行代码是什么意思\n",
    "```\n",
    "if not (money<100):\n",
    "    pass\n",
    "```\n",
    "#### 其实它等价于\n",
    "```\n",
    "if money >= 100:\n",
    "    pass\n",
    "```"
   ]
  },
  {
   "cell_type": "markdown",
   "metadata": {},
   "source": [
    "### 假设有x=1,y=2,z=3，如何将这3个变量的值快速互换？"
   ]
  },
  {
   "cell_type": "code",
   "execution_count": 4,
   "metadata": {},
   "outputs": [
    {
     "name": "stdout",
     "output_type": "stream",
     "text": [
      "3\n",
      "1\n",
      "2\n"
     ]
    }
   ],
   "source": [
    "x = 1\n",
    "y = 2\n",
    "z = 3\n",
    "\n",
    "# print(x)\n",
    "# print(y)\n",
    "# print(z)\n",
    "\n",
    "x,y,z = z,x,y\n",
    "print(x)\n",
    "print(y)\n",
    "print(z)"
   ]
  },
  {
   "cell_type": "markdown",
   "metadata": {},
   "source": [
    "### 成员资格运算符in的用法"
   ]
  },
  {
   "cell_type": "code",
   "execution_count": 8,
   "metadata": {},
   "outputs": [
    {
     "name": "stdout",
     "output_type": "stream",
     "text": [
      "True\n"
     ]
    }
   ],
   "source": [
    "ls = range(0,99)\n",
    "if not 100 in ls:\n",
    "    print(True)\n",
    "else:\n",
    "    print(False)\n",
    "    \n"
   ]
  },
  {
   "cell_type": "markdown",
   "metadata": {},
   "source": [
    "### range 函数"
   ]
  },
  {
   "cell_type": "code",
   "execution_count": 16,
   "metadata": {},
   "outputs": [
    {
     "name": "stdout",
     "output_type": "stream",
     "text": [
      "0 2 4 6 8 10 12 14 16 18 20 22 24 26 28 30 32 34 36 38 40 42 44 46 48 50 52 54 56 58 60 62 64 66 68 70 72 74 76 78 80 82 84 86 88 90 92 94 96 98 "
     ]
    }
   ],
   "source": [
    "ls = range(0,100,2)\n",
    "for i in ls:\n",
    "    print(i,end=\" \")"
   ]
  },
  {
   "cell_type": "markdown",
   "metadata": {},
   "source": [
    "### 这个循环会打印多少次tuling\n",
    "\n",
    "```\n",
    "for i in range(0,10,2):\n",
    "    print(\"tuling\")\n",
    "```"
   ]
  },
  {
   "cell_type": "code",
   "execution_count": 19,
   "metadata": {},
   "outputs": [
    {
     "name": "stdout",
     "output_type": "stream",
     "text": [
      "tuling\n",
      "tuling\n",
      "tuling\n",
      "tuling\n",
      "tuling\n"
     ]
    }
   ],
   "source": [
    "for i in range(0,10,2):\n",
    "    print(\"tuling\")"
   ]
  },
  {
   "cell_type": "markdown",
   "metadata": {},
   "source": [
    "### 目测一下这段代码会打印什么\n",
    "```\n",
    "while True:\n",
    "    while True:\n",
    "        break\n",
    "        print(1)\n",
    "    print(2)\n",
    "    break\n",
    "print(3)\n",
    "```"
   ]
  },
  {
   "cell_type": "code",
   "execution_count": 20,
   "metadata": {},
   "outputs": [
    {
     "name": "stdout",
     "output_type": "stream",
     "text": [
      "2\n",
      "3\n"
     ]
    }
   ],
   "source": [
    "while True:\n",
    "    while True:\n",
    "        break\n",
    "        print(1)\n",
    "    print(2)\n",
    "    break\n",
    "print(3)"
   ]
  },
  {
   "cell_type": "markdown",
   "metadata": {},
   "source": [
    "### 从代码效率方面考虑，以下代码有什么问题，如何改进？\n",
    "```\n",
    "i = 0\n",
    "string = \"ILoveTuling\"\n",
    "while i < len(string):\n",
    "    print(i)\n",
    "    i += 1\n",
    "```"
   ]
  },
  {
   "cell_type": "markdown",
   "metadata": {},
   "source": [
    "#### 这个代码每次循环都会计算一次len(string),这个运算只需做一次就够了"
   ]
  },
  {
   "cell_type": "code",
   "execution_count": 23,
   "metadata": {},
   "outputs": [
    {
     "name": "stdout",
     "output_type": "stream",
     "text": [
      "0 1 2 3 4 5 6 7 8 9 10 "
     ]
    }
   ],
   "source": [
    "i = 0\n",
    "string = \"ILoveTuling\"\n",
    "leng = len(string)\n",
    "while i < leng:\n",
    "    print(i,end=\" \")\n",
    "    i += 1"
   ]
  },
  {
   "cell_type": "markdown",
   "metadata": {},
   "source": [
    "### 设计一个验证密码的程序，用户只有3次机会输入错误，不过如果用户输入的内容包含“*”,则不计算在内"
   ]
  },
  {
   "cell_type": "code",
   "execution_count": 28,
   "metadata": {},
   "outputs": [
    {
     "name": "stdout",
     "output_type": "stream",
     "text": [
      "请输入密码: abc012\n",
      "密码正确\n"
     ]
    }
   ],
   "source": [
    "password = \"abc012\"\n",
    "times = 3\n",
    "\n",
    "while times:\n",
    "    input_password = input(\"请输入密码: \")\n",
    "    \n",
    "    if \"*\" in input_password:\n",
    "        print(\"密码中不能包含*号\")\n",
    "    else:\n",
    "        if input_password == password:\n",
    "            print(\"密码正确\")\n",
    "            break\n",
    "        else:\n",
    "            print(\"密码错误\")\n",
    "            times -= 1\n",
    "            "
   ]
  },
  {
   "cell_type": "code",
   "execution_count": 29,
   "metadata": {},
   "outputs": [
    {
     "name": "stdout",
     "output_type": "stream",
     "text": [
      "请输入用户密码：abc123\n",
      "密码错误\n",
      "请输入用户密码：ddd\n",
      "密码错误\n",
      "请输入用户密码：xxx\n",
      "密码错误\n"
     ]
    }
   ],
   "source": [
    "password = \"abc012\"\n",
    "times = 3\n",
    "\n",
    "while times:\n",
    "    input_password = input(\"请输入用户密码：\")\n",
    "    if '*' in input_password:\n",
    "        print(\"密码中不能包含*好\")\n",
    "    elif input_password == password:\n",
    "        print(\"密码正确\")\n",
    "        break\n",
    "    else:\n",
    "        print(\"密码错误\")\n",
    "        times -= 1"
   ]
  }
 ],
 "metadata": {
  "kernelspec": {
   "display_name": "Python 3",
   "language": "python",
   "name": "python3"
  },
  "language_info": {
   "codemirror_mode": {
    "name": "ipython",
    "version": 3
   },
   "file_extension": ".py",
   "mimetype": "text/x-python",
   "name": "python",
   "nbconvert_exporter": "python",
   "pygments_lexer": "ipython3",
   "version": "3.6.7"
  }
 },
 "nbformat": 4,
 "nbformat_minor": 2
}
