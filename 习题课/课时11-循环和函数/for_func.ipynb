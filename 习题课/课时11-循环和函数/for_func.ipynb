{
 "cells": [
  {
   "cell_type": "code",
   "execution_count": 17,
   "metadata": {},
   "outputs": [
    {
     "name": "stdout",
     "output_type": "stream",
     "text": [
      "* * * * * \n",
      "* * * * * \n",
      "* * * * * \n",
      "* * * * * \n",
      "====================\n",
      "* * * * * \n",
      "*       * \n",
      "*       * \n",
      "* * * * * \n"
     ]
    }
   ],
   "source": [
    "# 打印一个矩形\n",
    "for i in range(1,5): # 控制行\n",
    "    for j in range(1,6): # 控制列\n",
    "        print('*', end = \" \")\n",
    "    # 当行1循环时，列循环了5次，就打印一个换行\n",
    "    # print() 函数默认自带一个换行符    \n",
    "    print()\n",
    "    \n",
    "print(\"=\" * 20)\n",
    "\n",
    "# 打印空心矩形\n",
    "for i in range(1,5): # 控制行\n",
    "    for j in range(1,6): # 控制列\n",
    "        if i == 1 or i == 4 or j == 1 or j == 5:\n",
    "            print('*', end = \" \")\n",
    "        else:\n",
    "            print(\" \",end = \" \")\n",
    "    print()\n"
   ]
  },
  {
   "cell_type": "code",
   "execution_count": 41,
   "metadata": {},
   "outputs": [
    {
     "name": "stdout",
     "output_type": "stream",
     "text": [
      "* \n",
      "* * \n",
      "* * * \n",
      "* * * * \n",
      "* * * * * \n",
      "====================\n",
      "* \n",
      "* * \n",
      "*   * \n",
      "*     * \n",
      "* * * * * \n",
      "====================\n",
      "* * * * * \n",
      "* * * * \n",
      "* * * \n",
      "* * \n",
      "* \n",
      "====================\n",
      "* * * * * \n",
      "*     * \n",
      "*   * \n",
      "* * \n",
      "* \n"
     ]
    }
   ],
   "source": [
    "# 打印直角三角形，直角靠左\n",
    "for i in range(1,6): # 控制行\n",
    "    for j in range(5-i,5): # 控制列\n",
    "        # i = 1时，j为4，5, 即列只能打印1次，即第1列\n",
    "        # i = 2时，j为3，5, 即列循环2次，打印第1列和第2列\n",
    "        # i = 3时，j为2，5，即列循环3次，打印第1/2/3列\n",
    "        # 以此类推\n",
    "        print(\"*\", end = \" \")\n",
    "    print()\n",
    "    \n",
    "print(\"=\" * 20)\n",
    "\n",
    "# 打印空心三角形\n",
    "for i in range(1,6): # 控制行\n",
    "    for j in range(6-i,6): # 控制列\n",
    "        # if i == 1 or i == 5 or j == 6-i or j == 5:\n",
    "        if i == 1 or i == 5 or j == 6-i or j == 5:\n",
    "            print(\"*\",end = \" \")\n",
    "        else:\n",
    "            print(\" \",end = \" \")\n",
    "    print()\n",
    "    \n",
    "print(\"=\" * 20)  \n",
    "    \n",
    "# 打印倒实心直角三角形那个\n",
    "for i in range(1,6): # 控制行\n",
    "    # 第一行5列，第二行4列...\n",
    "    # i=1 j的范围是6\n",
    "    # i=2 j的范围是5\n",
    "    # i=3 j的范围是4\n",
    "    # 类推，即j = 7-i\n",
    "    for j in range(1,7-i): # 控制列       \n",
    "        print(\"*\", end = \" \")\n",
    "    print()\n",
    "    \n",
    "print(\"=\" * 20)\n",
    "\n",
    "# 打印倒空心心直角三角形那个\n",
    "for i in range(1,6): # 控制行\n",
    "    # 第一行5列，第二行4列...\n",
    "    # i=1 j的范围是6\n",
    "    # i=2 j的范围是5\n",
    "    # i=3 j的范围是4\n",
    "    # 类推，即j = 7-i\n",
    "    for j in range(1,7-i): # 控制列\n",
    "        if i == 1 or i == 5 or j == 1 or j == 7-i-1:\n",
    "            print(\"*\", end = \" \")\n",
    "        else:\n",
    "            print(\" \",end=\" \")\n",
    "    print()\n",
    "\n",
    "\n",
    "\n"
   ]
  }
 ],
 "metadata": {
  "kernelspec": {
   "display_name": "Python 3",
   "language": "python",
   "name": "python3"
  },
  "language_info": {
   "codemirror_mode": {
    "name": "ipython",
    "version": 3
   },
   "file_extension": ".py",
   "mimetype": "text/x-python",
   "name": "python",
   "nbconvert_exporter": "python",
   "pygments_lexer": "ipython3",
   "version": "3.6.6"
  }
 },
 "nbformat": 4,
 "nbformat_minor": 2
}
