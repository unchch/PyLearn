{
 "cells": [
  {
   "cell_type": "markdown",
   "metadata": {},
   "source": [
    "#### 权重排序"
   ]
  },
  {
   "cell_type": "code",
   "execution_count": 2,
   "metadata": {},
   "outputs": [],
   "source": [
    "# goods = [{\"name\":\"good1\", \"price\":200, \"sales\":100, \"starts\":5,\"comments\":30}, {\"name\":\"good2\", \"price\":300, \"sales\":120, \"starts\":4,\"comments\":130}, {\"name\":\"good3\", \"price\":100, \"sales\":120, \"starts\":3, \"comments\":5}, {\"name\":\"good4\", \"price\":330, \"sales\":1000, \"starts\":4,\"comments\":320}, {\"name1\":\"good5\", \"price\":280, \"sales\":1009, \"starts\":5,\"comments\":930}]\n",
    "\n",
    "# 设权重为100\n",
    "# 价格占比40%\n",
    "# 销量占比17%\n",
    "# 评级占比13%\n",
    "# 评论占比30%"
   ]
  },
  {
   "cell_type": "code",
   "execution_count": 12,
   "metadata": {},
   "outputs": [
    {
     "data": {
      "text/plain": [
       "[{'name': 'good3', 'price': 100, 'sales': 120, 'starts': 3, 'comments': 5},\n",
       " {'name': 'good1', 'price': 200, 'sales': 100, 'starts': 5, 'comments': 30},\n",
       " {'name': 'good2', 'price': 300, 'sales': 120, 'starts': 4, 'comments': 130},\n",
       " {'name': 'good4', 'price': 330, 'sales': 1000, 'starts': 4, 'comments': 320},\n",
       " {'name1': 'good5', 'price': 280, 'sales': 1009, 'starts': 5, 'comments': 930}]"
      ]
     },
     "execution_count": 12,
     "metadata": {},
     "output_type": "execute_result"
    }
   ],
   "source": [
    "goods_list = [{\"name\":\"good1\", \"price\":200, \"sales\":100, \"starts\":5,\"comments\":30}, {\"name\":\"good2\", \"price\":300, \"sales\":120, \"starts\":4,\"comments\":130}, {\"name\":\"good3\", \"price\":100, \"sales\":120, \"starts\":3, \"comments\":5}, {\"name\":\"good4\", \"price\":330, \"sales\":1000, \"starts\":4,\"comments\":320}, {\"name1\":\"good5\", \"price\":280, \"sales\":1009, \"starts\":5,\"comments\":930}]\n",
    "\n",
    "# print(goods_list)\n",
    "\n",
    "# sorted() 排序\n",
    "\n",
    "def my_sorted(arg):\n",
    "    price = arg[\"price\"]\n",
    "    sales = arg[\"sales\"]\n",
    "    starts = arg[\"starts\"]\n",
    "    comments = arg[\"comments\"]\n",
    "\n",
    "    data = price * 0.4 + sales * 0.17 + starts * 0.13 + comments * 0.3\n",
    "    \n",
    "    return data\n",
    "\n",
    "sorted(goods_list, key=my_sorted)\n"
   ]
  },
  {
   "cell_type": "code",
   "execution_count": null,
   "metadata": {},
   "outputs": [],
   "source": []
  },
  {
   "cell_type": "code",
   "execution_count": 15,
   "metadata": {},
   "outputs": [
    {
     "name": "stdout",
     "output_type": "stream",
     "text": [
      "[{'name1': 'good5', 'price': 280, 'sales': 1009, 'starts': 5, 'comments': 930}, {'name': 'good4', 'price': 330, 'sales': 1000, 'starts': 4, 'comments': 320}, {'name': 'good2', 'price': 300, 'sales': 120, 'starts': 4, 'comments': 130}, {'name': 'good1', 'price': 200, 'sales': 100, 'starts': 5, 'comments': 30}, {'name': 'good3', 'price': 100, 'sales': 120, 'starts': 3, 'comments': 5}]\n"
     ]
    }
   ],
   "source": [
    "goods_list = [{\"name\":\"good1\", \"price\":200, \"sales\":100, \"starts\":5,\"comments\":30}, {\"name\":\"good2\", \"price\":300, \"sales\":120, \"starts\":4,\"comments\":130}, {\"name\":\"good3\", \"price\":100, \"sales\":120, \"starts\":3, \"comments\":5}, {\"name\":\"good4\", \"price\":330, \"sales\":1000, \"starts\":4,\"comments\":320}, {\"name1\":\"good5\", \"price\":280, \"sales\":1009, \"starts\":5,\"comments\":930}]\n",
    "\n",
    "r = sorted(goods_list, key = lambda x: x[\"price\"] * 0.4 + x[\"sales\"] * 0.17 + x[\"starts\"] * 0.13 + x[\"comments\"] * 0.3, reverse = True)\n",
    "print(r)"
   ]
  }
 ],
 "metadata": {
  "kernelspec": {
   "display_name": "Python 3",
   "language": "python",
   "name": "python3"
  },
  "language_info": {
   "codemirror_mode": {
    "name": "ipython",
    "version": 3
   },
   "file_extension": ".py",
   "mimetype": "text/x-python",
   "name": "python",
   "nbconvert_exporter": "python",
   "pygments_lexer": "ipython3",
   "version": "3.6.5"
  }
 },
 "nbformat": 4,
 "nbformat_minor": 2
}
