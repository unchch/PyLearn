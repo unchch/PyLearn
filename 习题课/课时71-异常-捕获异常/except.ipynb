{
 "cells": [
  {
   "cell_type": "markdown",
   "metadata": {},
   "source": [
    "#### 编写一个计算减法的方法:\n",
    "- 当第一个数小于第二个数时，抛出“被减数不能小于减数”的异常"
   ]
  },
  {
   "cell_type": "code",
   "execution_count": 9,
   "metadata": {},
   "outputs": [
    {
     "name": "stdout",
     "output_type": "stream",
     "text": [
      "好像出错了，出错的内容是被减数不能小于减数\n"
     ]
    }
   ],
   "source": [
    "def jianfa(a,b):\n",
    "    if a < b:\n",
    "        raise BaseException(\"被减数不能小于减数\")\n",
    "    else:\n",
    "        return a-b\n",
    "    \n",
    "try:\n",
    "    jianfa(3,7)\n",
    "except BaseException as error:\n",
    "    print(\"好像出错了，出错的内容是{}\".format(error))"
   ]
  },
  {
   "cell_type": "code",
   "execution_count": null,
   "metadata": {},
   "outputs": [],
   "source": []
  },
  {
   "cell_type": "markdown",
   "metadata": {},
   "source": [
    "#### 定义一个函数 func(filename)\n",
    "- filename:文件的路径 \n",
    "- 函数功能：打开文件，并且返回文件内容，最后关闭，用异常来处理可能发生的错误\n"
   ]
  },
  {
   "cell_type": "code",
   "execution_count": 26,
   "metadata": {},
   "outputs": [
    {
     "name": "stdout",
     "output_type": "stream",
     "text": [
      "出错了，出错的内容是[Errno 2] No such file or directory: 'hahaha1.txt'\n"
     ]
    }
   ],
   "source": [
    "import os\n",
    "\n",
    "def func(filename):\n",
    "    try:\n",
    "        file = open(filename)\n",
    "    except Exception as error:\n",
    "        print(\"出错了，出错的内容是{}\".format(error))\n",
    "    else:\n",
    "        print(file.read())\n",
    "        file.close()\n",
    "        \n",
    "func(\"hahaha1.txt\")"
   ]
  },
  {
   "cell_type": "code",
   "execution_count": null,
   "metadata": {},
   "outputs": [],
   "source": []
  },
  {
   "cell_type": "markdown",
   "metadata": {},
   "source": [
    "#### 自定义一个异常类，继承Exception类，捕获下面的过程：\n",
    "- 判断输入的字符的长度是否小于5"
   ]
  },
  {
   "cell_type": "code",
   "execution_count": 27,
   "metadata": {},
   "outputs": [
    {
     "name": "stdout",
     "output_type": "stream",
     "text": [
      "字符串的长度必须大于5\n"
     ]
    }
   ],
   "source": [
    "class MyError(Exception):\n",
    "    def __init__(self,stri):\n",
    "        self.stri = stri\n",
    "        \n",
    "    def process(self):\n",
    "        if len(self.stri) < 5:\n",
    "            print(\"字符串的长度必须大于5\")\n",
    "        else:\n",
    "            print(\"算你聪明\")\n",
    "            \n",
    "try:\n",
    "    er = MyError(\"sss\")\n",
    "    er.process()\n",
    "except MyError as err:\n",
    "    print(err)"
   ]
  },
  {
   "cell_type": "code",
   "execution_count": null,
   "metadata": {},
   "outputs": [],
   "source": []
  }
 ],
 "metadata": {
  "kernelspec": {
   "display_name": "Python 3",
   "language": "python",
   "name": "python3"
  },
  "language_info": {
   "codemirror_mode": {
    "name": "ipython",
    "version": 3
   },
   "file_extension": ".py",
   "mimetype": "text/x-python",
   "name": "python",
   "nbconvert_exporter": "python",
   "pygments_lexer": "ipython3",
   "version": "3.6.7"
  }
 },
 "nbformat": 4,
 "nbformat_minor": 2
}
