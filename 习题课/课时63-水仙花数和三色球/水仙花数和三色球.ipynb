{
 "cells": [
  {
   "cell_type": "markdown",
   "metadata": {},
   "source": [
    "### 编写一个程序，求100-999之间所有的水仙花数\n",
    "\n",
    "- 如果一个3位数等于其各位数的立方和，则称这个数为水仙花数\n",
    "  - 例如：153 = 1^3 + 5^3 +3^3 ,因此153就是一个水仙花数"
   ]
  },
  {
   "cell_type": "code",
   "execution_count": 5,
   "metadata": {},
   "outputs": [
    {
     "name": "stdout",
     "output_type": "stream",
     "text": [
      "153\n",
      "370\n",
      "371\n",
      "407\n"
     ]
    }
   ],
   "source": [
    "for i in range(100,999):\n",
    "    temp = list(str(i))\n",
    "    a = int(temp[0])\n",
    "    b = int(temp[1])\n",
    "    c = int(temp[2])\n",
    "   \n",
    "    if a**3 + b**3 + c**3 == i:\n",
    "        print(i)"
   ]
  },
  {
   "cell_type": "markdown",
   "metadata": {},
   "source": [
    "### 三色球问题\n",
    "- 有红黄蓝，三种颜色的球，其中红球3个，黄球3个，绿球6个，现将这12个球混合放在一个盒子中，从中任意摸出8个球，编程计算摸出球的各种颜色的颜色搭配"
   ]
  },
  {
   "cell_type": "code",
   "execution_count": 10,
   "metadata": {},
   "outputs": [
    {
     "name": "stdout",
     "output_type": "stream",
     "text": [
      "red:0\n",
      "yellow:2\n",
      "green:6\n",
      "====================\n",
      "red:0\n",
      "yellow:3\n",
      "green:5\n",
      "====================\n",
      "red:1\n",
      "yellow:1\n",
      "green:6\n",
      "====================\n",
      "red:1\n",
      "yellow:2\n",
      "green:5\n",
      "====================\n",
      "red:1\n",
      "yellow:3\n",
      "green:4\n",
      "====================\n",
      "red:2\n",
      "yellow:0\n",
      "green:6\n",
      "====================\n",
      "red:2\n",
      "yellow:1\n",
      "green:5\n",
      "====================\n",
      "red:2\n",
      "yellow:2\n",
      "green:4\n",
      "====================\n",
      "red:2\n",
      "yellow:3\n",
      "green:3\n",
      "====================\n",
      "red:3\n",
      "yellow:0\n",
      "green:5\n",
      "====================\n",
      "red:3\n",
      "yellow:1\n",
      "green:4\n",
      "====================\n",
      "red:3\n",
      "yellow:2\n",
      "green:3\n",
      "====================\n",
      "red:3\n",
      "yellow:3\n",
      "green:2\n",
      "====================\n"
     ]
    }
   ],
   "source": [
    "for red in range(0,4):\n",
    "    for yellow in range(0,4):\n",
    "        for green in range(2,7):\n",
    "            if red + yellow + green == 8:\n",
    "                print(\"red:{}\".format(red))\n",
    "                print(\"yellow:{}\".format(yellow))\n",
    "                print(\"green:{}\".format(green))\n",
    "                print(\"=\" * 20)\n",
    "                "
   ]
  },
  {
   "cell_type": "code",
   "execution_count": null,
   "metadata": {},
   "outputs": [],
   "source": []
  },
  {
   "cell_type": "code",
   "execution_count": null,
   "metadata": {},
   "outputs": [],
   "source": []
  }
 ],
 "metadata": {
  "kernelspec": {
   "display_name": "Python 3",
   "language": "python",
   "name": "python3"
  },
  "language_info": {
   "codemirror_mode": {
    "name": "ipython",
    "version": 3
   },
   "file_extension": ".py",
   "mimetype": "text/x-python",
   "name": "python",
   "nbconvert_exporter": "python",
   "pygments_lexer": "ipython3",
   "version": "3.6.7"
  }
 },
 "nbformat": 4,
 "nbformat_minor": 2
}
