{
 "cells": [
  {
   "cell_type": "markdown",
   "metadata": {},
   "source": [
    "# 数据类型的内置函数\n",
    "- Python有那些数据类型\n",
    "  - Number 数值型（int float bool complex(复数)）\n",
    "  - string 字符\n",
    "  - list   列表\n",
    "  - tuple  元组\n",
    "  - dict   字典\n",
    "  - set    集合"
   ]
  },
  {
   "cell_type": "markdown",
   "metadata": {},
   "source": [
    "## 字符串的简单操作\n",
    "- +字符串的连接操作\n",
    "- *字符串的赋值操作\n",
    "- \\[ \\] 字符串的索引操作-\n",
    "- \\[: :\\] 字符串的切片操作\n",
    "  - \\[开始索引：结束索引：间隔值\\] 左包含右不包含"
   ]
  },
  {
   "cell_type": "code",
   "execution_count": 13,
   "metadata": {},
   "outputs": [
    {
     "name": "stdout",
     "output_type": "stream",
     "text": [
      "love\n",
      "love\n",
      "####################\n",
      "g\n",
      "like\n",
      "234\n",
      "0123456789\n",
      "147\n",
      "3456789\n",
      "012345\n"
     ]
    }
   ],
   "source": [
    "str1 = 'lo'\n",
    "str2 = 've'\n",
    "print(str1+str2)\n",
    "print('lo'+'ve')\n",
    "\n",
    "print('#' * 20)\n",
    "\n",
    "s = 'I like dog'\n",
    "print(s[-1])\n",
    "print(s[2:6])\n",
    "s = '0123456789'\n",
    "\n",
    "# 指定范围\n",
    "print(s[2:5])\n",
    "\n",
    "# 切整个字符串\n",
    "print(s[:])\n",
    "\n",
    "# 指定范围并加上间隔\n",
    "print(s[1:9:3])\n",
    "\n",
    "# 指定开始不指定结束\n",
    "print(s[3:])\n",
    "\n",
    "# 指定结束，不指定开始\n",
    "print(s[:6])"
   ]
  },
  {
   "cell_type": "code",
   "execution_count": 17,
   "metadata": {},
   "outputs": [
    {
     "name": "stdout",
     "output_type": "stream",
     "text": [
      "I like dog\n"
     ]
    }
   ],
   "source": [
    "# capitalize() 首字母大写，返回字符串\n",
    "\n",
    "s = 'i like dog'\n",
    "s1 = s.capitalize()\n",
    "\n",
    "print(s1)"
   ]
  },
  {
   "cell_type": "code",
   "execution_count": 18,
   "metadata": {},
   "outputs": [
    {
     "name": "stdout",
     "output_type": "stream",
     "text": [
      "I Like Dog\n"
     ]
    }
   ],
   "source": [
    "# title 每个字母大写\n",
    "s = 'i like dog'\n",
    "s1 = s.title()\n",
    "\n",
    "print(s1)\n"
   ]
  },
  {
   "cell_type": "code",
   "execution_count": null,
   "metadata": {},
   "outputs": [],
   "source": []
  }
 ],
 "metadata": {
  "kernelspec": {
   "display_name": "Python 3",
   "language": "python",
   "name": "python3"
  },
  "language_info": {
   "codemirror_mode": {
    "name": "ipython",
    "version": 3
   },
   "file_extension": ".py",
   "mimetype": "text/x-python",
   "name": "python",
   "nbconvert_exporter": "python",
   "pygments_lexer": "ipython3",
   "version": "3.6.7"
  }
 },
 "nbformat": 4,
 "nbformat_minor": 2
}
