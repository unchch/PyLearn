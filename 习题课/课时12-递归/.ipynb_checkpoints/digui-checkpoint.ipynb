{
 "cells": [
  {
   "cell_type": "code",
   "execution_count": 3,
   "metadata": {},
   "outputs": [
    {
     "name": "stdout",
     "output_type": "stream",
     "text": [
      "$3\n",
      "$2\n",
      "$1\n",
      "$0\n",
      "********************\n",
      "0\n",
      "1\n",
      "2\n",
      "3\n"
     ]
    }
   ],
   "source": [
    "# 类似栈的先进后出模式\n",
    "# 1.要有递推关系\n",
    "# 2.要有临界值\n",
    "def digui(num):\n",
    "    print(\"$\" + str(num))\n",
    "    # 临界值\n",
    "    if num > 0:\n",
    "        # 这里是调用函数本身\n",
    "        digui(num-1)\n",
    "    else:\n",
    "        print(\"*\" * 20)\n",
    "        \n",
    "    print(num)\n",
    "    \n",
    "digui(3)"
   ]
  },
  {
   "cell_type": "code",
   "execution_count": 13,
   "metadata": {
    "scrolled": false
   },
   "outputs": [
    {
     "name": "stdout",
     "output_type": "stream",
     "text": [
      "0\n",
      "0\n",
      "移动第 1 次 A --> C\n",
      "移动第 2 次 A --> B\n",
      "移动第 3 次 C --> B\n",
      "移动第 4 次 A --> C\n",
      "0\n",
      "移动第 5 次 B --> A\n",
      "移动第 6 次 B --> C\n",
      "移动第 7 次 A --> C\n"
     ]
    }
   ],
   "source": [
    "# 汉诺塔\n",
    "# 1个 1步\n",
    "# 2个 3步\n",
    "# 3个 7步\n",
    "# 4个 15步\n",
    "# 即 2^n - 1步\n",
    "\n",
    "i = 0\n",
    "# 定义一个函数，给4个参数，n是圆盘的个数，abc分别代表ABC柱子\n",
    "# 此处，abc为形参，没有具体的值\n",
    "def move(n,a,b,c):    \n",
    "    global i # 全局化i,不然只能访问，不能操作例如算数远算\n",
    "    if n == 1:\n",
    "        i += 1\n",
    "        print(\"移动第\",i,\"次\",a,\"-->\",c)\n",
    "    else:\n",
    "        print(0)\n",
    "        move(n-1,a,c,b)       \n",
    "        move(1,a,b,c)        \n",
    "        move(n-1,b,a,c)\n",
    "       \n",
    "move(3,\"A\",\"B\",\"C\")"
   ]
  },
  {
   "cell_type": "code",
   "execution_count": null,
   "metadata": {},
   "outputs": [],
   "source": []
  }
 ],
 "metadata": {
  "kernelspec": {
   "display_name": "Python 3",
   "language": "python",
   "name": "python3"
  },
  "language_info": {
   "codemirror_mode": {
    "name": "ipython",
    "version": 3
   },
   "file_extension": ".py",
   "mimetype": "text/x-python",
   "name": "python",
   "nbconvert_exporter": "python",
   "pygments_lexer": "ipython3",
   "version": "3.6.6"
  }
 },
 "nbformat": 4,
 "nbformat_minor": 2
}
