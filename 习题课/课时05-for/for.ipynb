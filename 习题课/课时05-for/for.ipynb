{
 "cells": [
  {
   "cell_type": "code",
   "execution_count": 2,
   "metadata": {},
   "outputs": [
    {
     "name": "stdout",
     "output_type": "stream",
     "text": [
      "*\n",
      "* *\n",
      "* * *\n",
      "* * * *\n",
      "* * * * *\n"
     ]
    }
   ],
   "source": [
    "# 打印三角形\n",
    "'''\n",
    "*\n",
    "* *\n",
    "* * *\n",
    "* * * *\n",
    "* * * * *\n",
    "'''\n",
    "\n",
    "print(\"*\")\n",
    "print(\"* *\")\n",
    "print(\"* * *\")\n",
    "print(\"* * * *\")\n",
    "print(\"* * * * *\")"
   ]
  },
  {
   "cell_type": "code",
   "execution_count": 7,
   "metadata": {},
   "outputs": [
    {
     "name": "stdout",
     "output_type": "stream",
     "text": [
      "* \n",
      "* * \n",
      "* * * \n",
      "* * * * \n",
      "* * * * * \n"
     ]
    }
   ],
   "source": [
    "# for 循环来实现\n",
    "\n",
    "for i in range(5):\n",
    "    # 打印一行\n",
    "    # 每一行打印星号的个数，与行号相关\n",
    "    for j in range(i+1):\n",
    "        print(\"* \", end=\"\")\n",
    "    print()\n"
   ]
  },
  {
   "cell_type": "code",
   "execution_count": 10,
   "metadata": {},
   "outputs": [
    {
     "name": "stdout",
     "output_type": "stream",
     "text": [
      "*\n",
      "* *\n",
      "*   *\n",
      "*     *\n",
      "* * * * *\n"
     ]
    }
   ],
   "source": [
    "'''\n",
    "打印空心三角形\n",
    "*\n",
    "* *\n",
    "*   *\n",
    "*     *\n",
    "* * * * *\n",
    "'''\n",
    "#第一个方法，直接打印print\n",
    "print(\"*\")\n",
    "print(\"* *\")\n",
    "print(\"*   *\")\n",
    "print(\"*     *\")\n",
    "print(\"* * * * *\")"
   ]
  },
  {
   "cell_type": "code",
   "execution_count": 13,
   "metadata": {},
   "outputs": [
    {
     "name": "stdout",
     "output_type": "stream",
     "text": [
      "* \n",
      "* * \n",
      "*   * \n",
      "*     * \n",
      "* * * * * \n"
     ]
    }
   ],
   "source": [
    "# for 循环\n",
    "\n",
    "for i in range(5):\n",
    "    # 打印一行\n",
    "    # 每一行打印星号的个数与行号相关\n",
    "    # 需要判断打印的是否是最后一行，如果是，打印完整的一行\n",
    "    # 否则，判断是否是打印第一个和最后一个位置，如果是，就打印星号，否则打印空格\n",
    "    for j in range(i+1):\n",
    "        if i == 4:\n",
    "            print(\"* \", end=\"\")\n",
    "            continue\n",
    "            \n",
    "        # 如果不是最后一行，\n",
    "        # j 控制的列\n",
    "        if j == 0 or j == i:\n",
    "            print(\"* \", end=\"\")\n",
    "        else:\n",
    "            print(\"  \", end=\"\")\n",
    "    print()"
   ]
  },
  {
   "cell_type": "code",
   "execution_count": 18,
   "metadata": {},
   "outputs": [
    {
     "name": "stdout",
     "output_type": "stream",
     "text": [
      "* * * * * \n",
      "* * * * \n",
      "* * * \n",
      "* * \n",
      "* \n"
     ]
    }
   ],
   "source": [
    "# 打印倒立三角\n",
    "'''\n",
    "* * * * *\n",
    "* * * *\n",
    "* * * \n",
    "* * \n",
    "* \n",
    "'''\n",
    "\n",
    "# i 控制行号，j 控制列\n",
    "\n",
    "for i in range(5):\n",
    "    for j in range(5-i):\n",
    "        print(\"* \", end=\"\")\n",
    "    print()"
   ]
  },
  {
   "cell_type": "code",
   "execution_count": 19,
   "metadata": {},
   "outputs": [
    {
     "name": "stdout",
     "output_type": "stream",
     "text": [
      "* * * * * \n",
      "* * * * \n",
      "* * * \n",
      "* * \n",
      "* \n"
     ]
    }
   ],
   "source": [
    "# i 控制行号，j 控制列\n",
    "# 使用参数控制ranged的排序从大往小\n",
    "\n",
    "for i in range(5,0,-1):\n",
    "    for j in range(i,0,-1):\n",
    "        print(\"* \", end=\"\")\n",
    "    print()"
   ]
  },
  {
   "cell_type": "code",
   "execution_count": 25,
   "metadata": {},
   "outputs": [
    {
     "name": "stdout",
     "output_type": "stream",
     "text": [
      "* * * * * \n",
      "*     * \n",
      "*   * \n",
      "* * \n",
      "* \n"
     ]
    }
   ],
   "source": [
    "# 打印空的倒立三角\n",
    "'''\n",
    "* * * * *\n",
    "*     *\n",
    "*   * \n",
    "* * \n",
    "* \n",
    "'''\n",
    "\n",
    "# i 控制行号，j 控制列\n",
    "for i in range(5):\n",
    "    for j in range(5-i):\n",
    "        if i == 0:\n",
    "            print(\"* \", end=\"\")\n",
    "            continue\n",
    "        if j == 0 or j ==5- i-1:\n",
    "            print(\"* \",end=\"\")\n",
    "        else:\n",
    "            print(\"  \", end=\"\")\n",
    "    print()"
   ]
  },
  {
   "cell_type": "code",
   "execution_count": 38,
   "metadata": {},
   "outputs": [
    {
     "name": "stdout",
     "output_type": "stream",
     "text": [
      "      * \n",
      "     * * \n",
      "    * * * \n",
      "   * * * * \n",
      "  * * * * * \n",
      " * * * * * * \n"
     ]
    }
   ],
   "source": [
    "# 打印一个正三角形\n",
    "'''\n",
    "     *\n",
    "    * *\n",
    "   * * *\n",
    "  * * * *\n",
    " * * * * * \n",
    "* * * * * *\n",
    "'''\n",
    "\n",
    "# i  控制行\n",
    "# j  控制列\n",
    "\n",
    "for i in range(6):\n",
    "    # 总体思路是，先打印一行前的空格\n",
    "    # 再不换行，打印这一行中的星号\n",
    "    \n",
    "    for j in range(6-i):\n",
    "        print(\" \",end=\"\")\n",
    "        \n",
    "    for m in range(i+1):\n",
    "        print(\"* \",end=\"\")\n",
    "        \n",
    "    # 打印一行完成后换行\n",
    "    print()"
   ]
  }
 ],
 "metadata": {
  "kernelspec": {
   "display_name": "Python 3",
   "language": "python",
   "name": "python3"
  },
  "language_info": {
   "codemirror_mode": {
    "name": "ipython",
    "version": 3
   },
   "file_extension": ".py",
   "mimetype": "text/x-python",
   "name": "python",
   "nbconvert_exporter": "python",
   "pygments_lexer": "ipython3",
   "version": "3.6.5"
  }
 },
 "nbformat": 4,
 "nbformat_minor": 2
}
