{
 "cells": [
  {
   "cell_type": "markdown",
   "metadata": {},
   "source": [
    "#### logging\n",
    "- logging.debug\n",
    "- logging.info\n",
    "- logging.warning\n",
    "- logging.error\n",
    "- logging.critical"
   ]
  },
  {
   "cell_type": "code",
   "execution_count": 1,
   "metadata": {},
   "outputs": [],
   "source": [
    "import logging\n",
    "\n",
    "LOG_FORMAT = \"%(asctime)s - %(levelname)s - %(message)s\"\n",
    "\n",
    "\n",
    "# 如果不自定义日志级别，默认为 warning\n",
    "# 则下面的 debug 和 info 不会显示\n",
    "# 并且该配置仅在第一次调用时生效，之后的调用不会生效，所以请注意重启编译器环境\n",
    "logging.basicConfig(level=logging.DEBUG, format=LOG_FORMAT, filename=\"my.log\")\n",
    "\n",
    "logging.debug(\"this is debug\")\n",
    "logging.info(\"this is info\")\n",
    "logging.warning(\"this is warning\")\n",
    "logging.error(\"this is error\")\n",
    "logging.critical(\"this is critical\")\n",
    "\n"
   ]
  },
  {
   "cell_type": "code",
   "execution_count": null,
   "metadata": {},
   "outputs": [],
   "source": []
  },
  {
   "cell_type": "markdown",
   "metadata": {},
   "source": [
    "#### 装饰器\n",
    "- 使用装饰器，打印函数执行的时间"
   ]
  },
  {
   "cell_type": "code",
   "execution_count": 2,
   "metadata": {},
   "outputs": [
    {
     "name": "stderr",
     "output_type": "stream",
     "text": [
      "2019-01-19 11:14:18,731 - ERROR - this is error message\n"
     ]
    },
    {
     "name": "stdout",
     "output_type": "stream",
     "text": [
      "test done\n"
     ]
    }
   ],
   "source": [
    "import logging\n",
    "\n",
    "LOG_FORMAT = \"%(asctime)s - %(levelname)s - %(message)s\"\n",
    "logging.basicConfig(format = LOG_FORMAT)\n",
    "\n",
    "def log(func):\n",
    "    def wrapper(*arg, **kw):\n",
    "        logging.error(\"this is error message\")\n",
    "        return func(*arg, **kw)\n",
    "    return wrapper\n",
    "\n",
    "@log\n",
    "def test():\n",
    "    print(\"test done\")\n",
    "    \n",
    "def main():\n",
    "    print(\"main done\")\n",
    "    \n",
    "test()"
   ]
  },
  {
   "cell_type": "code",
   "execution_count": null,
   "metadata": {},
   "outputs": [],
   "source": []
  },
  {
   "cell_type": "markdown",
   "metadata": {},
   "source": [
    "#### 使用装饰器，根据不同的函数，传入的日志不相同"
   ]
  },
  {
   "cell_type": "code",
   "execution_count": 1,
   "metadata": {},
   "outputs": [
    {
     "name": "stderr",
     "output_type": "stream",
     "text": [
      "2019-01-19 11:21:49,109 - ERROR - test done\n",
      "2019-01-19 11:21:49,111 - ERROR - main done\n"
     ]
    },
    {
     "name": "stdout",
     "output_type": "stream",
     "text": [
      "test done\n",
      "main done\n"
     ]
    }
   ],
   "source": [
    "import logging\n",
    "\n",
    "LOG_FORMAT = \"%(asctime)s - %(levelname)s - %(message)s\"\n",
    "logging.basicConfig(format = LOG_FORMAT)\n",
    "\n",
    "# def log(func):\n",
    "#     def wrapper(*arg, **kw):\n",
    "#         logging.error(\"this is error message\")\n",
    "#         return func(*arg, **kw)\n",
    "#     return wrapper\n",
    "\n",
    "\n",
    "def log(text):\n",
    "    def decorator(func):\n",
    "        def wrapper(*arg, **kw):\n",
    "            logging.error(text)\n",
    "            return func(*arg, **kw)\n",
    "        return wrapper\n",
    "    return decorator\n",
    "\n",
    "@log(\"test done\")\n",
    "def test():\n",
    "    print(\"test done\")\n",
    "    \n",
    "@log(\"main done\")\n",
    "def main():\n",
    "    print(\"main done\")\n",
    "    \n",
    "test()\n",
    "main()"
   ]
  },
  {
   "cell_type": "markdown",
   "metadata": {},
   "source": [
    "#### 详解装饰器"
   ]
  },
  {
   "cell_type": "code",
   "execution_count": 4,
   "metadata": {},
   "outputs": [
    {
     "name": "stdout",
     "output_type": "stream",
     "text": [
      "hello!\n",
      "hello!\n"
     ]
    }
   ],
   "source": [
    "def say_hello():\n",
    "    print(\"hello!\")\n",
    "    \n",
    "def say_goodbye():\n",
    "    print(\"hello!\") # bug here\n",
    "     \n",
    "if  __name__ == '__main__':\n",
    "    say_hello()\n",
    "    say_goodbye()"
   ]
  },
  {
   "cell_type": "code",
   "execution_count": null,
   "metadata": {},
   "outputs": [],
   "source": []
  },
  {
   "cell_type": "code",
   "execution_count": null,
   "metadata": {},
   "outputs": [],
   "source": []
  },
  {
   "cell_type": "code",
   "execution_count": null,
   "metadata": {},
   "outputs": [],
   "source": []
  },
  {
   "cell_type": "code",
   "execution_count": null,
   "metadata": {},
   "outputs": [],
   "source": []
  },
  {
   "cell_type": "code",
   "execution_count": null,
   "metadata": {},
   "outputs": [],
   "source": []
  },
  {
   "cell_type": "code",
   "execution_count": null,
   "metadata": {},
   "outputs": [],
   "source": []
  },
  {
   "cell_type": "code",
   "execution_count": null,
   "metadata": {},
   "outputs": [],
   "source": []
  }
 ],
 "metadata": {
  "kernelspec": {
   "display_name": "Python 3",
   "language": "python",
   "name": "python3"
  },
  "language_info": {
   "codemirror_mode": {
    "name": "ipython",
    "version": 3
   },
   "file_extension": ".py",
   "mimetype": "text/x-python",
   "name": "python",
   "nbconvert_exporter": "python",
   "pygments_lexer": "ipython3",
   "version": "3.6.5"
  }
 },
 "nbformat": 4,
 "nbformat_minor": 2
}
