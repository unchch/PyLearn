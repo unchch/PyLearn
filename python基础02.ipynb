{
 "cells": [
  {
   "cell_type": "markdown",
   "metadata": {},
   "source": [
    "## 字符串的格式化\n",
    "- 把字符串按照一定格式打印或者填充\n",
    "- 格式化的两种方法\n",
    "    - 利用百分号 %\n",
    "    - 利用 format 函数    "
   ]
  },
  {
   "cell_type": "code",
   "execution_count": 22,
   "metadata": {},
   "outputs": [
    {
     "name": "stdout",
     "output_type": "stream",
     "text": [
      "I love %s\n"
     ]
    }
   ],
   "source": [
    "s = \"I love %s\"\n",
    "print(s)\n"
   ]
  },
  {
   "cell_type": "code",
   "execution_count": 23,
   "metadata": {},
   "outputs": [
    {
     "name": "stdout",
     "output_type": "stream",
     "text": [
      "I love xiaoliu\n"
     ]
    }
   ],
   "source": [
    "print(\"I love %s\"%\"xiaoliu\")"
   ]
  },
  {
   "cell_type": "code",
   "execution_count": 24,
   "metadata": {},
   "outputs": [
    {
     "name": "stdout",
     "output_type": "stream",
     "text": [
      "I love xiaoliu\n"
     ]
    }
   ],
   "source": [
    "print(s%\"xiaoliu\")"
   ]
  },
  {
   "cell_type": "code",
   "execution_count": 26,
   "metadata": {},
   "outputs": [
    {
     "name": "stdout",
     "output_type": "stream",
     "text": [
      "I am  %d years old!\n",
      "I am  18 years old!\n"
     ]
    }
   ],
   "source": [
    "m = \"I am  %d years old!\"\n",
    "print(m)\n",
    "print(m%18)"
   ]
  },
  {
   "cell_type": "code",
   "execution_count": 29,
   "metadata": {},
   "outputs": [
    {
     "name": "stdout",
     "output_type": "stream",
     "text": [
      "My name is %s, I am %d years old!\n",
      "My name is tlxy, I am 18 years old!\n"
     ]
    }
   ],
   "source": [
    "n = \"My name is %s, I am %d years old!\"\n",
    "print(n)\n",
    "# 有几个占位符，则必须有几个值\n",
    "# 多个占位符，则相应内容需要用括号括起来\n",
    "print(n%(\"tlxy\",18))"
   ]
  },
  {
   "cell_type": "markdown",
   "metadata": {},
   "source": [
    "### format函数格式化字符串\n",
    "- 直接用format函数进行格式化\n",
    "- 推荐使用这种方法\n",
    "-在使用上，以{}和: 替代%号，后面用format带参数完成"
   ]
  },
  {
   "cell_type": "code",
   "execution_count": 35,
   "metadata": {},
   "outputs": [
    {
     "name": "stdout",
     "output_type": "stream",
     "text": [
      "I love LiXiaoJing\n",
      "Yes, I am 18 years old, I love tlxy and I am 18 years old\n"
     ]
    }
   ],
   "source": [
    "s = \"I love {}\".format(\"LiXiaoJing\")\n",
    "print(s)\n",
    "\n",
    "s = \"Yes, I am {1} years old, I love {0} and I am {1} years old\".format(\"tlxy\",18)\n",
    "print(s)"
   ]
  }
 ],
 "metadata": {
  "kernelspec": {
   "display_name": "Python 3",
   "language": "python",
   "name": "python3"
  },
  "language_info": {
   "codemirror_mode": {
    "name": "ipython",
    "version": 3
   },
   "file_extension": ".py",
   "mimetype": "text/x-python",
   "name": "python",
   "nbconvert_exporter": "python",
   "pygments_lexer": "ipython3",
   "version": "3.6.5"
  }
 },
 "nbformat": 4,
 "nbformat_minor": 2
}
