{
 "cells": [
  {
   "cell_type": "code",
   "execution_count": null,
   "metadata": {},
   "outputs": [],
   "source": [
    "# Python数据类型的内置函数\n",
    "- str\n",
    "- list\n",
    "- dict\n",
    "- set"
   ]
  },
  {
   "cell_type": "markdown",
   "metadata": {},
   "source": [
    "# 字符串的简单操作"
   ]
  },
  {
   "cell_type": "code",
   "execution_count": 11,
   "metadata": {},
   "outputs": [
    {
     "name": "stdout",
     "output_type": "stream",
     "text": [
      "i lovewangxiaoing\n",
      "i love wangxiaoing\n",
      "i love wang xiaojing\n"
     ]
    }
   ],
   "source": [
    "# 链接操作\n",
    "s1 =  \"i love\"\n",
    "s2 = \"wangxiaoing\"\n",
    "s3 = s1 + s2\n",
    "\n",
    "print(s3)\n",
    "print(s1 + \" \" + s2)\n",
    "print(\"i love \" + \"wang xiaojing\")"
   ]
  },
  {
   "cell_type": "code",
   "execution_count": 13,
   "metadata": {},
   "outputs": [
    {
     "name": "stdout",
     "output_type": "stream",
     "text": [
      " i love wang xiaojing i love wang xiaojing i love wang xiaojing i love wang xiaojing i love wang xiaojing i love wang xiaojing i love wang xiaojing i love wang xiaojing i love wang xiaojing i love wang xiaojing\n"
     ]
    }
   ],
   "source": [
    "# 字符串的乘法\n",
    "s = \" i love wang xiaojing\"\n",
    "s2 = s * 10\n",
    "print(s2)"
   ]
  },
  {
   "cell_type": "code",
   "execution_count": null,
   "metadata": {},
   "outputs": [],
   "source": [
    "# 字符串当成列表\n",
    "\n",
    "s = \" i love wang xiaojing\"\n",
    "print(s[1])\n",
    "print(s[-1])\n",
    "\n",
    "s = \"123456789\"\n",
    "print(s[2:6])\n",
    "print(s[:])\n",
    "\n",
    "# 完整切片返回的是一组全新的字符串吗？\n",
    "# 如果切片一部分，则返回全新的字符串\n",
    "# 如果取完整切片，可能返回内容指向同一字符串\n",
    "\n",
    "s = \"i love wang xiaojing and zhang xiaojing\"\n",
    "s1 = s[:]\n",
    "\n",
    "print(id(s))\n",
    "print(id(s1))\n",
    "#  不能直接对字符串进行下标元素赋值，会导致错误\n",
    "s1[1] = 'A'\n",
    "print(s)\n",
    "pring(s1)\n"
   ]
  },
  {
   "cell_type": "code",
   "execution_count": 3,
   "metadata": {},
   "outputs": [
    {
     "name": "stdout",
     "output_type": "stream",
     "text": [
      "4511893896\n",
      "4511339272\n",
      "4511276680\n"
     ]
    }
   ],
   "source": [
    "# 用实验证明切片和完整切片的区别\n",
    "\n",
    "l = [1,2,3,4,5,6,7,8,9100]\n",
    "l1 = l[:6]\n",
    "print(id(l))\n",
    "print(id(l1))\n",
    "\n",
    "l2 = l[:6]\n",
    "print(id(l2))\n"
   ]
  },
  {
   "cell_type": "code",
   "execution_count": null,
   "metadata": {},
   "outputs": [],
   "source": [
    "help(str)"
   ]
  },
  {
   "cell_type": "code",
   "execution_count": 11,
   "metadata": {},
   "outputs": [
    {
     "name": "stdout",
     "output_type": "stream",
     "text": [
      " i love wangxiaojing\n"
     ]
    }
   ],
   "source": [
    "# capitalize 首字母大写，其余小写\n",
    "s = \" I Love WANGXIAOJING\"\n",
    "print(s.capitalize())"
   ]
  },
  {
   "cell_type": "code",
   "execution_count": 12,
   "metadata": {},
   "outputs": [
    {
     "name": "stdout",
     "output_type": "stream",
     "text": [
      "I Love Wangxiaojing\n"
     ]
    }
   ],
   "source": [
    "# title() 将每个单词的首字母大写，其余小写\n",
    "s = \"i love wangxiaojing\"\n",
    "s1 = s.title()\n",
    "print(s1)"
   ]
  },
  {
   "cell_type": "code",
   "execution_count": 14,
   "metadata": {},
   "outputs": [
    {
     "name": "stdout",
     "output_type": "stream",
     "text": [
      "I 很 LIKE DOG\n"
     ]
    }
   ],
   "source": [
    "# upper() 将所有字母变为大写字母，返回的事字符串\n",
    "\n",
    "s = \"I 很 like dog\"\n",
    "s1 = s.upper()\n",
    "print(s1)"
   ]
  },
  {
   "cell_type": "code",
   "execution_count": 15,
   "metadata": {},
   "outputs": [
    {
     "name": "stdout",
     "output_type": "stream",
     "text": [
      "i 非常  like dog\n"
     ]
    }
   ],
   "source": [
    "# lower() 将所有字母变为小写，返回的也是字符串\n",
    "\n",
    "s = \"I 非常  LIKE DOg\"\n",
    "s1 = s.lower()\n",
    "print(s1)"
   ]
  },
  {
   "cell_type": "code",
   "execution_count": 16,
   "metadata": {},
   "outputs": [
    {
     "name": "stdout",
     "output_type": "stream",
     "text": [
      "I lIKE DoG\n"
     ]
    }
   ],
   "source": [
    "# swapcase() 大小写互换， 返回的是字符串s\n",
    "\n",
    "s = \"i Like dOg\"\n",
    "s1 = s.swapcase()\n",
    "print(s1)"
   ]
  },
  {
   "cell_type": "code",
   "execution_count": 18,
   "metadata": {
    "scrolled": true
   },
   "outputs": [
    {
     "name": "stdout",
     "output_type": "stream",
     "text": [
      "10\n",
      "15\n"
     ]
    }
   ],
   "source": [
    "# len() 计算字符串长度，不属于字符串的内建函数\n",
    "# len统计长度是按字符串个数统计，一个汉字长度为1\n",
    "\n",
    "s1 = \"l like dog\"\n",
    "s2 = \"l very like dog\"\n",
    "print(len(s1))\n",
    "print(len(s2))"
   ]
  },
  {
   "cell_type": "code",
   "execution_count": 28,
   "metadata": {},
   "outputs": [
    {
     "name": "stdout",
     "output_type": "stream",
     "text": [
      "-1\n",
      "1\n"
     ]
    }
   ],
   "source": [
    "# find()  查找制定字符串，找不到返回-1，找到的第一个值返回第一次索引值\n",
    "# index() 查找指定字符串，找不到报错\n",
    "\n",
    "s = \"abcdefghijklmn\"\n",
    "s1 = s.find('e',6)\n",
    "s2 = s.index('b')\n",
    "\n",
    "print(s1)\n",
    "print(s2)"
   ]
  },
  {
   "cell_type": "code",
   "execution_count": 31,
   "metadata": {},
   "outputs": [
    {
     "name": "stdout",
     "output_type": "stream",
     "text": [
      "5\n"
     ]
    }
   ],
   "source": [
    "# count() 计算字符串出现的次数，返回整数\n",
    "s = \"asmfmaemwasdg\\erwmrtmsrns\"\n",
    "print(s.count('m'))"
   ]
  },
  {
   "cell_type": "code",
   "execution_count": 33,
   "metadata": {},
   "outputs": [
    {
     "name": "stdout",
     "output_type": "stream",
     "text": [
      "True\n",
      "False\n",
      "====================\n",
      "True\n",
      "False\n"
     ]
    }
   ],
   "source": [
    "#  startswith() 检测是否以指定字母开头 返回布尔值\n",
    "# endswith() 检测是否以指定字母结束\n",
    "\n",
    "s = \"i love wangxiaojing\"\n",
    "print(s.startswith('i'))\n",
    "print(s.startswith('I'))\n",
    "\n",
    "print(\"=\" * 20)\n",
    "\n",
    "print(s.endswith('g'))\n",
    "print(s.endswith('G'))"
   ]
  },
  {
   "cell_type": "code",
   "execution_count": 37,
   "metadata": {},
   "outputs": [
    {
     "name": "stdout",
     "output_type": "stream",
     "text": [
      "False\n",
      "True\n",
      "====================\n",
      "True\n",
      "False\n",
      "====================\n",
      "True\n",
      "False\n",
      "====================\n",
      "True\n",
      "False\n",
      "False\n"
     ]
    }
   ],
   "source": [
    "#isupper() 检测所有字母是否是大写字母 返回布尔值\n",
    "#中文没有大小写之说，所以此处检测时不考虑中文\n",
    "s1 = \"I LIKE fiSH\"\n",
    "s2 = \"LOVE 狗DOG\"\n",
    "print(s1.isupper())\n",
    "print(s2.isupper())\n",
    "print(\"=\" * 20)\n",
    "\n",
    "# islower() 检测所有字母是否是小写字母\n",
    "s1 = \"i love raymond\"\n",
    "s2 = \" i love Raymond\"\n",
    "print(s1.islower())\n",
    "print(s2.islower())\n",
    "print(\"=\" * 20)\n",
    "\n",
    "# istitle() 检测是否以指定标题格式显示（每个单词首字母大写）\n",
    "s1 = \"My Name Is Raymond\"\n",
    "s2 = \"my Name is raymond\"\n",
    "print(s1.istitle())\n",
    "print(s2.istitle())\n",
    "print(\"=\" * 20)\n",
    "\n",
    "# isspace() 检测字符串是否事空字符串\n",
    "s1 = '         '\n",
    "s2 = \"i like     \"\n",
    "s3 = '' #至少有一个，否则返回false\n",
    "print(s1.isspace())\n",
    "print(s2.isspace())\n",
    "print(s3.isspace())"
   ]
  },
  {
   "cell_type": "code",
   "execution_count": 43,
   "metadata": {},
   "outputs": [
    {
     "name": "stdout",
     "output_type": "stream",
     "text": [
      "False\n",
      "True\n"
     ]
    }
   ],
   "source": [
    "# isalpha 检测字符串是否是由字母组成  返回布尔值\n",
    "# 注意空格不是字母\n",
    "# 汉字也被当成字母处理\n",
    "s1 = \"i like dog\"\n",
    "s2 = \"iike狗dog\"\n",
    "\n",
    "print(s1.isalpha())\n",
    "print(s2.isalpha())"
   ]
  },
  {
   "cell_type": "code",
   "execution_count": 44,
   "metadata": {},
   "outputs": [],
   "source": [
    "# islalnum 检测字符串是否由字母或数字组成 返回布尔值\n",
    "# 全是字母 或者全是数组均为true\n",
    "# 但不能出现空格或者特殊字符"
   ]
  },
  {
   "cell_type": "code",
   "execution_count": 45,
   "metadata": {},
   "outputs": [],
   "source": [
    "# isdigit() 检测是否都是由数字构成\n",
    "# isdecimal()    十进制的\n",
    "# isnumberic()   数字的"
   ]
  },
  {
   "cell_type": "code",
   "execution_count": 46,
   "metadata": {},
   "outputs": [],
   "source": [
    "# split() 用指定的字符切割\n",
    "# splitlines() 以换行切割字符串\n",
    "# join()  将列表按指定的字符连接，返回字符串\n",
    "\n"
   ]
  },
  {
   "cell_type": "code",
   "execution_count": 47,
   "metadata": {},
   "outputs": [],
   "source": [
    "# ljust()\n",
    "#center()\n",
    "# rjust()"
   ]
  },
  {
   "cell_type": "code",
   "execution_count": 48,
   "metadata": {},
   "outputs": [],
   "source": [
    "# strip() 去掉左右两边指定字符，默认是空格\n",
    "# lstrip() 去掉左边指定的字符，默认是空格\n",
    "# rstrip() 去掉右边指定的字符， 默认是空格"
   ]
  },
  {
   "cell_type": "code",
   "execution_count": 49,
   "metadata": {},
   "outputs": [],
   "source": [
    "# zfill()  指定字符串长度，内容靠右，不足位置用0补足"
   ]
  },
  {
   "cell_type": "code",
   "execution_count": 50,
   "metadata": {},
   "outputs": [
    {
     "name": "stdout",
     "output_type": "stream",
     "text": [
      "{23567: 22823, 28818: 30333, 32905: 33756}\n",
      "今晚吃的大白菜，可好吃了\n"
     ]
    }
   ],
   "source": [
    "# maketrans()  生成用于字符串替换的映射表\n",
    "# translate()  进行字符串替换\n",
    "\n",
    "s = \"今晚吃的小炒肉，可好吃了\"\n",
    "table = s.maketrans('小炒肉','大白菜')\n",
    "\n",
    "print(table)\n",
    "print(s.translate(table))\n",
    "\n",
    "# 注意替换字符的长度需一致"
   ]
  }
 ],
 "metadata": {
  "kernelspec": {
   "display_name": "Python 3",
   "language": "python",
   "name": "python3"
  },
  "language_info": {
   "codemirror_mode": {
    "name": "ipython",
    "version": 3
   },
   "file_extension": ".py",
   "mimetype": "text/x-python",
   "name": "python",
   "nbconvert_exporter": "python",
   "pygments_lexer": "ipython3",
   "version": "3.6.5"
  }
 },
 "nbformat": 4,
 "nbformat_minor": 2
}
