{
 "cells": [
  {
   "cell_type": "markdown",
   "metadata": {},
   "source": [
    "# 参数四类\n",
    "- 普通参数\n",
    "- 默认参数\n",
    "- 关键字参数\n",
    "- 手机参数\n",
    "\n",
    "## 关键字参数\n",
    "- 语法\n",
    "\n",
    "        def func(p1=v1, p2=v2, ...)\n",
    "            func_body\n",
    "        \n",
    "        调用函数：\n",
    "        func(p1=value1, p2=value2, ...)\n",
    "        \n",
    "- 比价麻烦，但有好处:\n",
    "    - 不易混淆，一般实参和形参只是按位置对应，容易混淆\n",
    "    - 使用关键字参数，可以不考虑参数位置\n",
    "\n"
   ]
  },
  {
   "cell_type": "code",
   "execution_count": 19,
   "metadata": {},
   "outputs": [
    {
     "name": "stdout",
     "output_type": "stream",
     "text": [
      "I am a student\n",
      "我叫jingjing, 今年18岁, 我住在深圳\n",
      "I am a student\n",
      "我叫jingjing, 今年18岁, 我住在深圳\n",
      "I am a student\n",
      "我叫jingjing, 今年18岁, 我住在深圳\n"
     ]
    }
   ],
   "source": [
    "## 关键字参数示例\n",
    "\n",
    "def stu(name, age, addr):\n",
    "    print(\"I am a student\")\n",
    "    print(\"我叫{0}, 今年{1}岁, 我住在{2}\".format(name, age, addr))\n",
    "    \n",
    "n = \"jingjing\"\n",
    "a = 18\n",
    "ad = \"深圳\"\n",
    "\n",
    "# 形参和实参按位置传递，容易出错\n",
    "stu(n,a,ad)\n",
    "\n",
    "\n",
    "def stu_key(name=\"NoName\", age=18, addr=\"No Addr\"):\n",
    "    print(\"I am a student\")\n",
    "    print(\"我叫{0}, 今年{1}岁, 我住在{2}\".format(name, age, addr))\n",
    "    \n",
    "n = \"jingjing\"\n",
    "a = 18\n",
    "ad = \"深圳\"\n",
    "\n",
    "\n",
    "stu_key(name=n, age=a, addr=ad)\n",
    "# 关键字参数，相对于位置参数，调用时参数顺序是可以不对应的\n",
    "stu_key(age=a, name=n, addr=ad)\n",
    "\n"
   ]
  },
  {
   "cell_type": "markdown",
   "metadata": {},
   "source": [
    "## 收集参数\n",
    "- 把没有位置，不能和定义时的参数位置县对应的参数，放入一个特定的数据结构中\n",
    "- 语法\n",
    "\n",
    "        def func(*args):\n",
    "            func_body\n",
    "            按照list使用的方式，访问args得到传入的参数\n",
    "         调用：\n",
    "         func(p1, p2, p3, ...)\n",
    "\n",
    "- 参数名args不是必须这么写，但是我们推荐直接用args,约定俗成\n",
    "- 参数名args钱需要有 * 符号，表明是一个收集参数\n",
    "- 手机参数可以和其他参数共存\n"
   ]
  },
  {
   "cell_type": "code",
   "execution_count": 39,
   "metadata": {},
   "outputs": [
    {
     "name": "stdout",
     "output_type": "stream",
     "text": [
      "Hello，大家好，自我介绍下，简答说两句\n",
      "<class 'tuple'>\n",
      "liuling\n",
      "18\n",
      "深圳南山\n",
      "喜欢小6\n",
      "单身\n",
      "==================================================\n",
      "Hello，大家好，自我介绍下，简答说两句\n",
      "<class 'tuple'>\n",
      "周大神\n"
     ]
    }
   ],
   "source": [
    "# 收集参数示例\n",
    "# 学生自我介绍，具体内容不太清楚\n",
    "# args 可以看成一个列表\n",
    "\n",
    "def stu( *args):\n",
    "    print(\"Hello，大家好，自我介绍下，简答说两句\")\n",
    "    \n",
    "    # type 函数的左右检测变量的类型\n",
    "    print(type(args))\n",
    "    \n",
    "    for item in args:\n",
    "        print(item)\n",
    "\n",
    "stu(\"liuling\", 18, \"深圳南山\", \"喜欢小6\", \"单身\" )\n",
    "\n",
    "print(\"=\" * 50)\n",
    "\n",
    "stu(\"周大神\")\n",
    "\n",
    "\n"
   ]
  },
  {
   "cell_type": "code",
   "execution_count": 30,
   "metadata": {},
   "outputs": [
    {
     "name": "stdout",
     "output_type": "stream",
     "text": [
      "Hello，大家好，自我介绍下，简答说两句\n",
      "<class 'tuple'>\n"
     ]
    }
   ],
   "source": [
    "# 说明手机参数可以不带任何实参调用，此时手机参数为空tuple\n",
    "stu()"
   ]
  },
  {
   "cell_type": "code",
   "execution_count": 31,
   "metadata": {},
   "outputs": [
    {
     "ename": "TypeError",
     "evalue": "stu() got an unexpected keyword argument 'name'",
     "output_type": "error",
     "traceback": [
      "\u001b[1;31m---------------------------------------------------------------------------\u001b[0m",
      "\u001b[1;31mTypeError\u001b[0m                                 Traceback (most recent call last)",
      "\u001b[1;32m<ipython-input-31-69b2fcc847bf>\u001b[0m in \u001b[0;36m<module>\u001b[1;34m()\u001b[0m\n\u001b[0;32m      1\u001b[0m \u001b[1;31m# 如果使用关键字参数调用，会出现问题\u001b[0m\u001b[1;33m\u001b[0m\u001b[1;33m\u001b[0m\u001b[0m\n\u001b[1;32m----> 2\u001b[1;33m \u001b[0mstu\u001b[0m\u001b[1;33m(\u001b[0m\u001b[0mname\u001b[0m \u001b[1;33m=\u001b[0m\u001b[1;34m\"liuying\"\u001b[0m\u001b[1;33m)\u001b[0m\u001b[1;33m\u001b[0m\u001b[0m\n\u001b[0m",
      "\u001b[1;31mTypeError\u001b[0m: stu() got an unexpected keyword argument 'name'"
     ]
    }
   ],
   "source": [
    "# 如果使用关键字参数调用，会出现问题\n",
    "stu(name =\"liuying\")"
   ]
  },
  {
   "cell_type": "markdown",
   "metadata": {},
   "source": [
    "### 收集参数值之关键字收集参数\n",
    "- 把关键字参数按字典的格式存入收集参数\n",
    "- 语法：\n",
    "\n",
    "        def func(**kwargs):\n",
    "            func_body\n",
    "            \n",
    "         # 调用：\n",
    "         func(p1=v1, p2=v2, p3=v3, ...)\n",
    "         \n",
    "- kwargs  一般约定俗称使用\n",
    "- 调用的时候，把多余的关键字参数放入kwargs\n",
    "- 访问kwargs时需要按照字典格式访问"
   ]
  },
  {
   "cell_type": "code",
   "execution_count": 41,
   "metadata": {},
   "outputs": [
    {
     "name": "stdout",
     "output_type": "stream",
     "text": [
      "Hello 大家好，我先自我介绍一下！\n",
      "<class 'dict'>\n",
      "name --- liuying\n",
      "age --- 19\n",
      "addr --- 深圳南山\n",
      "work --- ops\n",
      "==================================================\n",
      "Hello 大家好，我先自我介绍一下！\n",
      "<class 'dict'>\n",
      "name --- 周大神\n",
      "Hello 大家好，我先自我介绍一下！\n",
      "<class 'dict'>\n"
     ]
    }
   ],
   "source": [
    "# 关键字收集参数示例\n",
    "# 自我介绍\n",
    "# 调用的时候需要使用关键字参数调用\n",
    "\n",
    "def stu( **kwargs):\n",
    "    print(\"Hello 大家好，我先自我介绍一下！\")\n",
    "    print(type(kwargs))\n",
    "    \n",
    "    # 对于字典的访问，python2和python3是有区别的\n",
    "    for k,v in kwargs.items():\n",
    "        print(k,\"---\",v)\n",
    "    \n",
    "stu(name=\"liuying\", age=19, addr=\"深圳南山\", work=\"ops\")\n",
    "print(\"=\" * 50)\n",
    "\n",
    "stu(name=\"周大神\")\n",
    "\n",
    "# 关键字收集参数也可以为空\n",
    "stu()"
   ]
  },
  {
   "cell_type": "markdown",
   "metadata": {},
   "source": [
    "### 收集参数混合调用的顺序问题\n",
    "- 收集参数，关键字参数，普通参数是可以混合使用的\n",
    "- 使用规则，普通参数和关键字参数优先声明\n",
    "- 定义的时候一般 普通参数， 关键字参数， 收集参数tuple, 收集参数dict"
   ]
  },
  {
   "cell_type": "code",
   "execution_count": null,
   "metadata": {},
   "outputs": [],
   "source": [
    "# 收集参数的混合调用示例\n",
    "# stu模拟一个学生自我介绍\n",
    "\n",
    "def stu(name, age, *args, hobby=\"没有\", **kwargs):\n",
    "    print(\"Hello 大家好\")\n",
    "    print(\"我叫{0}, 我今年{1}岁。 \".format(name,age))\n",
    "    if hobby == \"没有\":\n",
    "        print(\"我没有爱好,so sorry\")\n",
    "    else:\n",
    "        print(\"我的爱好是{0}\".format(hobby))\n",
    "        \n",
    "    print(\"=\" * 50)\n",
    "    \n",
    "    for i in args:\n",
    "        print(i)\n",
    "        \n",
    "    print(\"=\" * 30)\n",
    "    \n",
    "    for k,v in kwargs.items():\n",
    "        print(k, \"---\", v)\n",
    "        \n",
    "        \n",
    "# 开始调用函数\n",
    "name = \"liuying\"\n",
    "age = 19\n",
    "\n",
    "# 调用的不同格式\n",
    "stu(name, age, hobby=\"看电影\")\n",
    "\n",
    "stu(name, age, \"王晓静\", \"刘石头\", hobby=\"游泳\", hobby1=\"看电影\", hobby2=\"跟不同女生聊天\")"
   ]
  },
  {
   "cell_type": "markdown",
   "metadata": {},
   "source": [
    " ### 收集参数的解包问题\n",
    " - 把参数放入list或者dict中，直接把list/dict 中的值放入收集参数中\n",
    " - 语法：查看示例"
   ]
  },
  {
   "cell_type": "code",
   "execution_count": null,
   "metadata": {},
   "outputs": [],
   "source": [
    "# 收集参数的解包问题\n",
    "\n",
    "def stu( *args):\n",
    "    print(\"hello\")\n",
    "    \n",
    "    n = 0\n",
    "    for i in args:\n",
    "        print(type(i))\n",
    "        print(n)\n",
    "        n += 1\n",
    "        print(i)\n",
    "        \n",
    "# stu(\"liuying\",\"liuxiaojing\", 19, 200) \n",
    "\n",
    "\n",
    "l = list()\n",
    "l.append(\"liuying\")\n",
    "l.append(20)\n",
    "l.append(230)\n",
    "\n",
    "stu(l)\n",
    "\n",
    "# 此时 args 的表现形式是tuple内是一个list类型的元素，即['liuying', 20, 230] 作为一个整体参数了，这个参数就是一个list\n",
    "# 与我们的想法相违背\n",
    "\n",
    "# 此时的调用，我们需要用解包符号，即调用前面加一个 * 符号\n",
    "stu(*l)\n",
    "\n",
    "\n",
    "# 同理， dict 类型收集参数一样可以解包，但是\n",
    "- 对dict类型进行解包，需要用两个 * 符号\n",
    "\n"
   ]
  },
  {
   "cell_type": "markdown",
   "metadata": {},
   "source": [
    "# 返回值\n",
    "- 函数和过程的区别\n",
    "    - 有无返回值\n",
    "- 需要用 return 显示返回内容\n",
    "- 如果没有返回值，则默认为 None\n",
    "- 推荐写法，无论有无返回值，最后都用 return 结束\n",
    "   "
   ]
  },
  {
   "cell_type": "code",
   "execution_count": 73,
   "metadata": {},
   "outputs": [
    {
     "name": "stdout",
     "output_type": "stream",
     "text": [
      "有返回值呀\n",
      "1\n",
      "没有返回值呀\n",
      "None\n"
     ]
    }
   ],
   "source": [
    "# 返回值示例\n",
    "\n",
    "def func_1():\n",
    "    print(\"有返回值呀\")\n",
    "    return 1\n",
    "\n",
    "def func_2():\n",
    "    print(\"没有返回值呀\")\n",
    "    return None\n",
    "    \n",
    "f1 = func_1()\n",
    "print(f1)\n",
    "\n",
    "f2 = func_2()\n",
    "print(f2)"
   ]
  },
  {
   "cell_type": "markdown",
   "metadata": {},
   "source": [
    "# 函数文档\n",
    "- 函数的文档的作用是为当前函数提供使用方法和参考信息\n",
    "- 文档的写法\n",
    "    - 在函数内部开始的第一样使用三字符串定义文档\n",
    "    - 一般具有特定格式\n",
    "- 文档查看\n",
    "    - 使用help(func_name)\n",
    "    - 使用__doc__"
   ]
  },
  {
   "cell_type": "code",
   "execution_count": 82,
   "metadata": {},
   "outputs": [],
   "source": [
    "# 文档示例\n",
    "# 函数stu是一个模拟学生的自我介绍\n",
    "\n",
    "def stu(name, age, *args):\n",
    "    '''\n",
    "    这是帮助文档第一行\n",
    "    这是第二行\n",
    "    '''\n",
    "    \n",
    "    print(\"this is function stu\")\n"
   ]
  },
  {
   "cell_type": "code",
   "execution_count": 83,
   "metadata": {},
   "outputs": [
    {
     "name": "stdout",
     "output_type": "stream",
     "text": [
      "Help on function stu in module __main__:\n",
      "\n",
      "stu(name, age, *args)\n",
      "    这是帮助文档第一行\n",
      "    这是第二行\n",
      "\n"
     ]
    },
    {
     "data": {
      "text/plain": [
       "'\\n    这是帮助文档第一行\\n    这是第二行\\n    '"
      ]
     },
     "execution_count": 83,
     "metadata": {},
     "output_type": "execute_result"
    }
   ],
   "source": [
    "# 查看文档的方法\n",
    "help(stu)\n",
    "stu.__doc__"
   ]
  },
  {
   "cell_type": "code",
   "execution_count": 84,
   "metadata": {},
   "outputs": [
    {
     "name": "stdout",
     "output_type": "stream",
     "text": [
      "Help on function stu in module __main__:\n",
      "\n",
      "stu(name, age)\n",
      "     定义一个学生\n",
      "    :param name: 学生的姓名\n",
      "    :param age: 学生的年龄\n",
      "    :return: 此函数没有返回值\n",
      "\n",
      "None\n",
      "==================================================\n",
      "\n",
      "     定义一个学生\n",
      "    :param name: 学生的姓名\n",
      "    :param age: 学生的年龄\n",
      "    :return: 此函数没有返回值\n",
      "    \n"
     ]
    }
   ],
   "source": [
    "def stu(name, age):\n",
    "    '''\n",
    "     定义一个学生\n",
    "    :param name: 学生的姓名\n",
    "    :param age: 学生的年龄\n",
    "    :return: 此函数没有返回值\n",
    "    '''\n",
    "    pass\n",
    "\n",
    "print(help(stu))\n",
    "print(\"=\" * 50)\n",
    "print(stu.__doc__)"
   ]
  },
  {
   "cell_type": "code",
   "execution_count": null,
   "metadata": {},
   "outputs": [],
   "source": []
  }
 ],
 "metadata": {
  "kernelspec": {
   "display_name": "Python 3",
   "language": "python",
   "name": "python3"
  },
  "language_info": {
   "codemirror_mode": {
    "name": "ipython",
    "version": 3
   },
   "file_extension": ".py",
   "mimetype": "text/x-python",
   "name": "python",
   "nbconvert_exporter": "python",
   "pygments_lexer": "ipython3",
   "version": "3.6.5"
  }
 },
 "nbformat": 4,
 "nbformat_minor": 2
}
