{
 "cells": [
  {
   "cell_type": "code",
   "execution_count": 21,
   "metadata": {},
   "outputs": [
    {
     "name": "stdout",
     "output_type": "stream",
     "text": [
      "dana\n",
      "********************\n",
      "\"sec\"\n",
      "********************\n",
      "sleeping ... ... \n",
      "********************\n",
      "9527\n",
      "quiet\n",
      "********************\n",
      "dana\n",
      "********************\n",
      "make some money ...\n",
      "quiet\n"
     ]
    }
   ],
   "source": [
    "# 继承的语法\n",
    "# Python 中，任何一个类都一个父类叫object\n",
    "\n",
    "class Person():\n",
    "    name  = \"NoName\"\n",
    "    age = 0\n",
    "    __score = 59 # 考试成绩是私密，只能自己知道\n",
    "    _petname = '\"sec\"'  # 小名受保护的，子类可以用，但不能共用\n",
    "    \n",
    "    def sleep(self):\n",
    "        print(\"sleeping ... ... \")\n",
    "        \n",
    "    def work(self):\n",
    "        print(\"make some money ...\")\n",
    "        \n",
    "# 父类写在括号内\n",
    "class Teacher(Person):\n",
    "    teacher_id = \"9527\"\n",
    "    name = \"dana\"\n",
    "    \n",
    "    def make_test(self):\n",
    "        print(\"quiet\")\n",
    "        \n",
    "    def work(self):\n",
    "        # 扩充父类的方法\n",
    "        # Person.work(self)\n",
    "        # 扩充父类的另一种方法，super 代表父类\n",
    "        super().work()\n",
    "        self.make_test()\n",
    "        \n",
    "        \n",
    "\n",
    "t = Teacher()\n",
    "print(t.name)\n",
    "print(\"*\" * 20)\n",
    "\n",
    "# 受保护的内容，子类可以访问\n",
    "print(t._petname)\n",
    "print(\"*\" * 20)\n",
    "\n",
    "# 私有的不能访问\n",
    "# print(t.__score)\n",
    "# print(\"*\" * 20)\n",
    "\n",
    "# 子类继承了父类的方法\n",
    "t.sleep()\n",
    "print(\"*\" * 20)\n",
    "\n",
    "# 子类有自己独有的成员和方法\n",
    "print(t.teacher_id)\n",
    "t.make_test()\n",
    "print(\"*\" * 20)\n",
    "\n",
    "# 子类与父类都有的属性，优先子类\n",
    "print(t.name)\n",
    "print(\"*\" * 20)\n",
    "\n",
    "# 子类扩充父类的 work 方法\n",
    "t.work()"
   ]
  },
  {
   "cell_type": "code",
   "execution_count": 22,
   "metadata": {},
   "outputs": [
    {
     "name": "stdout",
     "output_type": "stream",
     "text": [
      "I' am init a dog\n"
     ]
    }
   ],
   "source": [
    "#　构造函数\n",
    "class Dog():\n",
    "    # __init__ 构造函数\n",
    "    #  每次实例化时第一次被调用\n",
    "    # 初始化而得名\n",
    "    \n",
    "    def __init__(self):\n",
    "        print(\"I' am init a dog\")\n",
    "\n",
    "        \n",
    "# 实例化的时候，括号内的参数需要跟构造函数匹配        \n",
    "kaka = Dog()        "
   ]
  },
  {
   "cell_type": "code",
   "execution_count": 26,
   "metadata": {},
   "outputs": [
    {
     "name": "stdout",
     "output_type": "stream",
     "text": [
      "I' am init a dog\n",
      "Paxing Dongwu\n"
     ]
    }
   ],
   "source": [
    "# 继承中的构造函数\n",
    "class Animal():\n",
    "    def __init__(self):\n",
    "        print(\"Animal\")\n",
    "\n",
    "class PaXingAni(Animal):\n",
    "    def __init__(self):\n",
    "        print(\"Paxing Dongwu\")\n",
    "    pass\n",
    "\n",
    "class Dog(PaXingAni):\n",
    "    # __init__ 构造函数\n",
    "    #  每次实例化时第一次被调用\n",
    "    # 初始化而得名    \n",
    "    def __init__(self):\n",
    "        print(\"I' am init a dog\")\n",
    "        \n",
    "# 实例化的时候，自动调用了Dog的构造函数\n",
    "# 自己有构造函数，不再查找父类的构造函数\n",
    "kaka = Dog()    \n",
    "\n",
    "# 猫没有写构造函数\n",
    "class Cat(PaXingAni):\n",
    "    pass\n",
    "\n",
    "c = Cat()"
   ]
  },
  {
   "cell_type": "code",
   "execution_count": 30,
   "metadata": {},
   "outputs": [
    {
     "name": "stdout",
     "output_type": "stream",
     "text": [
      "I' am init a dog\n"
     ]
    },
    {
     "ename": "NameError",
     "evalue": "name 'self' is not defined",
     "output_type": "error",
     "traceback": [
      "\u001b[0;31m---------------------------------------------------------------------------\u001b[0m",
      "\u001b[0;31mNameError\u001b[0m                                 Traceback (most recent call last)",
      "\u001b[0;32m<ipython-input-30-2a0a0ece8eee>\u001b[0m in \u001b[0;36m<module>\u001b[0;34m()\u001b[0m\n\u001b[1;32m     24\u001b[0m \u001b[0;31m# 此时，由于Cat没有构造函数，则往上查找\u001b[0m\u001b[0;34m\u001b[0m\u001b[0;34m\u001b[0m\u001b[0m\n\u001b[1;32m     25\u001b[0m \u001b[0;31m# 因为PaXingAni 需要两个采纳数，实例化只有一个默认的self参数，参数不匹配，会报错\u001b[0m\u001b[0;34m\u001b[0m\u001b[0;34m\u001b[0m\u001b[0m\n\u001b[0;32m---> 26\u001b[0;31m \u001b[0mc\u001b[0m \u001b[0;34m=\u001b[0m \u001b[0mCat\u001b[0m\u001b[0;34m(\u001b[0m\u001b[0mself\u001b[0m\u001b[0;34m,\u001b[0m\u001b[0mtna\u001b[0m\u001b[0;34m)\u001b[0m\u001b[0;34m\u001b[0m\u001b[0m\n\u001b[0m",
      "\u001b[0;31mNameError\u001b[0m: name 'self' is not defined"
     ]
    }
   ],
   "source": [
    "# 继承3\n",
    "\n",
    "class Animal():\n",
    "    def __init__(self):\n",
    "        print(\"Animal\")\n",
    "\n",
    "class PaXingAni(Animal):\n",
    "    def __init__(self,name):\n",
    "        print(\"Paxing Dongwu {0}\".format(name))\n",
    "    pass\n",
    "\n",
    "class Dog(PaXingAni):\n",
    "    # __init__ 构造函数\n",
    "    #  每次实例化时第一次被调用\n",
    "    # 初始化而得名    \n",
    "    def __init__(self):\n",
    "        print(\"I' am init a dog\")\n",
    "\n",
    "# 实例化Dog时，查找到了Dog类自己的构造函数，参数匹配，不会报错\n",
    "d = Dog()\n",
    "\n",
    "class Cat(PaXingAni):\n",
    "    pass\n",
    "# 此时，由于 Cat 没有构造函数，则往上查找\n",
    "# 因为PaXingAni 需要两个参数，实例化只有一个默认的 self 参数，参数不匹配，会报错\n",
    "c = Cat()"
   ]
  },
  {
   "cell_type": "code",
   "execution_count": 31,
   "metadata": {},
   "outputs": [
    {
     "name": "stdout",
     "output_type": "stream",
     "text": [
      "<class 'type'>\n"
     ]
    }
   ],
   "source": [
    "print(type(super))"
   ]
  },
  {
   "cell_type": "code",
   "execution_count": 32,
   "metadata": {},
   "outputs": [
    {
     "name": "stdout",
     "output_type": "stream",
     "text": [
      "Help on class super in module builtins:\n",
      "\n",
      "class super(object)\n",
      " |  super() -> same as super(__class__, <first argument>)\n",
      " |  super(type) -> unbound super object\n",
      " |  super(type, obj) -> bound super object; requires isinstance(obj, type)\n",
      " |  super(type, type2) -> bound super object; requires issubclass(type2, type)\n",
      " |  Typical use to call a cooperative superclass method:\n",
      " |  class C(B):\n",
      " |      def meth(self, arg):\n",
      " |          super().meth(arg)\n",
      " |  This works for class methods too:\n",
      " |  class C(B):\n",
      " |      @classmethod\n",
      " |      def cmeth(cls, arg):\n",
      " |          super().cmeth(arg)\n",
      " |  \n",
      " |  Methods defined here:\n",
      " |  \n",
      " |  __get__(self, instance, owner, /)\n",
      " |      Return an attribute of instance, which is of type owner.\n",
      " |  \n",
      " |  __getattribute__(self, name, /)\n",
      " |      Return getattr(self, name).\n",
      " |  \n",
      " |  __init__(self, /, *args, **kwargs)\n",
      " |      Initialize self.  See help(type(self)) for accurate signature.\n",
      " |  \n",
      " |  __new__(*args, **kwargs) from builtins.type\n",
      " |      Create and return a new object.  See help(type) for accurate signature.\n",
      " |  \n",
      " |  __repr__(self, /)\n",
      " |      Return repr(self).\n",
      " |  \n",
      " |  ----------------------------------------------------------------------\n",
      " |  Data descriptors defined here:\n",
      " |  \n",
      " |  __self__\n",
      " |      the instance invoking super(); may be None\n",
      " |  \n",
      " |  __self_class__\n",
      " |      the type of the instance invoking super(); may be None\n",
      " |  \n",
      " |  __thisclass__\n",
      " |      the class invoking super()\n",
      "\n"
     ]
    }
   ],
   "source": [
    "help(super)"
   ]
  },
  {
   "cell_type": "code",
   "execution_count": null,
   "metadata": {},
   "outputs": [],
   "source": []
  }
 ],
 "metadata": {
  "kernelspec": {
   "display_name": "Python 3",
   "language": "python",
   "name": "python3"
  },
  "language_info": {
   "codemirror_mode": {
    "name": "ipython",
    "version": 3
   },
   "file_extension": ".py",
   "mimetype": "text/x-python",
   "name": "python",
   "nbconvert_exporter": "python",
   "pygments_lexer": "ipython3",
   "version": "3.6.5"
  }
 },
 "nbformat": 4,
 "nbformat_minor": 2
}
